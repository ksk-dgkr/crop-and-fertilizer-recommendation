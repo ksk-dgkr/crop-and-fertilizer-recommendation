{
 "cells": [
  {
   "cell_type": "code",
   "execution_count": 412,
   "id": "192dc59d",
   "metadata": {
    "id": "192dc59d"
   },
   "outputs": [],
   "source": [
    "import pandas as pd\n",
    "import numpy as np\n",
    "import seaborn as sns\n",
    "import matplotlib.pyplot as plt"
   ]
  },
  {
   "cell_type": "code",
   "execution_count": 413,
   "id": "11c91938",
   "metadata": {
    "id": "11c91938"
   },
   "outputs": [
    {
     "data": {
      "text/html": [
       "<div>\n",
       "<style scoped>\n",
       "    .dataframe tbody tr th:only-of-type {\n",
       "        vertical-align: middle;\n",
       "    }\n",
       "\n",
       "    .dataframe tbody tr th {\n",
       "        vertical-align: top;\n",
       "    }\n",
       "\n",
       "    .dataframe thead th {\n",
       "        text-align: right;\n",
       "    }\n",
       "</style>\n",
       "<table border=\"1\" class=\"dataframe\">\n",
       "  <thead>\n",
       "    <tr style=\"text-align: right;\">\n",
       "      <th></th>\n",
       "      <th>N</th>\n",
       "      <th>P</th>\n",
       "      <th>K</th>\n",
       "      <th>temperature</th>\n",
       "      <th>humidity</th>\n",
       "      <th>ph</th>\n",
       "      <th>rainfall</th>\n",
       "      <th>label</th>\n",
       "    </tr>\n",
       "  </thead>\n",
       "  <tbody>\n",
       "    <tr>\n",
       "      <th>0</th>\n",
       "      <td>90</td>\n",
       "      <td>42</td>\n",
       "      <td>43</td>\n",
       "      <td>20.879744</td>\n",
       "      <td>82.002744</td>\n",
       "      <td>6.502985</td>\n",
       "      <td>202.935536</td>\n",
       "      <td>rice</td>\n",
       "    </tr>\n",
       "    <tr>\n",
       "      <th>1</th>\n",
       "      <td>85</td>\n",
       "      <td>58</td>\n",
       "      <td>41</td>\n",
       "      <td>21.770462</td>\n",
       "      <td>80.319644</td>\n",
       "      <td>7.038096</td>\n",
       "      <td>226.655537</td>\n",
       "      <td>rice</td>\n",
       "    </tr>\n",
       "    <tr>\n",
       "      <th>2</th>\n",
       "      <td>60</td>\n",
       "      <td>55</td>\n",
       "      <td>44</td>\n",
       "      <td>23.004459</td>\n",
       "      <td>82.320763</td>\n",
       "      <td>7.840207</td>\n",
       "      <td>263.964248</td>\n",
       "      <td>rice</td>\n",
       "    </tr>\n",
       "    <tr>\n",
       "      <th>3</th>\n",
       "      <td>74</td>\n",
       "      <td>35</td>\n",
       "      <td>40</td>\n",
       "      <td>26.491096</td>\n",
       "      <td>80.158363</td>\n",
       "      <td>6.980401</td>\n",
       "      <td>242.864034</td>\n",
       "      <td>rice</td>\n",
       "    </tr>\n",
       "    <tr>\n",
       "      <th>4</th>\n",
       "      <td>78</td>\n",
       "      <td>42</td>\n",
       "      <td>42</td>\n",
       "      <td>20.130175</td>\n",
       "      <td>81.604873</td>\n",
       "      <td>7.628473</td>\n",
       "      <td>262.717340</td>\n",
       "      <td>rice</td>\n",
       "    </tr>\n",
       "  </tbody>\n",
       "</table>\n",
       "</div>"
      ],
      "text/plain": [
       "    N   P   K  temperature   humidity        ph    rainfall label\n",
       "0  90  42  43    20.879744  82.002744  6.502985  202.935536  rice\n",
       "1  85  58  41    21.770462  80.319644  7.038096  226.655537  rice\n",
       "2  60  55  44    23.004459  82.320763  7.840207  263.964248  rice\n",
       "3  74  35  40    26.491096  80.158363  6.980401  242.864034  rice\n",
       "4  78  42  42    20.130175  81.604873  7.628473  262.717340  rice"
      ]
     },
     "execution_count": 413,
     "metadata": {},
     "output_type": "execute_result"
    }
   ],
   "source": [
    "\n",
    "import os, types\n",
    "import pandas as pd\n",
    "from botocore.client import Config\n",
    "import ibm_boto3\n",
    "\n",
    "def __iter__(self): return 0\n",
    "\n",
    "# @hidden_cell\n",
    "# The following code accesses a file in your IBM Cloud Object Storage. It includes your credentials.\n",
    "# You might want to remove those credentials before you share the notebook.\n",
    "cos_client = ibm_boto3.client(service_name='s3',\n",
    "    ibm_api_key_id='ldhfIqhcgh3tRCy5PolYy_gR7loWakDDvxJBmrS58XqC',\n",
    "    ibm_auth_endpoint=\"https://iam.cloud.ibm.com/oidc/token\",\n",
    "    config=Config(signature_version='oauth'),\n",
    "    endpoint_url='https://s3.private.us.cloud-object-storage.appdomain.cloud')\n",
    "\n",
    "bucket = 'croprecommendation-donotdelete-pr-wbu2e1ya1mvtrm'\n",
    "object_key = 'Crop_recommendation (1).csv'\n",
    "\n",
    "body = cos_client.get_object(Bucket=bucket,Key=object_key)['Body']\n",
    "# add missing __iter__ method, so pandas accepts body as file-like object\n",
    "if not hasattr(body, \"__iter__\"): body.__iter__ = types.MethodType( __iter__, body )\n",
    "\n",
    "df = pd.read_csv(body)\n",
    "df.head()\n"
   ]
  },
  {
   "cell_type": "code",
   "execution_count": 414,
   "id": "e236dcf2",
   "metadata": {
    "colab": {
     "base_uri": "https://localhost:8080/",
     "height": 206
    },
    "id": "e236dcf2",
    "outputId": "c299befa-6c0e-4316-8253-ac385f689f70"
   },
   "outputs": [
    {
     "data": {
      "text/html": [
       "<div>\n",
       "<style scoped>\n",
       "    .dataframe tbody tr th:only-of-type {\n",
       "        vertical-align: middle;\n",
       "    }\n",
       "\n",
       "    .dataframe tbody tr th {\n",
       "        vertical-align: top;\n",
       "    }\n",
       "\n",
       "    .dataframe thead th {\n",
       "        text-align: right;\n",
       "    }\n",
       "</style>\n",
       "<table border=\"1\" class=\"dataframe\">\n",
       "  <thead>\n",
       "    <tr style=\"text-align: right;\">\n",
       "      <th></th>\n",
       "      <th>N</th>\n",
       "      <th>P</th>\n",
       "      <th>K</th>\n",
       "      <th>temperature</th>\n",
       "      <th>humidity</th>\n",
       "      <th>ph</th>\n",
       "      <th>rainfall</th>\n",
       "      <th>label</th>\n",
       "    </tr>\n",
       "  </thead>\n",
       "  <tbody>\n",
       "    <tr>\n",
       "      <th>0</th>\n",
       "      <td>90</td>\n",
       "      <td>42</td>\n",
       "      <td>43</td>\n",
       "      <td>20.879744</td>\n",
       "      <td>82.002744</td>\n",
       "      <td>6.502985</td>\n",
       "      <td>202.935536</td>\n",
       "      <td>rice</td>\n",
       "    </tr>\n",
       "    <tr>\n",
       "      <th>1</th>\n",
       "      <td>85</td>\n",
       "      <td>58</td>\n",
       "      <td>41</td>\n",
       "      <td>21.770462</td>\n",
       "      <td>80.319644</td>\n",
       "      <td>7.038096</td>\n",
       "      <td>226.655537</td>\n",
       "      <td>rice</td>\n",
       "    </tr>\n",
       "    <tr>\n",
       "      <th>2</th>\n",
       "      <td>60</td>\n",
       "      <td>55</td>\n",
       "      <td>44</td>\n",
       "      <td>23.004459</td>\n",
       "      <td>82.320763</td>\n",
       "      <td>7.840207</td>\n",
       "      <td>263.964248</td>\n",
       "      <td>rice</td>\n",
       "    </tr>\n",
       "    <tr>\n",
       "      <th>3</th>\n",
       "      <td>74</td>\n",
       "      <td>35</td>\n",
       "      <td>40</td>\n",
       "      <td>26.491096</td>\n",
       "      <td>80.158363</td>\n",
       "      <td>6.980401</td>\n",
       "      <td>242.864034</td>\n",
       "      <td>rice</td>\n",
       "    </tr>\n",
       "    <tr>\n",
       "      <th>4</th>\n",
       "      <td>78</td>\n",
       "      <td>42</td>\n",
       "      <td>42</td>\n",
       "      <td>20.130175</td>\n",
       "      <td>81.604873</td>\n",
       "      <td>7.628473</td>\n",
       "      <td>262.717340</td>\n",
       "      <td>rice</td>\n",
       "    </tr>\n",
       "  </tbody>\n",
       "</table>\n",
       "</div>"
      ],
      "text/plain": [
       "    N   P   K  temperature   humidity        ph    rainfall label\n",
       "0  90  42  43    20.879744  82.002744  6.502985  202.935536  rice\n",
       "1  85  58  41    21.770462  80.319644  7.038096  226.655537  rice\n",
       "2  60  55  44    23.004459  82.320763  7.840207  263.964248  rice\n",
       "3  74  35  40    26.491096  80.158363  6.980401  242.864034  rice\n",
       "4  78  42  42    20.130175  81.604873  7.628473  262.717340  rice"
      ]
     },
     "execution_count": 414,
     "metadata": {},
     "output_type": "execute_result"
    }
   ],
   "source": [
    "df.head()"
   ]
  },
  {
   "cell_type": "code",
   "execution_count": 415,
   "id": "31caef78",
   "metadata": {
    "id": "31caef78"
   },
   "outputs": [],
   "source": [
    "# DATA DICTIONARY & EDA( Exploratory Data Analysis )"
   ]
  },
  {
   "cell_type": "code",
   "execution_count": 416,
   "id": "89d299da",
   "metadata": {
    "colab": {
     "base_uri": "https://localhost:8080/"
    },
    "id": "89d299da",
    "outputId": "6a10404b-fc94-445b-a967-d2ffaef69fa4"
   },
   "outputs": [
    {
     "name": "stdout",
     "output_type": "stream",
     "text": [
      "<class 'pandas.core.frame.DataFrame'>\n",
      "RangeIndex: 2200 entries, 0 to 2199\n",
      "Data columns (total 8 columns):\n",
      " #   Column       Non-Null Count  Dtype  \n",
      "---  ------       --------------  -----  \n",
      " 0   N            2200 non-null   int64  \n",
      " 1   P            2200 non-null   int64  \n",
      " 2   K            2200 non-null   int64  \n",
      " 3   temperature  2200 non-null   float64\n",
      " 4   humidity     2200 non-null   float64\n",
      " 5   ph           2200 non-null   float64\n",
      " 6   rainfall     2200 non-null   float64\n",
      " 7   label        2200 non-null   object \n",
      "dtypes: float64(4), int64(3), object(1)\n",
      "memory usage: 137.6+ KB\n"
     ]
    }
   ],
   "source": [
    "df.info()"
   ]
  },
  {
   "cell_type": "code",
   "execution_count": 417,
   "id": "e306a3b7",
   "metadata": {
    "colab": {
     "base_uri": "https://localhost:8080/",
     "height": 206
    },
    "id": "e306a3b7",
    "outputId": "e567e413-22e5-49b7-c582-a442dd935079"
   },
   "outputs": [
    {
     "data": {
      "text/html": [
       "<div>\n",
       "<style scoped>\n",
       "    .dataframe tbody tr th:only-of-type {\n",
       "        vertical-align: middle;\n",
       "    }\n",
       "\n",
       "    .dataframe tbody tr th {\n",
       "        vertical-align: top;\n",
       "    }\n",
       "\n",
       "    .dataframe thead th {\n",
       "        text-align: right;\n",
       "    }\n",
       "</style>\n",
       "<table border=\"1\" class=\"dataframe\">\n",
       "  <thead>\n",
       "    <tr style=\"text-align: right;\">\n",
       "      <th></th>\n",
       "      <th>N</th>\n",
       "      <th>P</th>\n",
       "      <th>K</th>\n",
       "      <th>temperature</th>\n",
       "      <th>humidity</th>\n",
       "      <th>ph</th>\n",
       "      <th>rainfall</th>\n",
       "      <th>label</th>\n",
       "    </tr>\n",
       "  </thead>\n",
       "  <tbody>\n",
       "    <tr>\n",
       "      <th>0</th>\n",
       "      <td>90</td>\n",
       "      <td>42</td>\n",
       "      <td>43</td>\n",
       "      <td>20.879744</td>\n",
       "      <td>82.002744</td>\n",
       "      <td>6.502985</td>\n",
       "      <td>202.935536</td>\n",
       "      <td>rice</td>\n",
       "    </tr>\n",
       "    <tr>\n",
       "      <th>1</th>\n",
       "      <td>85</td>\n",
       "      <td>58</td>\n",
       "      <td>41</td>\n",
       "      <td>21.770462</td>\n",
       "      <td>80.319644</td>\n",
       "      <td>7.038096</td>\n",
       "      <td>226.655537</td>\n",
       "      <td>rice</td>\n",
       "    </tr>\n",
       "    <tr>\n",
       "      <th>2</th>\n",
       "      <td>60</td>\n",
       "      <td>55</td>\n",
       "      <td>44</td>\n",
       "      <td>23.004459</td>\n",
       "      <td>82.320763</td>\n",
       "      <td>7.840207</td>\n",
       "      <td>263.964248</td>\n",
       "      <td>rice</td>\n",
       "    </tr>\n",
       "    <tr>\n",
       "      <th>3</th>\n",
       "      <td>74</td>\n",
       "      <td>35</td>\n",
       "      <td>40</td>\n",
       "      <td>26.491096</td>\n",
       "      <td>80.158363</td>\n",
       "      <td>6.980401</td>\n",
       "      <td>242.864034</td>\n",
       "      <td>rice</td>\n",
       "    </tr>\n",
       "    <tr>\n",
       "      <th>4</th>\n",
       "      <td>78</td>\n",
       "      <td>42</td>\n",
       "      <td>42</td>\n",
       "      <td>20.130175</td>\n",
       "      <td>81.604873</td>\n",
       "      <td>7.628473</td>\n",
       "      <td>262.717340</td>\n",
       "      <td>rice</td>\n",
       "    </tr>\n",
       "  </tbody>\n",
       "</table>\n",
       "</div>"
      ],
      "text/plain": [
       "    N   P   K  temperature   humidity        ph    rainfall label\n",
       "0  90  42  43    20.879744  82.002744  6.502985  202.935536  rice\n",
       "1  85  58  41    21.770462  80.319644  7.038096  226.655537  rice\n",
       "2  60  55  44    23.004459  82.320763  7.840207  263.964248  rice\n",
       "3  74  35  40    26.491096  80.158363  6.980401  242.864034  rice\n",
       "4  78  42  42    20.130175  81.604873  7.628473  262.717340  rice"
      ]
     },
     "execution_count": 417,
     "metadata": {},
     "output_type": "execute_result"
    }
   ],
   "source": [
    "df.head()"
   ]
  },
  {
   "cell_type": "code",
   "execution_count": 418,
   "id": "7e6c2f4c",
   "metadata": {
    "colab": {
     "base_uri": "https://localhost:8080/"
    },
    "id": "7e6c2f4c",
    "outputId": "d49834aa-f3a7-40d8-d123-cf3a98901eec"
   },
   "outputs": [
    {
     "data": {
      "text/plain": [
       "(2200, 8)"
      ]
     },
     "execution_count": 418,
     "metadata": {},
     "output_type": "execute_result"
    }
   ],
   "source": [
    "df.shape"
   ]
  },
  {
   "cell_type": "code",
   "execution_count": 419,
   "id": "0dd093e7",
   "metadata": {
    "colab": {
     "base_uri": "https://localhost:8080/",
     "height": 269
    },
    "id": "0dd093e7",
    "outputId": "1af1dd49-f16c-4f0d-fccb-96a23700d729"
   },
   "outputs": [
    {
     "data": {
      "text/html": [
       "<div>\n",
       "<style scoped>\n",
       "    .dataframe tbody tr th:only-of-type {\n",
       "        vertical-align: middle;\n",
       "    }\n",
       "\n",
       "    .dataframe tbody tr th {\n",
       "        vertical-align: top;\n",
       "    }\n",
       "\n",
       "    .dataframe thead th {\n",
       "        text-align: right;\n",
       "    }\n",
       "</style>\n",
       "<table border=\"1\" class=\"dataframe\">\n",
       "  <thead>\n",
       "    <tr style=\"text-align: right;\">\n",
       "      <th></th>\n",
       "      <th>count</th>\n",
       "      <th>mean</th>\n",
       "      <th>std</th>\n",
       "      <th>min</th>\n",
       "      <th>25%</th>\n",
       "      <th>50%</th>\n",
       "      <th>75%</th>\n",
       "      <th>max</th>\n",
       "    </tr>\n",
       "  </thead>\n",
       "  <tbody>\n",
       "    <tr>\n",
       "      <th>N</th>\n",
       "      <td>2200.0</td>\n",
       "      <td>50.55</td>\n",
       "      <td>36.92</td>\n",
       "      <td>0.00</td>\n",
       "      <td>21.00</td>\n",
       "      <td>37.00</td>\n",
       "      <td>84.25</td>\n",
       "      <td>140.00</td>\n",
       "    </tr>\n",
       "    <tr>\n",
       "      <th>P</th>\n",
       "      <td>2200.0</td>\n",
       "      <td>53.36</td>\n",
       "      <td>32.99</td>\n",
       "      <td>5.00</td>\n",
       "      <td>28.00</td>\n",
       "      <td>51.00</td>\n",
       "      <td>68.00</td>\n",
       "      <td>145.00</td>\n",
       "    </tr>\n",
       "    <tr>\n",
       "      <th>K</th>\n",
       "      <td>2200.0</td>\n",
       "      <td>48.15</td>\n",
       "      <td>50.65</td>\n",
       "      <td>5.00</td>\n",
       "      <td>20.00</td>\n",
       "      <td>32.00</td>\n",
       "      <td>49.00</td>\n",
       "      <td>205.00</td>\n",
       "    </tr>\n",
       "    <tr>\n",
       "      <th>temperature</th>\n",
       "      <td>2200.0</td>\n",
       "      <td>25.62</td>\n",
       "      <td>5.06</td>\n",
       "      <td>8.83</td>\n",
       "      <td>22.77</td>\n",
       "      <td>25.60</td>\n",
       "      <td>28.56</td>\n",
       "      <td>43.68</td>\n",
       "    </tr>\n",
       "    <tr>\n",
       "      <th>humidity</th>\n",
       "      <td>2200.0</td>\n",
       "      <td>71.48</td>\n",
       "      <td>22.26</td>\n",
       "      <td>14.26</td>\n",
       "      <td>60.26</td>\n",
       "      <td>80.47</td>\n",
       "      <td>89.95</td>\n",
       "      <td>99.98</td>\n",
       "    </tr>\n",
       "    <tr>\n",
       "      <th>ph</th>\n",
       "      <td>2200.0</td>\n",
       "      <td>6.47</td>\n",
       "      <td>0.77</td>\n",
       "      <td>3.50</td>\n",
       "      <td>5.97</td>\n",
       "      <td>6.43</td>\n",
       "      <td>6.92</td>\n",
       "      <td>9.94</td>\n",
       "    </tr>\n",
       "    <tr>\n",
       "      <th>rainfall</th>\n",
       "      <td>2200.0</td>\n",
       "      <td>103.46</td>\n",
       "      <td>54.96</td>\n",
       "      <td>20.21</td>\n",
       "      <td>64.55</td>\n",
       "      <td>94.87</td>\n",
       "      <td>124.27</td>\n",
       "      <td>298.56</td>\n",
       "    </tr>\n",
       "  </tbody>\n",
       "</table>\n",
       "</div>"
      ],
      "text/plain": [
       "              count    mean    std    min    25%    50%     75%     max\n",
       "N            2200.0   50.55  36.92   0.00  21.00  37.00   84.25  140.00\n",
       "P            2200.0   53.36  32.99   5.00  28.00  51.00   68.00  145.00\n",
       "K            2200.0   48.15  50.65   5.00  20.00  32.00   49.00  205.00\n",
       "temperature  2200.0   25.62   5.06   8.83  22.77  25.60   28.56   43.68\n",
       "humidity     2200.0   71.48  22.26  14.26  60.26  80.47   89.95   99.98\n",
       "ph           2200.0    6.47   0.77   3.50   5.97   6.43    6.92    9.94\n",
       "rainfall     2200.0  103.46  54.96  20.21  64.55  94.87  124.27  298.56"
      ]
     },
     "execution_count": 419,
     "metadata": {},
     "output_type": "execute_result"
    }
   ],
   "source": [
    "round(df.describe(),2).T"
   ]
  },
  {
   "cell_type": "code",
   "execution_count": 420,
   "id": "1f14fdc9",
   "metadata": {
    "colab": {
     "base_uri": "https://localhost:8080/"
    },
    "id": "1f14fdc9",
    "outputId": "c1a3ff5f-c269-475a-8e85-1dc7a10cfc5e"
   },
   "outputs": [
    {
     "data": {
      "text/plain": [
       "rice           100\n",
       "maize          100\n",
       "jute           100\n",
       "cotton         100\n",
       "coconut        100\n",
       "papaya         100\n",
       "orange         100\n",
       "apple          100\n",
       "muskmelon      100\n",
       "watermelon     100\n",
       "grapes         100\n",
       "mango          100\n",
       "banana         100\n",
       "pomegranate    100\n",
       "lentil         100\n",
       "blackgram      100\n",
       "mungbean       100\n",
       "mothbeans      100\n",
       "pigeonpeas     100\n",
       "kidneybeans    100\n",
       "chickpea       100\n",
       "coffee         100\n",
       "Name: label, dtype: int64"
      ]
     },
     "execution_count": 420,
     "metadata": {},
     "output_type": "execute_result"
    }
   ],
   "source": [
    "df['label'].value_counts()"
   ]
  },
  {
   "cell_type": "code",
   "execution_count": 421,
   "id": "86ddf6cb",
   "metadata": {
    "id": "86ddf6cb"
   },
   "outputs": [],
   "source": [
    "# bivariate analysis"
   ]
  },
  {
   "cell_type": "code",
   "execution_count": 422,
   "id": "a13a9c90",
   "metadata": {
    "colab": {
     "base_uri": "https://localhost:8080/",
     "height": 206
    },
    "id": "a13a9c90",
    "outputId": "5ed487b5-4715-45cf-c9a9-aaaa3a98f783"
   },
   "outputs": [
    {
     "data": {
      "text/html": [
       "<div>\n",
       "<style scoped>\n",
       "    .dataframe tbody tr th:only-of-type {\n",
       "        vertical-align: middle;\n",
       "    }\n",
       "\n",
       "    .dataframe tbody tr th {\n",
       "        vertical-align: top;\n",
       "    }\n",
       "\n",
       "    .dataframe thead th {\n",
       "        text-align: right;\n",
       "    }\n",
       "</style>\n",
       "<table border=\"1\" class=\"dataframe\">\n",
       "  <thead>\n",
       "    <tr style=\"text-align: right;\">\n",
       "      <th></th>\n",
       "      <th>N</th>\n",
       "      <th>P</th>\n",
       "      <th>K</th>\n",
       "      <th>temperature</th>\n",
       "      <th>humidity</th>\n",
       "      <th>ph</th>\n",
       "      <th>rainfall</th>\n",
       "      <th>label</th>\n",
       "    </tr>\n",
       "  </thead>\n",
       "  <tbody>\n",
       "    <tr>\n",
       "      <th>0</th>\n",
       "      <td>90</td>\n",
       "      <td>42</td>\n",
       "      <td>43</td>\n",
       "      <td>20.879744</td>\n",
       "      <td>82.002744</td>\n",
       "      <td>6.502985</td>\n",
       "      <td>202.935536</td>\n",
       "      <td>rice</td>\n",
       "    </tr>\n",
       "    <tr>\n",
       "      <th>1</th>\n",
       "      <td>85</td>\n",
       "      <td>58</td>\n",
       "      <td>41</td>\n",
       "      <td>21.770462</td>\n",
       "      <td>80.319644</td>\n",
       "      <td>7.038096</td>\n",
       "      <td>226.655537</td>\n",
       "      <td>rice</td>\n",
       "    </tr>\n",
       "    <tr>\n",
       "      <th>2</th>\n",
       "      <td>60</td>\n",
       "      <td>55</td>\n",
       "      <td>44</td>\n",
       "      <td>23.004459</td>\n",
       "      <td>82.320763</td>\n",
       "      <td>7.840207</td>\n",
       "      <td>263.964248</td>\n",
       "      <td>rice</td>\n",
       "    </tr>\n",
       "    <tr>\n",
       "      <th>3</th>\n",
       "      <td>74</td>\n",
       "      <td>35</td>\n",
       "      <td>40</td>\n",
       "      <td>26.491096</td>\n",
       "      <td>80.158363</td>\n",
       "      <td>6.980401</td>\n",
       "      <td>242.864034</td>\n",
       "      <td>rice</td>\n",
       "    </tr>\n",
       "    <tr>\n",
       "      <th>4</th>\n",
       "      <td>78</td>\n",
       "      <td>42</td>\n",
       "      <td>42</td>\n",
       "      <td>20.130175</td>\n",
       "      <td>81.604873</td>\n",
       "      <td>7.628473</td>\n",
       "      <td>262.717340</td>\n",
       "      <td>rice</td>\n",
       "    </tr>\n",
       "  </tbody>\n",
       "</table>\n",
       "</div>"
      ],
      "text/plain": [
       "    N   P   K  temperature   humidity        ph    rainfall label\n",
       "0  90  42  43    20.879744  82.002744  6.502985  202.935536  rice\n",
       "1  85  58  41    21.770462  80.319644  7.038096  226.655537  rice\n",
       "2  60  55  44    23.004459  82.320763  7.840207  263.964248  rice\n",
       "3  74  35  40    26.491096  80.158363  6.980401  242.864034  rice\n",
       "4  78  42  42    20.130175  81.604873  7.628473  262.717340  rice"
      ]
     },
     "execution_count": 422,
     "metadata": {},
     "output_type": "execute_result"
    }
   ],
   "source": [
    "df.head()"
   ]
  },
  {
   "cell_type": "code",
   "execution_count": 423,
   "id": "3ba3e09f",
   "metadata": {
    "colab": {
     "base_uri": "https://localhost:8080/",
     "height": 269
    },
    "id": "3ba3e09f",
    "outputId": "fbbc5ab6-263e-4fe3-a422-6514e49f61ba"
   },
   "outputs": [
    {
     "data": {
      "text/html": [
       "<div>\n",
       "<style scoped>\n",
       "    .dataframe tbody tr th:only-of-type {\n",
       "        vertical-align: middle;\n",
       "    }\n",
       "\n",
       "    .dataframe tbody tr th {\n",
       "        vertical-align: top;\n",
       "    }\n",
       "\n",
       "    .dataframe thead th {\n",
       "        text-align: right;\n",
       "    }\n",
       "</style>\n",
       "<table border=\"1\" class=\"dataframe\">\n",
       "  <thead>\n",
       "    <tr style=\"text-align: right;\">\n",
       "      <th></th>\n",
       "      <th>N</th>\n",
       "      <th>P</th>\n",
       "      <th>K</th>\n",
       "      <th>temperature</th>\n",
       "      <th>humidity</th>\n",
       "      <th>ph</th>\n",
       "      <th>rainfall</th>\n",
       "    </tr>\n",
       "  </thead>\n",
       "  <tbody>\n",
       "    <tr>\n",
       "      <th>N</th>\n",
       "      <td>1.000000</td>\n",
       "      <td>-0.231460</td>\n",
       "      <td>-0.140512</td>\n",
       "      <td>0.026504</td>\n",
       "      <td>0.190688</td>\n",
       "      <td>0.096683</td>\n",
       "      <td>0.059020</td>\n",
       "    </tr>\n",
       "    <tr>\n",
       "      <th>P</th>\n",
       "      <td>-0.231460</td>\n",
       "      <td>1.000000</td>\n",
       "      <td>0.736232</td>\n",
       "      <td>-0.127541</td>\n",
       "      <td>-0.118734</td>\n",
       "      <td>-0.138019</td>\n",
       "      <td>-0.063839</td>\n",
       "    </tr>\n",
       "    <tr>\n",
       "      <th>K</th>\n",
       "      <td>-0.140512</td>\n",
       "      <td>0.736232</td>\n",
       "      <td>1.000000</td>\n",
       "      <td>-0.160387</td>\n",
       "      <td>0.190859</td>\n",
       "      <td>-0.169503</td>\n",
       "      <td>-0.053461</td>\n",
       "    </tr>\n",
       "    <tr>\n",
       "      <th>temperature</th>\n",
       "      <td>0.026504</td>\n",
       "      <td>-0.127541</td>\n",
       "      <td>-0.160387</td>\n",
       "      <td>1.000000</td>\n",
       "      <td>0.205320</td>\n",
       "      <td>-0.017795</td>\n",
       "      <td>-0.030084</td>\n",
       "    </tr>\n",
       "    <tr>\n",
       "      <th>humidity</th>\n",
       "      <td>0.190688</td>\n",
       "      <td>-0.118734</td>\n",
       "      <td>0.190859</td>\n",
       "      <td>0.205320</td>\n",
       "      <td>1.000000</td>\n",
       "      <td>-0.008483</td>\n",
       "      <td>0.094423</td>\n",
       "    </tr>\n",
       "    <tr>\n",
       "      <th>ph</th>\n",
       "      <td>0.096683</td>\n",
       "      <td>-0.138019</td>\n",
       "      <td>-0.169503</td>\n",
       "      <td>-0.017795</td>\n",
       "      <td>-0.008483</td>\n",
       "      <td>1.000000</td>\n",
       "      <td>-0.109069</td>\n",
       "    </tr>\n",
       "    <tr>\n",
       "      <th>rainfall</th>\n",
       "      <td>0.059020</td>\n",
       "      <td>-0.063839</td>\n",
       "      <td>-0.053461</td>\n",
       "      <td>-0.030084</td>\n",
       "      <td>0.094423</td>\n",
       "      <td>-0.109069</td>\n",
       "      <td>1.000000</td>\n",
       "    </tr>\n",
       "  </tbody>\n",
       "</table>\n",
       "</div>"
      ],
      "text/plain": [
       "                    N         P         K  temperature  humidity        ph  \\\n",
       "N            1.000000 -0.231460 -0.140512     0.026504  0.190688  0.096683   \n",
       "P           -0.231460  1.000000  0.736232    -0.127541 -0.118734 -0.138019   \n",
       "K           -0.140512  0.736232  1.000000    -0.160387  0.190859 -0.169503   \n",
       "temperature  0.026504 -0.127541 -0.160387     1.000000  0.205320 -0.017795   \n",
       "humidity     0.190688 -0.118734  0.190859     0.205320  1.000000 -0.008483   \n",
       "ph           0.096683 -0.138019 -0.169503    -0.017795 -0.008483  1.000000   \n",
       "rainfall     0.059020 -0.063839 -0.053461    -0.030084  0.094423 -0.109069   \n",
       "\n",
       "             rainfall  \n",
       "N            0.059020  \n",
       "P           -0.063839  \n",
       "K           -0.053461  \n",
       "temperature -0.030084  \n",
       "humidity     0.094423  \n",
       "ph          -0.109069  \n",
       "rainfall     1.000000  "
      ]
     },
     "execution_count": 423,
     "metadata": {},
     "output_type": "execute_result"
    }
   ],
   "source": [
    "df.corr()"
   ]
  },
  {
   "cell_type": "code",
   "execution_count": 424,
   "id": "5e6959f6",
   "metadata": {
    "id": "5e6959f6"
   },
   "outputs": [],
   "source": [
    "# OBSERVATION"
   ]
  },
  {
   "cell_type": "code",
   "execution_count": 425,
   "id": "282caf74",
   "metadata": {
    "colab": {
     "base_uri": "https://localhost:8080/"
    },
    "id": "282caf74",
    "outputId": "e9624ed4-7eda-43bb-bf8e-b75a3f28fea6"
   },
   "outputs": [
    {
     "data": {
      "text/plain": [
       "array(['rice', 'maize', 'chickpea', 'kidneybeans', 'pigeonpeas',\n",
       "       'mothbeans', 'mungbean', 'blackgram', 'lentil', 'pomegranate',\n",
       "       'banana', 'mango', 'grapes', 'watermelon', 'muskmelon', 'apple',\n",
       "       'orange', 'papaya', 'coconut', 'cotton', 'jute', 'coffee'],\n",
       "      dtype=object)"
      ]
     },
     "execution_count": 425,
     "metadata": {},
     "output_type": "execute_result"
    }
   ],
   "source": [
    "df['label'].unique()"
   ]
  },
  {
   "cell_type": "code",
   "execution_count": 426,
   "id": "97fba5b7",
   "metadata": {
    "colab": {
     "base_uri": "https://localhost:8080/",
     "height": 206
    },
    "id": "97fba5b7",
    "outputId": "661faacf-cad0-4bb1-9602-a52474a74832"
   },
   "outputs": [
    {
     "data": {
      "text/html": [
       "<div>\n",
       "<style scoped>\n",
       "    .dataframe tbody tr th:only-of-type {\n",
       "        vertical-align: middle;\n",
       "    }\n",
       "\n",
       "    .dataframe tbody tr th {\n",
       "        vertical-align: top;\n",
       "    }\n",
       "\n",
       "    .dataframe thead th {\n",
       "        text-align: right;\n",
       "    }\n",
       "</style>\n",
       "<table border=\"1\" class=\"dataframe\">\n",
       "  <thead>\n",
       "    <tr style=\"text-align: right;\">\n",
       "      <th></th>\n",
       "      <th>N</th>\n",
       "      <th>P</th>\n",
       "      <th>K</th>\n",
       "      <th>temperature</th>\n",
       "      <th>humidity</th>\n",
       "      <th>ph</th>\n",
       "      <th>rainfall</th>\n",
       "      <th>label</th>\n",
       "    </tr>\n",
       "  </thead>\n",
       "  <tbody>\n",
       "    <tr>\n",
       "      <th>0</th>\n",
       "      <td>90</td>\n",
       "      <td>42</td>\n",
       "      <td>43</td>\n",
       "      <td>20.879744</td>\n",
       "      <td>82.002744</td>\n",
       "      <td>6.502985</td>\n",
       "      <td>202.935536</td>\n",
       "      <td>rice</td>\n",
       "    </tr>\n",
       "    <tr>\n",
       "      <th>1</th>\n",
       "      <td>85</td>\n",
       "      <td>58</td>\n",
       "      <td>41</td>\n",
       "      <td>21.770462</td>\n",
       "      <td>80.319644</td>\n",
       "      <td>7.038096</td>\n",
       "      <td>226.655537</td>\n",
       "      <td>rice</td>\n",
       "    </tr>\n",
       "    <tr>\n",
       "      <th>2</th>\n",
       "      <td>60</td>\n",
       "      <td>55</td>\n",
       "      <td>44</td>\n",
       "      <td>23.004459</td>\n",
       "      <td>82.320763</td>\n",
       "      <td>7.840207</td>\n",
       "      <td>263.964248</td>\n",
       "      <td>rice</td>\n",
       "    </tr>\n",
       "    <tr>\n",
       "      <th>3</th>\n",
       "      <td>74</td>\n",
       "      <td>35</td>\n",
       "      <td>40</td>\n",
       "      <td>26.491096</td>\n",
       "      <td>80.158363</td>\n",
       "      <td>6.980401</td>\n",
       "      <td>242.864034</td>\n",
       "      <td>rice</td>\n",
       "    </tr>\n",
       "    <tr>\n",
       "      <th>4</th>\n",
       "      <td>78</td>\n",
       "      <td>42</td>\n",
       "      <td>42</td>\n",
       "      <td>20.130175</td>\n",
       "      <td>81.604873</td>\n",
       "      <td>7.628473</td>\n",
       "      <td>262.717340</td>\n",
       "      <td>rice</td>\n",
       "    </tr>\n",
       "  </tbody>\n",
       "</table>\n",
       "</div>"
      ],
      "text/plain": [
       "    N   P   K  temperature   humidity        ph    rainfall label\n",
       "0  90  42  43    20.879744  82.002744  6.502985  202.935536  rice\n",
       "1  85  58  41    21.770462  80.319644  7.038096  226.655537  rice\n",
       "2  60  55  44    23.004459  82.320763  7.840207  263.964248  rice\n",
       "3  74  35  40    26.491096  80.158363  6.980401  242.864034  rice\n",
       "4  78  42  42    20.130175  81.604873  7.628473  262.717340  rice"
      ]
     },
     "execution_count": 426,
     "metadata": {},
     "output_type": "execute_result"
    }
   ],
   "source": [
    "df.head()"
   ]
  },
  {
   "cell_type": "code",
   "execution_count": 427,
   "id": "68227f9f",
   "metadata": {
    "colab": {
     "base_uri": "https://localhost:8080/"
    },
    "id": "68227f9f",
    "outputId": "b62741d6-5273-4a3b-a6e6-9db1b135c814"
   },
   "outputs": [
    {
     "name": "stdout",
     "output_type": "stream",
     "text": [
      "<class 'pandas.core.frame.DataFrame'>\n",
      "RangeIndex: 2200 entries, 0 to 2199\n",
      "Data columns (total 8 columns):\n",
      " #   Column       Non-Null Count  Dtype  \n",
      "---  ------       --------------  -----  \n",
      " 0   N            2200 non-null   int64  \n",
      " 1   P            2200 non-null   int64  \n",
      " 2   K            2200 non-null   int64  \n",
      " 3   temperature  2200 non-null   float64\n",
      " 4   humidity     2200 non-null   float64\n",
      " 5   ph           2200 non-null   float64\n",
      " 6   rainfall     2200 non-null   float64\n",
      " 7   label        2200 non-null   object \n",
      "dtypes: float64(4), int64(3), object(1)\n",
      "memory usage: 137.6+ KB\n"
     ]
    }
   ],
   "source": [
    "df.info()"
   ]
  },
  {
   "cell_type": "code",
   "execution_count": 428,
   "id": "ca044b42",
   "metadata": {
    "id": "ca044b42"
   },
   "outputs": [],
   "source": [
    "dum=pd.get_dummies(df['label'])"
   ]
  },
  {
   "cell_type": "code",
   "execution_count": 429,
   "id": "f8b7d309",
   "metadata": {
    "id": "f8b7d309"
   },
   "outputs": [],
   "source": [
    "x=pd.concat([df.drop('label',axis=1),dum],axis=1)"
   ]
  },
  {
   "cell_type": "code",
   "execution_count": 430,
   "id": "a3d94132",
   "metadata": {
    "id": "a3d94132"
   },
   "outputs": [],
   "source": [
    "y=df['label']"
   ]
  },
  {
   "cell_type": "code",
   "execution_count": 431,
   "id": "5646ad2e",
   "metadata": {
    "colab": {
     "base_uri": "https://localhost:8080/"
    },
    "id": "5646ad2e",
    "outputId": "e73dda93-63b7-45bc-9e11-f60fabb7a07a"
   },
   "outputs": [
    {
     "data": {
      "text/plain": [
       "array(['rice', 'maize', 'chickpea', 'kidneybeans', 'pigeonpeas',\n",
       "       'mothbeans', 'mungbean', 'blackgram', 'lentil', 'pomegranate',\n",
       "       'banana', 'mango', 'grapes', 'watermelon', 'muskmelon', 'apple',\n",
       "       'orange', 'papaya', 'coconut', 'cotton', 'jute', 'coffee'],\n",
       "      dtype=object)"
      ]
     },
     "execution_count": 431,
     "metadata": {},
     "output_type": "execute_result"
    }
   ],
   "source": [
    "df['label'].unique()"
   ]
  },
  {
   "cell_type": "code",
   "execution_count": 432,
   "id": "dd8a8bb7",
   "metadata": {
    "colab": {
     "base_uri": "https://localhost:8080/",
     "height": 770
    },
    "id": "dd8a8bb7",
    "outputId": "b3adb68a-55c3-4e7c-cfe3-5131c7114380"
   },
   "outputs": [
    {
     "data": {
      "text/html": [
       "<div>\n",
       "<style scoped>\n",
       "    .dataframe tbody tr th:only-of-type {\n",
       "        vertical-align: middle;\n",
       "    }\n",
       "\n",
       "    .dataframe tbody tr th {\n",
       "        vertical-align: top;\n",
       "    }\n",
       "\n",
       "    .dataframe thead th {\n",
       "        text-align: right;\n",
       "    }\n",
       "</style>\n",
       "<table border=\"1\" class=\"dataframe\">\n",
       "  <thead>\n",
       "    <tr style=\"text-align: right;\">\n",
       "      <th></th>\n",
       "      <th>N</th>\n",
       "      <th>P</th>\n",
       "      <th>K</th>\n",
       "      <th>temperature</th>\n",
       "      <th>humidity</th>\n",
       "      <th>ph</th>\n",
       "      <th>rainfall</th>\n",
       "    </tr>\n",
       "    <tr>\n",
       "      <th>label</th>\n",
       "      <th></th>\n",
       "      <th></th>\n",
       "      <th></th>\n",
       "      <th></th>\n",
       "      <th></th>\n",
       "      <th></th>\n",
       "      <th></th>\n",
       "    </tr>\n",
       "  </thead>\n",
       "  <tbody>\n",
       "    <tr>\n",
       "      <th>apple</th>\n",
       "      <td>20.80</td>\n",
       "      <td>134.22</td>\n",
       "      <td>199.89</td>\n",
       "      <td>22.630942</td>\n",
       "      <td>92.333383</td>\n",
       "      <td>5.929663</td>\n",
       "      <td>112.654779</td>\n",
       "    </tr>\n",
       "    <tr>\n",
       "      <th>banana</th>\n",
       "      <td>100.23</td>\n",
       "      <td>82.01</td>\n",
       "      <td>50.05</td>\n",
       "      <td>27.376798</td>\n",
       "      <td>80.358123</td>\n",
       "      <td>5.983893</td>\n",
       "      <td>104.626980</td>\n",
       "    </tr>\n",
       "    <tr>\n",
       "      <th>blackgram</th>\n",
       "      <td>40.02</td>\n",
       "      <td>67.47</td>\n",
       "      <td>19.24</td>\n",
       "      <td>29.973340</td>\n",
       "      <td>65.118426</td>\n",
       "      <td>7.133952</td>\n",
       "      <td>67.884151</td>\n",
       "    </tr>\n",
       "    <tr>\n",
       "      <th>chickpea</th>\n",
       "      <td>40.09</td>\n",
       "      <td>67.79</td>\n",
       "      <td>79.92</td>\n",
       "      <td>18.872847</td>\n",
       "      <td>16.860439</td>\n",
       "      <td>7.336957</td>\n",
       "      <td>80.058977</td>\n",
       "    </tr>\n",
       "    <tr>\n",
       "      <th>coconut</th>\n",
       "      <td>21.98</td>\n",
       "      <td>16.93</td>\n",
       "      <td>30.59</td>\n",
       "      <td>27.409892</td>\n",
       "      <td>94.844272</td>\n",
       "      <td>5.976562</td>\n",
       "      <td>175.686646</td>\n",
       "    </tr>\n",
       "    <tr>\n",
       "      <th>coffee</th>\n",
       "      <td>101.20</td>\n",
       "      <td>28.74</td>\n",
       "      <td>29.94</td>\n",
       "      <td>25.540477</td>\n",
       "      <td>58.869846</td>\n",
       "      <td>6.790308</td>\n",
       "      <td>158.066295</td>\n",
       "    </tr>\n",
       "    <tr>\n",
       "      <th>cotton</th>\n",
       "      <td>117.77</td>\n",
       "      <td>46.24</td>\n",
       "      <td>19.56</td>\n",
       "      <td>23.988958</td>\n",
       "      <td>79.843474</td>\n",
       "      <td>6.912675</td>\n",
       "      <td>80.398043</td>\n",
       "    </tr>\n",
       "    <tr>\n",
       "      <th>grapes</th>\n",
       "      <td>23.18</td>\n",
       "      <td>132.53</td>\n",
       "      <td>200.11</td>\n",
       "      <td>23.849575</td>\n",
       "      <td>81.875228</td>\n",
       "      <td>6.025937</td>\n",
       "      <td>69.611829</td>\n",
       "    </tr>\n",
       "    <tr>\n",
       "      <th>jute</th>\n",
       "      <td>78.40</td>\n",
       "      <td>46.86</td>\n",
       "      <td>39.99</td>\n",
       "      <td>24.958376</td>\n",
       "      <td>79.639864</td>\n",
       "      <td>6.732778</td>\n",
       "      <td>174.792798</td>\n",
       "    </tr>\n",
       "    <tr>\n",
       "      <th>kidneybeans</th>\n",
       "      <td>20.75</td>\n",
       "      <td>67.54</td>\n",
       "      <td>20.05</td>\n",
       "      <td>20.115085</td>\n",
       "      <td>21.605357</td>\n",
       "      <td>5.749411</td>\n",
       "      <td>105.919778</td>\n",
       "    </tr>\n",
       "    <tr>\n",
       "      <th>lentil</th>\n",
       "      <td>18.77</td>\n",
       "      <td>68.36</td>\n",
       "      <td>19.41</td>\n",
       "      <td>24.509052</td>\n",
       "      <td>64.804785</td>\n",
       "      <td>6.927932</td>\n",
       "      <td>45.680454</td>\n",
       "    </tr>\n",
       "    <tr>\n",
       "      <th>maize</th>\n",
       "      <td>77.76</td>\n",
       "      <td>48.44</td>\n",
       "      <td>19.79</td>\n",
       "      <td>22.389204</td>\n",
       "      <td>65.092249</td>\n",
       "      <td>6.245190</td>\n",
       "      <td>84.766988</td>\n",
       "    </tr>\n",
       "    <tr>\n",
       "      <th>mango</th>\n",
       "      <td>20.07</td>\n",
       "      <td>27.18</td>\n",
       "      <td>29.92</td>\n",
       "      <td>31.208770</td>\n",
       "      <td>50.156573</td>\n",
       "      <td>5.766373</td>\n",
       "      <td>94.704515</td>\n",
       "    </tr>\n",
       "    <tr>\n",
       "      <th>mothbeans</th>\n",
       "      <td>21.44</td>\n",
       "      <td>48.01</td>\n",
       "      <td>20.23</td>\n",
       "      <td>28.194920</td>\n",
       "      <td>53.160418</td>\n",
       "      <td>6.831174</td>\n",
       "      <td>51.198487</td>\n",
       "    </tr>\n",
       "    <tr>\n",
       "      <th>mungbean</th>\n",
       "      <td>20.99</td>\n",
       "      <td>47.28</td>\n",
       "      <td>19.87</td>\n",
       "      <td>28.525775</td>\n",
       "      <td>85.499975</td>\n",
       "      <td>6.723957</td>\n",
       "      <td>48.403601</td>\n",
       "    </tr>\n",
       "    <tr>\n",
       "      <th>muskmelon</th>\n",
       "      <td>100.32</td>\n",
       "      <td>17.72</td>\n",
       "      <td>50.08</td>\n",
       "      <td>28.663066</td>\n",
       "      <td>92.342802</td>\n",
       "      <td>6.358805</td>\n",
       "      <td>24.689952</td>\n",
       "    </tr>\n",
       "    <tr>\n",
       "      <th>orange</th>\n",
       "      <td>19.58</td>\n",
       "      <td>16.55</td>\n",
       "      <td>10.01</td>\n",
       "      <td>22.765725</td>\n",
       "      <td>92.170209</td>\n",
       "      <td>7.016957</td>\n",
       "      <td>110.474969</td>\n",
       "    </tr>\n",
       "    <tr>\n",
       "      <th>papaya</th>\n",
       "      <td>49.88</td>\n",
       "      <td>59.05</td>\n",
       "      <td>50.04</td>\n",
       "      <td>33.723859</td>\n",
       "      <td>92.403388</td>\n",
       "      <td>6.741442</td>\n",
       "      <td>142.627839</td>\n",
       "    </tr>\n",
       "    <tr>\n",
       "      <th>pigeonpeas</th>\n",
       "      <td>20.73</td>\n",
       "      <td>67.73</td>\n",
       "      <td>20.29</td>\n",
       "      <td>27.741762</td>\n",
       "      <td>48.061633</td>\n",
       "      <td>5.794175</td>\n",
       "      <td>149.457564</td>\n",
       "    </tr>\n",
       "    <tr>\n",
       "      <th>pomegranate</th>\n",
       "      <td>18.87</td>\n",
       "      <td>18.75</td>\n",
       "      <td>40.21</td>\n",
       "      <td>21.837842</td>\n",
       "      <td>90.125504</td>\n",
       "      <td>6.429172</td>\n",
       "      <td>107.528442</td>\n",
       "    </tr>\n",
       "    <tr>\n",
       "      <th>rice</th>\n",
       "      <td>79.89</td>\n",
       "      <td>47.58</td>\n",
       "      <td>39.87</td>\n",
       "      <td>23.689332</td>\n",
       "      <td>82.272822</td>\n",
       "      <td>6.425471</td>\n",
       "      <td>236.181114</td>\n",
       "    </tr>\n",
       "    <tr>\n",
       "      <th>watermelon</th>\n",
       "      <td>99.42</td>\n",
       "      <td>17.00</td>\n",
       "      <td>50.22</td>\n",
       "      <td>25.591767</td>\n",
       "      <td>85.160375</td>\n",
       "      <td>6.495778</td>\n",
       "      <td>50.786219</td>\n",
       "    </tr>\n",
       "  </tbody>\n",
       "</table>\n",
       "</div>"
      ],
      "text/plain": [
       "                  N       P       K  temperature   humidity        ph  \\\n",
       "label                                                                   \n",
       "apple         20.80  134.22  199.89    22.630942  92.333383  5.929663   \n",
       "banana       100.23   82.01   50.05    27.376798  80.358123  5.983893   \n",
       "blackgram     40.02   67.47   19.24    29.973340  65.118426  7.133952   \n",
       "chickpea      40.09   67.79   79.92    18.872847  16.860439  7.336957   \n",
       "coconut       21.98   16.93   30.59    27.409892  94.844272  5.976562   \n",
       "coffee       101.20   28.74   29.94    25.540477  58.869846  6.790308   \n",
       "cotton       117.77   46.24   19.56    23.988958  79.843474  6.912675   \n",
       "grapes        23.18  132.53  200.11    23.849575  81.875228  6.025937   \n",
       "jute          78.40   46.86   39.99    24.958376  79.639864  6.732778   \n",
       "kidneybeans   20.75   67.54   20.05    20.115085  21.605357  5.749411   \n",
       "lentil        18.77   68.36   19.41    24.509052  64.804785  6.927932   \n",
       "maize         77.76   48.44   19.79    22.389204  65.092249  6.245190   \n",
       "mango         20.07   27.18   29.92    31.208770  50.156573  5.766373   \n",
       "mothbeans     21.44   48.01   20.23    28.194920  53.160418  6.831174   \n",
       "mungbean      20.99   47.28   19.87    28.525775  85.499975  6.723957   \n",
       "muskmelon    100.32   17.72   50.08    28.663066  92.342802  6.358805   \n",
       "orange        19.58   16.55   10.01    22.765725  92.170209  7.016957   \n",
       "papaya        49.88   59.05   50.04    33.723859  92.403388  6.741442   \n",
       "pigeonpeas    20.73   67.73   20.29    27.741762  48.061633  5.794175   \n",
       "pomegranate   18.87   18.75   40.21    21.837842  90.125504  6.429172   \n",
       "rice          79.89   47.58   39.87    23.689332  82.272822  6.425471   \n",
       "watermelon    99.42   17.00   50.22    25.591767  85.160375  6.495778   \n",
       "\n",
       "               rainfall  \n",
       "label                    \n",
       "apple        112.654779  \n",
       "banana       104.626980  \n",
       "blackgram     67.884151  \n",
       "chickpea      80.058977  \n",
       "coconut      175.686646  \n",
       "coffee       158.066295  \n",
       "cotton        80.398043  \n",
       "grapes        69.611829  \n",
       "jute         174.792798  \n",
       "kidneybeans  105.919778  \n",
       "lentil        45.680454  \n",
       "maize         84.766988  \n",
       "mango         94.704515  \n",
       "mothbeans     51.198487  \n",
       "mungbean      48.403601  \n",
       "muskmelon     24.689952  \n",
       "orange       110.474969  \n",
       "papaya       142.627839  \n",
       "pigeonpeas   149.457564  \n",
       "pomegranate  107.528442  \n",
       "rice         236.181114  \n",
       "watermelon    50.786219  "
      ]
     },
     "execution_count": 432,
     "metadata": {},
     "output_type": "execute_result"
    }
   ],
   "source": [
    "df.groupby(df['label']).agg(np.mean)"
   ]
  },
  {
   "cell_type": "code",
   "execution_count": 433,
   "id": "ede2b466",
   "metadata": {
    "colab": {
     "base_uri": "https://localhost:8080/",
     "height": 284
    },
    "id": "ede2b466",
    "outputId": "d53e4e4f-77be-4246-8803-dc48b760aeaa"
   },
   "outputs": [
    {
     "data": {
      "text/plain": [
       "<matplotlib.collections.PathCollection at 0x7f4b7806e3a0>"
      ]
     },
     "execution_count": 433,
     "metadata": {},
     "output_type": "execute_result"
    },
    {
     "data": {
      "image/png": "[encoded data removed]",
      "text/plain": [
       "<Figure size 432x288 with 1 Axes>"
      ]
     },
     "metadata": {
      "needs_background": "light"
     },
     "output_type": "display_data"
    }
   ],
   "source": [
    "plt.scatter(df['label'],df['temperature'])"
   ]
  },
  {
   "cell_type": "code",
   "execution_count": 434,
   "id": "b6cb6410",
   "metadata": {
    "colab": {
     "base_uri": "https://localhost:8080/",
     "height": 351
    },
    "id": "b6cb6410",
    "outputId": "af9cd1b7-1b6b-4ed5-d244-f0939dd817da"
   },
   "outputs": [
    {
     "data": {
      "text/plain": [
       "<AxesSubplot:xlabel='temperature', ylabel='Density'>"
      ]
     },
     "execution_count": 434,
     "metadata": {},
     "output_type": "execute_result"
    },
    {
     "data": {
      "image/png": "[encoded data removed]",
      "text/plain": [
       "<Figure size 432x288 with 1 Axes>"
      ]
     },
     "metadata": {
      "needs_background": "light"
     },
     "output_type": "display_data"
    }
   ],
   "source": [
    "sns.distplot(df['temperature'])"
   ]
  },
  {
   "cell_type": "code",
   "execution_count": 435,
   "id": "d33f110c",
   "metadata": {
    "id": "d33f110c"
   },
   "outputs": [],
   "source": [
    "# OUTLIERS "
   ]
  },
  {
   "cell_type": "code",
   "execution_count": 436,
   "id": "caddeedc",
   "metadata": {
    "colab": {
     "base_uri": "https://localhost:8080/",
     "height": 339
    },
    "id": "caddeedc",
    "outputId": "17c4a100-7ff0-4e0e-b961-eff7e0b0ddab"
   },
   "outputs": [
    {
     "data": {
      "text/plain": [
       "<AxesSubplot:>"
      ]
     },
     "execution_count": 436,
     "metadata": {},
     "output_type": "execute_result"
    },
    {
     "data": {
      "image/png": "[encoded data removed]",
      "text/plain": [
       "<Figure size 432x288 with 2 Axes>"
      ]
     },
     "metadata": {
      "needs_background": "light"
     },
     "output_type": "display_data"
    }
   ],
   "source": [
    "sns.heatmap(df.corr(),annot=True)"
   ]
  },
  {
   "cell_type": "code",
   "execution_count": 437,
   "id": "56df873b",
   "metadata": {
    "colab": {
     "base_uri": "https://localhost:8080/",
     "height": 269
    },
    "id": "56df873b",
    "outputId": "9790f1ca-bd93-4eed-a7cf-39b3b35b1d7b"
   },
   "outputs": [
    {
     "data": {
      "text/plain": [
       "<AxesSubplot:ylabel='humidity'>"
      ]
     },
     "execution_count": 437,
     "metadata": {},
     "output_type": "execute_result"
    },
    {
     "data": {
      "image/png": "[encoded data removed]",
      "text/plain": [
       "<Figure size 432x288 with 1 Axes>"
      ]
     },
     "metadata": {
      "needs_background": "light"
     },
     "output_type": "display_data"
    }
   ],
   "source": [
    "sns.boxplot(y=df['humidity'])\n",
    "# 1 outlier --> humidity --> chickpea "
   ]
  },
  {
   "cell_type": "code",
   "execution_count": 438,
   "id": "8884d2ae",
   "metadata": {
    "colab": {
     "base_uri": "https://localhost:8080/",
     "height": 269
    },
    "id": "8884d2ae",
    "outputId": "26a95366-e8e5-4982-852a-4e5928f3807b"
   },
   "outputs": [
    {
     "data": {
      "text/plain": [
       "<AxesSubplot:ylabel='ph'>"
      ]
     },
     "execution_count": 438,
     "metadata": {},
     "output_type": "execute_result"
    },
    {
     "data": {
      "image/png": "[encoded data removed]",
      "text/plain": [
       "<Figure size 432x288 with 1 Axes>"
      ]
     },
     "metadata": {
      "needs_background": "light"
     },
     "output_type": "display_data"
    }
   ],
   "source": [
    "sns.boxplot(y=df['ph'])"
   ]
  },
  {
   "cell_type": "code",
   "execution_count": 439,
   "id": "b3a2562b",
   "metadata": {
    "colab": {
     "base_uri": "https://localhost:8080/",
     "height": 270
    },
    "id": "b3a2562b",
    "outputId": "4b3ed70b-04f0-4cd9-860f-e4c3a330047b"
   },
   "outputs": [
    {
     "data": {
      "text/plain": [
       "<AxesSubplot:ylabel='temperature'>"
      ]
     },
     "execution_count": 439,
     "metadata": {},
     "output_type": "execute_result"
    },
    {
     "data": {
      "image/png": "[encoded data removed]",
      "text/plain": [
       "<Figure size 432x288 with 1 Axes>"
      ]
     },
     "metadata": {
      "needs_background": "light"
     },
     "output_type": "display_data"
    }
   ],
   "source": [
    "sns.boxplot(y=df['temperature'])"
   ]
  },
  {
   "cell_type": "code",
   "execution_count": 440,
   "id": "e4ee2da8",
   "metadata": {
    "colab": {
     "base_uri": "https://localhost:8080/",
     "height": 269
    },
    "id": "e4ee2da8",
    "outputId": "acb64c94-a91c-4c49-e197-3988d965ea9c"
   },
   "outputs": [
    {
     "data": {
      "text/plain": [
       "<AxesSubplot:ylabel='rainfall'>"
      ]
     },
     "execution_count": 440,
     "metadata": {},
     "output_type": "execute_result"
    },
    {
     "data": {
      "image/png": "[encoded data removed]",
      "text/plain": [
       "<Figure size 432x288 with 1 Axes>"
      ]
     },
     "metadata": {
      "needs_background": "light"
     },
     "output_type": "display_data"
    }
   ],
   "source": [
    "sns.boxplot(y=df['rainfall'])"
   ]
  },
  {
   "cell_type": "code",
   "execution_count": 441,
   "id": "9bb8d586",
   "metadata": {
    "colab": {
     "base_uri": "https://localhost:8080/",
     "height": 269
    },
    "id": "9bb8d586",
    "outputId": "1c297a5d-9108-48e2-e479-ad2852349ee5"
   },
   "outputs": [
    {
     "data": {
      "text/plain": [
       "<AxesSubplot:ylabel='N'>"
      ]
     },
     "execution_count": 441,
     "metadata": {},
     "output_type": "execute_result"
    },
    {
     "data": {
      "image/png": "[encoded data removed]",
      "text/plain": [
       "<Figure size 432x288 with 1 Axes>"
      ]
     },
     "metadata": {
      "needs_background": "light"
     },
     "output_type": "display_data"
    }
   ],
   "source": [
    "sns.boxplot(y=df['N'])"
   ]
  },
  {
   "cell_type": "code",
   "execution_count": 442,
   "id": "4c4f2169",
   "metadata": {
    "colab": {
     "base_uri": "https://localhost:8080/",
     "height": 269
    },
    "id": "4c4f2169",
    "outputId": "678b2399-ffba-4463-bb8f-6d1ff5c35771"
   },
   "outputs": [
    {
     "data": {
      "text/plain": [
       "<AxesSubplot:ylabel='P'>"
      ]
     },
     "execution_count": 442,
     "metadata": {},
     "output_type": "execute_result"
    },
    {
     "data": {
      "image/png": "[encoded data removed]",
      "text/plain": [
       "<Figure size 432x288 with 1 Axes>"
      ]
     },
     "metadata": {
      "needs_background": "light"
     },
     "output_type": "display_data"
    }
   ],
   "source": [
    "sns.boxplot(y=df['P'])"
   ]
  },
  {
   "cell_type": "code",
   "execution_count": 443,
   "id": "0e0dbd90",
   "metadata": {
    "colab": {
     "base_uri": "https://localhost:8080/",
     "height": 269
    },
    "id": "0e0dbd90",
    "outputId": "a9efca58-7788-4000-c5d1-df9e2a6c9913"
   },
   "outputs": [
    {
     "data": {
      "text/plain": [
       "<AxesSubplot:ylabel='K'>"
      ]
     },
     "execution_count": 443,
     "metadata": {},
     "output_type": "execute_result"
    },
    {
     "data": {
      "image/png": "[encoded data removed]",
      "text/plain": [
       "<Figure size 432x288 with 1 Axes>"
      ]
     },
     "metadata": {
      "needs_background": "light"
     },
     "output_type": "display_data"
    }
   ],
   "source": [
    "sns.boxplot(y=df['K'])"
   ]
  },
  {
   "cell_type": "markdown",
   "id": "5VLGgWRwKbgt",
   "metadata": {
    "id": "5VLGgWRwKbgt"
   },
   "source": [
    "**Humidity  outliers replacing**"
   ]
  },
  {
   "cell_type": "code",
   "execution_count": 466,
   "id": "58581cb8",
   "metadata": {
    "colab": {
     "base_uri": "https://localhost:8080/",
     "height": 351
    },
    "id": "58581cb8",
    "outputId": "935a4e9a-a9e2-44c0-be3e-77af7860da23"
   },
   "outputs": [
    {
     "data": {
      "text/plain": [
       "<AxesSubplot:xlabel='humidity'>"
      ]
     },
     "execution_count": 466,
     "metadata": {},
     "output_type": "execute_result"
    },
    {
     "data": {
      "image/png": "[encoded data removed]",
      "text/plain": [
       "<Figure size 432x288 with 1 Axes>"
      ]
     },
     "metadata": {
      "needs_background": "light"
     },
     "output_type": "display_data"
    }
   ],
   "source": [
    "sns.boxplot(df.humidity)"
   ]
  },
  {
   "cell_type": "code",
   "execution_count": 467,
   "id": "g5M5CdxDKv7q",
   "metadata": {
    "id": "g5M5CdxDKv7q"
   },
   "outputs": [],
   "source": [
    "q1=df.humidity.quantile(0.25)  #(Q1)\n",
    "q3=df.humidity.quantile(0.75)  #(Q3)"
   ]
  },
  {
   "cell_type": "code",
   "execution_count": 468,
   "id": "uiWPH4gELPt4",
   "metadata": {
    "id": "uiWPH4gELPt4"
   },
   "outputs": [],
   "source": [
    "IQR=q3-q1"
   ]
  },
  {
   "cell_type": "code",
   "execution_count": 469,
   "id": "C6Cz-KsgLRWb",
   "metadata": {
    "id": "C6Cz-KsgLRWb"
   },
   "outputs": [],
   "source": [
    "upper_limit= q3 + 1.5*IQR\n",
    "\n",
    "lower_limit= q1 - 1.5*IQR"
   ]
  },
  {
   "cell_type": "code",
   "execution_count": 470,
   "id": "CT2pIj1eLTj7",
   "metadata": {
    "colab": {
     "base_uri": "https://localhost:8080/"
    },
    "id": "CT2pIj1eLTj7",
    "outputId": "e7c35967-a636-477f-9c98-ce74615ef8fa"
   },
   "outputs": [
    {
     "data": {
      "text/plain": [
       "15.731725873750001"
      ]
     },
     "execution_count": 470,
     "metadata": {},
     "output_type": "execute_result"
    }
   ],
   "source": [
    "lower_limit\n"
   ]
  },
  {
   "cell_type": "code",
   "execution_count": 471,
   "id": "_31qYV98LVMl",
   "metadata": {
    "colab": {
     "base_uri": "https://localhost:8080/"
    },
    "id": "_31qYV98LVMl",
    "outputId": "22fce806-9000-45ef-a06f-872ece0cef36"
   },
   "outputs": [
    {
     "data": {
      "text/plain": [
       "134.47899768374998"
      ]
     },
     "execution_count": 471,
     "metadata": {},
     "output_type": "execute_result"
    }
   ],
   "source": [
    "upper_limit"
   ]
  },
  {
   "cell_type": "code",
   "execution_count": 472,
   "id": "aG7rbaJ1LXO_",
   "metadata": {
    "id": "aG7rbaJ1LXO_"
   },
   "outputs": [],
   "source": [
    "df['humidity']= np.where(df['humidity']<lower_limit,lower_limit,df['humidity'])"
   ]
  },
  {
   "cell_type": "code",
   "execution_count": 473,
   "id": "dKNhV3d-LlkL",
   "metadata": {
    "colab": {
     "base_uri": "https://localhost:8080/",
     "height": 351
    },
    "id": "dKNhV3d-LlkL",
    "outputId": "3ac4ea25-3d3f-4761-bd37-16adec7cc2e9"
   },
   "outputs": [
    {
     "data": {
      "text/plain": [
       "<AxesSubplot:xlabel='humidity'>"
      ]
     },
     "execution_count": 473,
     "metadata": {},
     "output_type": "execute_result"
    },
    {
     "data": {
      "image/png": "[encoded data removed]",
      "text/plain": [
       "<Figure size 432x288 with 1 Axes>"
      ]
     },
     "metadata": {
      "needs_background": "light"
     },
     "output_type": "display_data"
    }
   ],
   "source": [
    "sns.boxplot(df.humidity)"
   ]
  },
  {
   "cell_type": "markdown",
   "id": "PBVKj58xL7iZ",
   "metadata": {
    "id": "PBVKj58xL7iZ"
   },
   "source": [
    "**ph outliers replace**"
   ]
  },
  {
   "cell_type": "code",
   "execution_count": 474,
   "id": "I3-d-N6HMJZY",
   "metadata": {
    "colab": {
     "base_uri": "https://localhost:8080/",
     "height": 271
    },
    "id": "I3-d-N6HMJZY",
    "outputId": "1672003e-79a9-437a-9433-7837c94e60b8"
   },
   "outputs": [
    {
     "data": {
      "text/plain": [
       "<AxesSubplot:ylabel='ph'>"
      ]
     },
     "execution_count": 474,
     "metadata": {},
     "output_type": "execute_result"
    },
    {
     "data": {
      "image/png": "[encoded data removed]",
      "text/plain": [
       "<Figure size 432x288 with 1 Axes>"
      ]
     },
     "metadata": {
      "needs_background": "light"
     },
     "output_type": "display_data"
    }
   ],
   "source": [
    "sns.boxplot(y=df['ph'])"
   ]
  },
  {
   "cell_type": "code",
   "execution_count": 483,
   "id": "l0uVBB1wMP3F",
   "metadata": {
    "id": "l0uVBB1wMP3F"
   },
   "outputs": [],
   "source": [
    "q1=df.ph.quantile(0.25)  #(Q1)\n",
    "q3=df.ph.quantile(0.75)  #(Q3)"
   ]
  },
  {
   "cell_type": "code",
   "execution_count": 484,
   "id": "a9aKIjj3MSIT",
   "metadata": {
    "id": "a9aKIjj3MSIT"
   },
   "outputs": [],
   "source": [
    "IQR=q3-q1"
   ]
  },
  {
   "cell_type": "code",
   "execution_count": 485,
   "id": "YSdtmg2xMTc3",
   "metadata": {
    "id": "YSdtmg2xMTc3"
   },
   "outputs": [],
   "source": [
    "upper_limit= q3 + 1.5*IQR\n",
    "\n",
    "lower_limit= q1 - 1.5*IQR"
   ]
  },
  {
   "cell_type": "code",
   "execution_count": 486,
   "id": "jZT4hKX0MVc3",
   "metadata": {
    "colab": {
     "base_uri": "https://localhost:8080/"
    },
    "id": "jZT4hKX0MVc3",
    "outputId": "dc279fe0-bbbb-4188-aaa0-4d0f69cf9a3a"
   },
   "outputs": [
    {
     "data": {
      "text/plain": [
       "4.543768066249998"
      ]
     },
     "execution_count": 486,
     "metadata": {},
     "output_type": "execute_result"
    }
   ],
   "source": [
    "lower_limit\n"
   ]
  },
  {
   "cell_type": "code",
   "execution_count": 487,
   "id": "G5nTaZ1tMWuz",
   "metadata": {
    "colab": {
     "base_uri": "https://localhost:8080/"
    },
    "id": "G5nTaZ1tMWuz",
    "outputId": "5c0967d5-2de0-4a05-971a-4b9ad24e448d"
   },
   "outputs": [
    {
     "data": {
      "text/plain": [
       "8.351567354250005"
      ]
     },
     "execution_count": 487,
     "metadata": {},
     "output_type": "execute_result"
    }
   ],
   "source": [
    "upper_limit"
   ]
  },
  {
   "cell_type": "code",
   "execution_count": 488,
   "id": "Z3lVgCDqMavP",
   "metadata": {
    "id": "Z3lVgCDqMavP"
   },
   "outputs": [],
   "source": [
    "df['ph']= np.where(df['ph']<lower_limit,lower_limit,df['ph'])"
   ]
  },
  {
   "cell_type": "code",
   "execution_count": 489,
   "id": "bcfb1908",
   "metadata": {},
   "outputs": [
    {
     "data": {
      "text/plain": [
       "<AxesSubplot:xlabel='ph'>"
      ]
     },
     "execution_count": 489,
     "metadata": {},
     "output_type": "execute_result"
    },
    {
     "data": {
      "image/png": "[encoded data removed]",
      "text/plain": [
       "<Figure size 432x288 with 1 Axes>"
      ]
     },
     "metadata": {
      "needs_background": "light"
     },
     "output_type": "display_data"
    }
   ],
   "source": [
    "sns.boxplot(df.ph)"
   ]
  },
  {
   "cell_type": "markdown",
   "id": "uVD99y_bM4Mj",
   "metadata": {
    "id": "uVD99y_bM4Mj"
   },
   "source": [
    "**temperature outliers replace**"
   ]
  },
  {
   "cell_type": "code",
   "execution_count": 505,
   "id": "tdQ2JhnhNIxa",
   "metadata": {
    "colab": {
     "base_uri": "https://localhost:8080/",
     "height": 351
    },
    "id": "tdQ2JhnhNIxa",
    "outputId": "6e77fbcd-9e12-4f54-81b5-c25c31473e2c"
   },
   "outputs": [
    {
     "data": {
      "text/plain": [
       "<AxesSubplot:xlabel='temperature'>"
      ]
     },
     "execution_count": 505,
     "metadata": {},
     "output_type": "execute_result"
    },
    {
     "data": {
      "image/png": "[encoded data removed]",
      "text/plain": [
       "<Figure size 432x288 with 1 Axes>"
      ]
     },
     "metadata": {
      "needs_background": "light"
     },
     "output_type": "display_data"
    }
   ],
   "source": [
    "sns.boxplot(df.temperature)"
   ]
  },
  {
   "cell_type": "code",
   "execution_count": 499,
   "id": "WOH9Kf4MNPMF",
   "metadata": {
    "id": "WOH9Kf4MNPMF"
   },
   "outputs": [],
   "source": [
    "q1=df.temperature.quantile(0.25)  #(Q1)\n",
    "q3=df.temperature.quantile(0.75)  #(Q3)"
   ]
  },
  {
   "cell_type": "code",
   "execution_count": 500,
   "id": "HUY0wYtwNUWt",
   "metadata": {
    "id": "HUY0wYtwNUWt"
   },
   "outputs": [],
   "source": [
    "IQR=q3-q1"
   ]
  },
  {
   "cell_type": "code",
   "execution_count": 501,
   "id": "GBrwzczbNUQ4",
   "metadata": {
    "id": "GBrwzczbNUQ4"
   },
   "outputs": [],
   "source": [
    "upper_limit= q3 + 1.5*IQR\n",
    "\n",
    "lower_limit= q1 - 1.5*IQR"
   ]
  },
  {
   "cell_type": "code",
   "execution_count": 502,
   "id": "NqtlvzU9NZPP",
   "metadata": {
    "colab": {
     "base_uri": "https://localhost:8080/"
    },
    "id": "NqtlvzU9NZPP",
    "outputId": "b4882e07-0de8-41eb-c051-215fc38f9d70"
   },
   "outputs": [
    {
     "data": {
      "text/plain": [
       "14.080955682499999"
      ]
     },
     "execution_count": 502,
     "metadata": {},
     "output_type": "execute_result"
    }
   ],
   "source": [
    "lower_limit"
   ]
  },
  {
   "cell_type": "code",
   "execution_count": 503,
   "id": "PtR1KsRhNbDK",
   "metadata": {
    "colab": {
     "base_uri": "https://localhost:8080/"
    },
    "id": "PtR1KsRhNbDK",
    "outputId": "4e49b245-ef45-44be-e890-107ec0824457"
   },
   "outputs": [
    {
     "data": {
      "text/plain": [
       "37.2500728825"
      ]
     },
     "execution_count": 503,
     "metadata": {},
     "output_type": "execute_result"
    }
   ],
   "source": [
    "upper_limit"
   ]
  },
  {
   "cell_type": "code",
   "execution_count": 504,
   "id": "6lJYRPwgNdrD",
   "metadata": {
    "id": "6lJYRPwgNdrD"
   },
   "outputs": [],
   "source": [
    "df['temperature']= np.where(df['temperature']<lower_limit,lower_limit,df['temperature'])"
   ]
  },
  {
   "cell_type": "markdown",
   "id": "FiV5YB9aNvCI",
   "metadata": {
    "id": "FiV5YB9aNvCI"
   },
   "source": [
    "**Rainfall replace outliers**"
   ]
  },
  {
   "cell_type": "code",
   "execution_count": 513,
   "id": "2_Nz-OM3Nx-O",
   "metadata": {
    "colab": {
     "base_uri": "https://localhost:8080/",
     "height": 351
    },
    "id": "2_Nz-OM3Nx-O",
    "outputId": "136eb301-29ff-4ea6-adfa-65b91685526d"
   },
   "outputs": [
    {
     "data": {
      "text/plain": [
       "<AxesSubplot:xlabel='rainfall'>"
      ]
     },
     "execution_count": 513,
     "metadata": {},
     "output_type": "execute_result"
    },
    {
     "data": {
      "image/png": "[encoded data removed]",
      "text/plain": [
       "<Figure size 432x288 with 1 Axes>"
      ]
     },
     "metadata": {
      "needs_background": "light"
     },
     "output_type": "display_data"
    }
   ],
   "source": [
    "sns.boxplot(df.rainfall)"
   ]
  },
  {
   "cell_type": "code",
   "execution_count": 507,
   "id": "YlifnuWON2lL",
   "metadata": {
    "id": "YlifnuWON2lL"
   },
   "outputs": [],
   "source": [
    "q1=df.rainfall.quantile(0.25)  #(Q1)\n",
    "q3=df.rainfall.quantile(0.75)  #(Q3)"
   ]
  },
  {
   "cell_type": "code",
   "execution_count": 508,
   "id": "gfIkldPQN9a8",
   "metadata": {
    "id": "gfIkldPQN9a8"
   },
   "outputs": [],
   "source": [
    "IQR=q3-q1"
   ]
  },
  {
   "cell_type": "code",
   "execution_count": 509,
   "id": "iR8ZDNh6N_kN",
   "metadata": {
    "id": "iR8ZDNh6N_kN"
   },
   "outputs": [],
   "source": [
    "upper_limit= q3 + 1.5*IQR\n",
    "\n",
    "lower_limit= q1 - 1.5*IQR"
   ]
  },
  {
   "cell_type": "code",
   "execution_count": 510,
   "id": "we9foD9hOBap",
   "metadata": {
    "colab": {
     "base_uri": "https://localhost:8080/"
    },
    "id": "we9foD9hOBap",
    "outputId": "28ed033e-e985-4bde-98d5-aab6e67e9193"
   },
   "outputs": [
    {
     "data": {
      "text/plain": [
       "-25.022046700000033"
      ]
     },
     "execution_count": 510,
     "metadata": {},
     "output_type": "execute_result"
    }
   ],
   "source": [
    "lower_limit"
   ]
  },
  {
   "cell_type": "code",
   "execution_count": 511,
   "id": "HyhrdvT0ODRo",
   "metadata": {
    "colab": {
     "base_uri": "https://localhost:8080/"
    },
    "id": "HyhrdvT0ODRo",
    "outputId": "08016c1d-8999-440b-b486-c0137562173e"
   },
   "outputs": [
    {
     "data": {
      "text/plain": [
       "213.84124050000003"
      ]
     },
     "execution_count": 511,
     "metadata": {},
     "output_type": "execute_result"
    }
   ],
   "source": [
    "upper_limit"
   ]
  },
  {
   "cell_type": "code",
   "execution_count": 512,
   "id": "s95Tma04OLYi",
   "metadata": {
    "id": "s95Tma04OLYi"
   },
   "outputs": [],
   "source": [
    "df['rainfall']= np.where(df['rainfall']>upper_limit,upper_limit,df['rainfall'])"
   ]
  },
  {
   "cell_type": "markdown",
   "id": "cazcCkkGOWq-",
   "metadata": {
    "id": "cazcCkkGOWq-"
   },
   "source": [
    "**P ouliers replace**"
   ]
  },
  {
   "cell_type": "code",
   "execution_count": 521,
   "id": "W2gYL23uOZI8",
   "metadata": {
    "colab": {
     "base_uri": "https://localhost:8080/",
     "height": 351
    },
    "id": "W2gYL23uOZI8",
    "outputId": "34894947-1b43-4d1b-98d0-9a5019972040"
   },
   "outputs": [
    {
     "data": {
      "text/plain": [
       "<AxesSubplot:xlabel='P'>"
      ]
     },
     "execution_count": 521,
     "metadata": {},
     "output_type": "execute_result"
    },
    {
     "data": {
      "image/png": "[encoded data removed]",
      "text/plain": [
       "<Figure size 432x288 with 1 Axes>"
      ]
     },
     "metadata": {
      "needs_background": "light"
     },
     "output_type": "display_data"
    }
   ],
   "source": [
    "sns.boxplot(df.P)"
   ]
  },
  {
   "cell_type": "code",
   "execution_count": 515,
   "id": "wdMy01OsOeIy",
   "metadata": {
    "id": "wdMy01OsOeIy"
   },
   "outputs": [],
   "source": [
    "q1=df.P.quantile(0.25)  #(Q1)\n",
    "q3=df.P.quantile(0.75)  #(Q3)"
   ]
  },
  {
   "cell_type": "code",
   "execution_count": 516,
   "id": "lxwMrrLxOjzZ",
   "metadata": {
    "id": "lxwMrrLxOjzZ"
   },
   "outputs": [],
   "source": [
    "IQR=q3-q1"
   ]
  },
  {
   "cell_type": "code",
   "execution_count": 517,
   "id": "MXAECreQOmWO",
   "metadata": {
    "id": "MXAECreQOmWO"
   },
   "outputs": [],
   "source": [
    "upper_limit= q3 + 1.5*IQR\n",
    "\n",
    "lower_limit= q1 - 1.5*IQR"
   ]
  },
  {
   "cell_type": "code",
   "execution_count": 518,
   "id": "hO9riotFOof5",
   "metadata": {
    "colab": {
     "base_uri": "https://localhost:8080/"
    },
    "id": "hO9riotFOof5",
    "outputId": "104bab38-b0bc-4c6d-825c-d377e4723cee"
   },
   "outputs": [
    {
     "data": {
      "text/plain": [
       "-32.0"
      ]
     },
     "execution_count": 518,
     "metadata": {},
     "output_type": "execute_result"
    }
   ],
   "source": [
    "lower_limit\n"
   ]
  },
  {
   "cell_type": "code",
   "execution_count": 519,
   "id": "RKqT46kKOq3j",
   "metadata": {
    "colab": {
     "base_uri": "https://localhost:8080/"
    },
    "id": "RKqT46kKOq3j",
    "outputId": "2dab7d1f-5576-4a5f-aa14-4c1e4dd0b37a"
   },
   "outputs": [
    {
     "data": {
      "text/plain": [
       "128.0"
      ]
     },
     "execution_count": 519,
     "metadata": {},
     "output_type": "execute_result"
    }
   ],
   "source": [
    "upper_limit"
   ]
  },
  {
   "cell_type": "code",
   "execution_count": 520,
   "id": "CIFK0VwjOuOZ",
   "metadata": {
    "id": "CIFK0VwjOuOZ"
   },
   "outputs": [],
   "source": [
    "df['P']= np.where(df['P']>upper_limit,upper_limit,df['P'])"
   ]
  },
  {
   "cell_type": "markdown",
   "id": "R2P5AONyO21P",
   "metadata": {
    "id": "R2P5AONyO21P"
   },
   "source": [
    "**K outliers replace**"
   ]
  },
  {
   "cell_type": "code",
   "execution_count": 529,
   "id": "I5MbN9G1O6-F",
   "metadata": {
    "colab": {
     "base_uri": "https://localhost:8080/",
     "height": 351
    },
    "id": "I5MbN9G1O6-F",
    "outputId": "ea6420ce-00d6-45c8-d17b-3fd7c196039e"
   },
   "outputs": [
    {
     "data": {
      "text/plain": [
       "<AxesSubplot:xlabel='K'>"
      ]
     },
     "execution_count": 529,
     "metadata": {},
     "output_type": "execute_result"
    },
    {
     "data": {
      "image/png": "[encoded data removed]",
      "text/plain": [
       "<Figure size 432x288 with 1 Axes>"
      ]
     },
     "metadata": {
      "needs_background": "light"
     },
     "output_type": "display_data"
    }
   ],
   "source": [
    "sns.boxplot(df.K)"
   ]
  },
  {
   "cell_type": "code",
   "execution_count": 523,
   "id": "e9jbFXU4O-uc",
   "metadata": {
    "id": "e9jbFXU4O-uc"
   },
   "outputs": [],
   "source": [
    "q1=df.K.quantile(0.25)  #(Q1)\n",
    "q3=df.K.quantile(0.75)  #(Q3)"
   ]
  },
  {
   "cell_type": "code",
   "execution_count": 524,
   "id": "L1xJJq8lPG2i",
   "metadata": {
    "id": "L1xJJq8lPG2i"
   },
   "outputs": [],
   "source": [
    "IQR=q3-q1"
   ]
  },
  {
   "cell_type": "code",
   "execution_count": 525,
   "id": "DcHO_LJpPI8r",
   "metadata": {
    "id": "DcHO_LJpPI8r"
   },
   "outputs": [],
   "source": [
    "upper_limit= q3 + 1.5*IQR\n",
    "\n",
    "lower_limit= q1 - 1.5*IQR"
   ]
  },
  {
   "cell_type": "code",
   "execution_count": 526,
   "id": "QRqk64IDPLcB",
   "metadata": {
    "colab": {
     "base_uri": "https://localhost:8080/"
    },
    "id": "QRqk64IDPLcB",
    "outputId": "dc8e437a-34d4-4871-cbea-ae638f27b352"
   },
   "outputs": [
    {
     "data": {
      "text/plain": [
       "-23.5"
      ]
     },
     "execution_count": 526,
     "metadata": {},
     "output_type": "execute_result"
    }
   ],
   "source": [
    "lower_limit"
   ]
  },
  {
   "cell_type": "code",
   "execution_count": 527,
   "id": "EhksaO6HPOGi",
   "metadata": {
    "colab": {
     "base_uri": "https://localhost:8080/"
    },
    "id": "EhksaO6HPOGi",
    "outputId": "74dabe0e-5eca-46c8-b9fc-b69b7eae0066"
   },
   "outputs": [
    {
     "data": {
      "text/plain": [
       "92.5"
      ]
     },
     "execution_count": 527,
     "metadata": {},
     "output_type": "execute_result"
    }
   ],
   "source": [
    "upper_limit\n"
   ]
  },
  {
   "cell_type": "code",
   "execution_count": 528,
   "id": "yX9Th7fuPRvy",
   "metadata": {
    "id": "yX9Th7fuPRvy"
   },
   "outputs": [],
   "source": [
    "df['K']= np.where(df['K']>upper_limit,upper_limit,df['K'])"
   ]
  },
  {
   "cell_type": "markdown",
   "id": "S-uTQAVnPYlx",
   "metadata": {
    "id": "S-uTQAVnPYlx"
   },
   "source": [
    "**CHECKING OUTLIERS**"
   ]
  },
  {
   "cell_type": "code",
   "execution_count": 530,
   "id": "oBEgmlruPb0g",
   "metadata": {
    "colab": {
     "base_uri": "https://localhost:8080/",
     "height": 351
    },
    "id": "oBEgmlruPb0g",
    "outputId": "750ec52a-6bbd-4fa4-a888-82d71b7f9d13"
   },
   "outputs": [
    {
     "data": {
      "text/plain": [
       "<AxesSubplot:xlabel='N'>"
      ]
     },
     "execution_count": 530,
     "metadata": {},
     "output_type": "execute_result"
    },
    {
     "data": {
      "image/png": "[encoded data removed]",
      "text/plain": [
       "<Figure size 432x288 with 1 Axes>"
      ]
     },
     "metadata": {
      "needs_background": "light"
     },
     "output_type": "display_data"
    }
   ],
   "source": [
    "sns.boxplot(df.N)"
   ]
  },
  {
   "cell_type": "code",
   "execution_count": 531,
   "id": "k-kTZIzkPiGV",
   "metadata": {
    "colab": {
     "base_uri": "https://localhost:8080/",
     "height": 351
    },
    "id": "k-kTZIzkPiGV",
    "outputId": "c983cbef-4ea0-44ca-da03-9326ee5048bf"
   },
   "outputs": [
    {
     "data": {
      "text/plain": [
       "<AxesSubplot:xlabel='P'>"
      ]
     },
     "execution_count": 531,
     "metadata": {},
     "output_type": "execute_result"
    },
    {
     "data": {
      "image/png": "[encoded data removed]",
      "text/plain": [
       "<Figure size 432x288 with 1 Axes>"
      ]
     },
     "metadata": {
      "needs_background": "light"
     },
     "output_type": "display_data"
    }
   ],
   "source": [
    "sns.boxplot(df.P)"
   ]
  },
  {
   "cell_type": "code",
   "execution_count": 532,
   "id": "c5GZVP7jPlS2",
   "metadata": {
    "colab": {
     "base_uri": "https://localhost:8080/",
     "height": 351
    },
    "id": "c5GZVP7jPlS2",
    "outputId": "5d29b641-bcee-4932-b108-ea5ba7d0b1de"
   },
   "outputs": [
    {
     "data": {
      "text/plain": [
       "<AxesSubplot:xlabel='K'>"
      ]
     },
     "execution_count": 532,
     "metadata": {},
     "output_type": "execute_result"
    },
    {
     "data": {
      "image/png": "[encoded data removed]",
      "text/plain": [
       "<Figure size 432x288 with 1 Axes>"
      ]
     },
     "metadata": {
      "needs_background": "light"
     },
     "output_type": "display_data"
    }
   ],
   "source": [
    "sns.boxplot(df.K)"
   ]
  },
  {
   "cell_type": "code",
   "execution_count": 533,
   "id": "aBzmuWeBPqn5",
   "metadata": {
    "colab": {
     "base_uri": "https://localhost:8080/",
     "height": 351
    },
    "id": "aBzmuWeBPqn5",
    "outputId": "11f7e2fb-beba-4251-c141-1812c75635c2"
   },
   "outputs": [
    {
     "data": {
      "text/plain": [
       "<AxesSubplot:xlabel='temperature'>"
      ]
     },
     "execution_count": 533,
     "metadata": {},
     "output_type": "execute_result"
    },
    {
     "data": {
      "image/png": "[encoded data removed]",
      "text/plain": [
       "<Figure size 432x288 with 1 Axes>"
      ]
     },
     "metadata": {
      "needs_background": "light"
     },
     "output_type": "display_data"
    }
   ],
   "source": [
    "sns.boxplot(df.temperature)"
   ]
  },
  {
   "cell_type": "code",
   "execution_count": 534,
   "id": "qoi4GepCPvDd",
   "metadata": {
    "colab": {
     "base_uri": "https://localhost:8080/",
     "height": 351
    },
    "id": "qoi4GepCPvDd",
    "outputId": "cbcaf81f-478b-4094-8353-b037f235b7af"
   },
   "outputs": [
    {
     "data": {
      "text/plain": [
       "<AxesSubplot:xlabel='humidity'>"
      ]
     },
     "execution_count": 534,
     "metadata": {},
     "output_type": "execute_result"
    },
    {
     "data": {
      "image/png": "[encoded data removed]",
      "text/plain": [
       "<Figure size 432x288 with 1 Axes>"
      ]
     },
     "metadata": {
      "needs_background": "light"
     },
     "output_type": "display_data"
    }
   ],
   "source": [
    "sns.boxplot(df.humidity)"
   ]
  },
  {
   "cell_type": "code",
   "execution_count": 535,
   "id": "uYwfrY3XPyFX",
   "metadata": {
    "colab": {
     "base_uri": "https://localhost:8080/",
     "height": 351
    },
    "id": "uYwfrY3XPyFX",
    "outputId": "f0a65c62-3005-454d-bebb-7f9b67ddedf2"
   },
   "outputs": [
    {
     "data": {
      "text/plain": [
       "<AxesSubplot:xlabel='ph'>"
      ]
     },
     "execution_count": 535,
     "metadata": {},
     "output_type": "execute_result"
    },
    {
     "data": {
      "image/png": "[encoded data removed]",
      "text/plain": [
       "<Figure size 432x288 with 1 Axes>"
      ]
     },
     "metadata": {
      "needs_background": "light"
     },
     "output_type": "display_data"
    }
   ],
   "source": [
    "sns.boxplot(df.ph)"
   ]
  },
  {
   "cell_type": "code",
   "execution_count": 536,
   "id": "EEkH8GK1P1LP",
   "metadata": {
    "colab": {
     "base_uri": "https://localhost:8080/",
     "height": 351
    },
    "id": "EEkH8GK1P1LP",
    "outputId": "0d550c66-adba-4520-8bf0-3ac098fc8bd3"
   },
   "outputs": [
    {
     "data": {
      "text/plain": [
       "<AxesSubplot:xlabel='rainfall'>"
      ]
     },
     "execution_count": 536,
     "metadata": {},
     "output_type": "execute_result"
    },
    {
     "data": {
      "image/png": "[encoded data removed]",
      "text/plain": [
       "<Figure size 432x288 with 1 Axes>"
      ]
     },
     "metadata": {
      "needs_background": "light"
     },
     "output_type": "display_data"
    }
   ],
   "source": [
    "sns.boxplot(df.rainfall)"
   ]
  },
  {
   "cell_type": "code",
   "execution_count": 537,
   "id": "8olKKpdkP5IF",
   "metadata": {
    "colab": {
     "base_uri": "https://localhost:8080/",
     "height": 206
    },
    "id": "8olKKpdkP5IF",
    "outputId": "a8c37d3c-6735-47d6-d962-f3f9a370c7ab"
   },
   "outputs": [
    {
     "data": {
      "text/html": [
       "<div>\n",
       "<style scoped>\n",
       "    .dataframe tbody tr th:only-of-type {\n",
       "        vertical-align: middle;\n",
       "    }\n",
       "\n",
       "    .dataframe tbody tr th {\n",
       "        vertical-align: top;\n",
       "    }\n",
       "\n",
       "    .dataframe thead th {\n",
       "        text-align: right;\n",
       "    }\n",
       "</style>\n",
       "<table border=\"1\" class=\"dataframe\">\n",
       "  <thead>\n",
       "    <tr style=\"text-align: right;\">\n",
       "      <th></th>\n",
       "      <th>N</th>\n",
       "      <th>P</th>\n",
       "      <th>K</th>\n",
       "      <th>temperature</th>\n",
       "      <th>humidity</th>\n",
       "      <th>ph</th>\n",
       "      <th>rainfall</th>\n",
       "      <th>label</th>\n",
       "    </tr>\n",
       "  </thead>\n",
       "  <tbody>\n",
       "    <tr>\n",
       "      <th>0</th>\n",
       "      <td>90</td>\n",
       "      <td>42.0</td>\n",
       "      <td>43.0</td>\n",
       "      <td>20.879744</td>\n",
       "      <td>82.002744</td>\n",
       "      <td>6.502985</td>\n",
       "      <td>202.935536</td>\n",
       "      <td>rice</td>\n",
       "    </tr>\n",
       "    <tr>\n",
       "      <th>1</th>\n",
       "      <td>85</td>\n",
       "      <td>58.0</td>\n",
       "      <td>41.0</td>\n",
       "      <td>21.770462</td>\n",
       "      <td>80.319644</td>\n",
       "      <td>7.038096</td>\n",
       "      <td>213.841241</td>\n",
       "      <td>rice</td>\n",
       "    </tr>\n",
       "    <tr>\n",
       "      <th>2</th>\n",
       "      <td>60</td>\n",
       "      <td>55.0</td>\n",
       "      <td>44.0</td>\n",
       "      <td>23.004459</td>\n",
       "      <td>82.320763</td>\n",
       "      <td>7.840207</td>\n",
       "      <td>213.841241</td>\n",
       "      <td>rice</td>\n",
       "    </tr>\n",
       "    <tr>\n",
       "      <th>3</th>\n",
       "      <td>74</td>\n",
       "      <td>35.0</td>\n",
       "      <td>40.0</td>\n",
       "      <td>26.491096</td>\n",
       "      <td>80.158363</td>\n",
       "      <td>6.980401</td>\n",
       "      <td>213.841241</td>\n",
       "      <td>rice</td>\n",
       "    </tr>\n",
       "    <tr>\n",
       "      <th>4</th>\n",
       "      <td>78</td>\n",
       "      <td>42.0</td>\n",
       "      <td>42.0</td>\n",
       "      <td>20.130175</td>\n",
       "      <td>81.604873</td>\n",
       "      <td>7.628473</td>\n",
       "      <td>213.841241</td>\n",
       "      <td>rice</td>\n",
       "    </tr>\n",
       "  </tbody>\n",
       "</table>\n",
       "</div>"
      ],
      "text/plain": [
       "    N     P     K  temperature   humidity        ph    rainfall label\n",
       "0  90  42.0  43.0    20.879744  82.002744  6.502985  202.935536  rice\n",
       "1  85  58.0  41.0    21.770462  80.319644  7.038096  213.841241  rice\n",
       "2  60  55.0  44.0    23.004459  82.320763  7.840207  213.841241  rice\n",
       "3  74  35.0  40.0    26.491096  80.158363  6.980401  213.841241  rice\n",
       "4  78  42.0  42.0    20.130175  81.604873  7.628473  213.841241  rice"
      ]
     },
     "execution_count": 537,
     "metadata": {},
     "output_type": "execute_result"
    }
   ],
   "source": [
    "df.head()"
   ]
  },
  {
   "cell_type": "markdown",
   "id": "dVsiTQ89Q6zP",
   "metadata": {
    "id": "dVsiTQ89Q6zP"
   },
   "source": [
    "# X and y split"
   ]
  },
  {
   "cell_type": "code",
   "execution_count": 538,
   "id": "IEFFyIt9SyDK",
   "metadata": {
    "colab": {
     "base_uri": "https://localhost:8080/",
     "height": 206
    },
    "id": "IEFFyIt9SyDK",
    "outputId": "6663b43b-d6d1-4700-f52c-a89e1251b21c"
   },
   "outputs": [
    {
     "data": {
      "text/html": [
       "<div>\n",
       "<style scoped>\n",
       "    .dataframe tbody tr th:only-of-type {\n",
       "        vertical-align: middle;\n",
       "    }\n",
       "\n",
       "    .dataframe tbody tr th {\n",
       "        vertical-align: top;\n",
       "    }\n",
       "\n",
       "    .dataframe thead th {\n",
       "        text-align: right;\n",
       "    }\n",
       "</style>\n",
       "<table border=\"1\" class=\"dataframe\">\n",
       "  <thead>\n",
       "    <tr style=\"text-align: right;\">\n",
       "      <th></th>\n",
       "      <th>N</th>\n",
       "      <th>P</th>\n",
       "      <th>K</th>\n",
       "      <th>temperature</th>\n",
       "      <th>humidity</th>\n",
       "      <th>ph</th>\n",
       "      <th>rainfall</th>\n",
       "    </tr>\n",
       "  </thead>\n",
       "  <tbody>\n",
       "    <tr>\n",
       "      <th>0</th>\n",
       "      <td>90</td>\n",
       "      <td>42.0</td>\n",
       "      <td>43.0</td>\n",
       "      <td>20.879744</td>\n",
       "      <td>82.002744</td>\n",
       "      <td>6.502985</td>\n",
       "      <td>202.935536</td>\n",
       "    </tr>\n",
       "    <tr>\n",
       "      <th>1</th>\n",
       "      <td>85</td>\n",
       "      <td>58.0</td>\n",
       "      <td>41.0</td>\n",
       "      <td>21.770462</td>\n",
       "      <td>80.319644</td>\n",
       "      <td>7.038096</td>\n",
       "      <td>213.841241</td>\n",
       "    </tr>\n",
       "    <tr>\n",
       "      <th>2</th>\n",
       "      <td>60</td>\n",
       "      <td>55.0</td>\n",
       "      <td>44.0</td>\n",
       "      <td>23.004459</td>\n",
       "      <td>82.320763</td>\n",
       "      <td>7.840207</td>\n",
       "      <td>213.841241</td>\n",
       "    </tr>\n",
       "    <tr>\n",
       "      <th>3</th>\n",
       "      <td>74</td>\n",
       "      <td>35.0</td>\n",
       "      <td>40.0</td>\n",
       "      <td>26.491096</td>\n",
       "      <td>80.158363</td>\n",
       "      <td>6.980401</td>\n",
       "      <td>213.841241</td>\n",
       "    </tr>\n",
       "    <tr>\n",
       "      <th>4</th>\n",
       "      <td>78</td>\n",
       "      <td>42.0</td>\n",
       "      <td>42.0</td>\n",
       "      <td>20.130175</td>\n",
       "      <td>81.604873</td>\n",
       "      <td>7.628473</td>\n",
       "      <td>213.841241</td>\n",
       "    </tr>\n",
       "  </tbody>\n",
       "</table>\n",
       "</div>"
      ],
      "text/plain": [
       "    N     P     K  temperature   humidity        ph    rainfall\n",
       "0  90  42.0  43.0    20.879744  82.002744  6.502985  202.935536\n",
       "1  85  58.0  41.0    21.770462  80.319644  7.038096  213.841241\n",
       "2  60  55.0  44.0    23.004459  82.320763  7.840207  213.841241\n",
       "3  74  35.0  40.0    26.491096  80.158363  6.980401  213.841241\n",
       "4  78  42.0  42.0    20.130175  81.604873  7.628473  213.841241"
      ]
     },
     "execution_count": 538,
     "metadata": {},
     "output_type": "execute_result"
    }
   ],
   "source": [
    "X=df.drop(columns=['label'],axis = 1)\n",
    "X.head()"
   ]
  },
  {
   "cell_type": "code",
   "execution_count": 539,
   "id": "xhfbANvXS306",
   "metadata": {
    "colab": {
     "base_uri": "https://localhost:8080/"
    },
    "id": "xhfbANvXS306",
    "outputId": "f0474002-270c-4cff-887c-5ef5a16eea8c"
   },
   "outputs": [
    {
     "data": {
      "text/plain": [
       "array(['rice', 'maize', 'chickpea', 'kidneybeans', 'pigeonpeas',\n",
       "       'mothbeans', 'mungbean', 'blackgram', 'lentil', 'pomegranate',\n",
       "       'banana', 'mango', 'grapes', 'watermelon', 'muskmelon', 'apple',\n",
       "       'orange', 'papaya', 'coconut', 'cotton', 'jute', 'coffee'],\n",
       "      dtype=object)"
      ]
     },
     "execution_count": 539,
     "metadata": {},
     "output_type": "execute_result"
    }
   ],
   "source": [
    "y = df.label\n",
    "df['label'].unique()"
   ]
  },
  {
   "cell_type": "code",
   "execution_count": 540,
   "id": "YNhIR953TnaT",
   "metadata": {
    "id": "YNhIR953TnaT"
   },
   "outputs": [],
   "source": [
    "from sklearn.preprocessing import MinMaxScaler\n",
    "scale = MinMaxScaler()"
   ]
  },
  {
   "cell_type": "code",
   "execution_count": 541,
   "id": "qsoDiUTqTrvj",
   "metadata": {
    "colab": {
     "base_uri": "https://localhost:8080/",
     "height": 206
    },
    "id": "qsoDiUTqTrvj",
    "outputId": "8a7abe77-273c-4619-d08b-7ac802ec204c"
   },
   "outputs": [
    {
     "data": {
      "text/html": [
       "<div>\n",
       "<style scoped>\n",
       "    .dataframe tbody tr th:only-of-type {\n",
       "        vertical-align: middle;\n",
       "    }\n",
       "\n",
       "    .dataframe tbody tr th {\n",
       "        vertical-align: top;\n",
       "    }\n",
       "\n",
       "    .dataframe thead th {\n",
       "        text-align: right;\n",
       "    }\n",
       "</style>\n",
       "<table border=\"1\" class=\"dataframe\">\n",
       "  <thead>\n",
       "    <tr style=\"text-align: right;\">\n",
       "      <th></th>\n",
       "      <th>N</th>\n",
       "      <th>P</th>\n",
       "      <th>K</th>\n",
       "      <th>temperature</th>\n",
       "      <th>humidity</th>\n",
       "      <th>ph</th>\n",
       "      <th>rainfall</th>\n",
       "    </tr>\n",
       "  </thead>\n",
       "  <tbody>\n",
       "    <tr>\n",
       "      <th>0</th>\n",
       "      <td>0.642857</td>\n",
       "      <td>0.300813</td>\n",
       "      <td>0.434286</td>\n",
       "      <td>0.293442</td>\n",
       "      <td>0.786598</td>\n",
       "      <td>0.514527</td>\n",
       "      <td>0.943678</td>\n",
       "    </tr>\n",
       "    <tr>\n",
       "      <th>1</th>\n",
       "      <td>0.607143</td>\n",
       "      <td>0.430894</td>\n",
       "      <td>0.411429</td>\n",
       "      <td>0.331886</td>\n",
       "      <td>0.766621</td>\n",
       "      <td>0.655058</td>\n",
       "      <td>1.000000</td>\n",
       "    </tr>\n",
       "    <tr>\n",
       "      <th>2</th>\n",
       "      <td>0.428571</td>\n",
       "      <td>0.406504</td>\n",
       "      <td>0.445714</td>\n",
       "      <td>0.385146</td>\n",
       "      <td>0.790373</td>\n",
       "      <td>0.865707</td>\n",
       "      <td>1.000000</td>\n",
       "    </tr>\n",
       "    <tr>\n",
       "      <th>3</th>\n",
       "      <td>0.528571</td>\n",
       "      <td>0.243902</td>\n",
       "      <td>0.400000</td>\n",
       "      <td>0.535633</td>\n",
       "      <td>0.764706</td>\n",
       "      <td>0.639906</td>\n",
       "      <td>1.000000</td>\n",
       "    </tr>\n",
       "    <tr>\n",
       "      <th>4</th>\n",
       "      <td>0.557143</td>\n",
       "      <td>0.300813</td>\n",
       "      <td>0.422857</td>\n",
       "      <td>0.261090</td>\n",
       "      <td>0.781876</td>\n",
       "      <td>0.810102</td>\n",
       "      <td>1.000000</td>\n",
       "    </tr>\n",
       "  </tbody>\n",
       "</table>\n",
       "</div>"
      ],
      "text/plain": [
       "          N         P         K  temperature  humidity        ph  rainfall\n",
       "0  0.642857  0.300813  0.434286     0.293442  0.786598  0.514527  0.943678\n",
       "1  0.607143  0.430894  0.411429     0.331886  0.766621  0.655058  1.000000\n",
       "2  0.428571  0.406504  0.445714     0.385146  0.790373  0.865707  1.000000\n",
       "3  0.528571  0.243902  0.400000     0.535633  0.764706  0.639906  1.000000\n",
       "4  0.557143  0.300813  0.422857     0.261090  0.781876  0.810102  1.000000"
      ]
     },
     "execution_count": 541,
     "metadata": {},
     "output_type": "execute_result"
    }
   ],
   "source": [
    "scaled_x = pd.DataFrame(scale.fit_transform(X),columns=X.columns)\n",
    "scaled_x.head()"
   ]
  },
  {
   "cell_type": "markdown",
   "id": "WqNp_yFVTvmn",
   "metadata": {
    "id": "WqNp_yFVTvmn"
   },
   "source": [
    "# train test split"
   ]
  },
  {
   "cell_type": "code",
   "execution_count": 542,
   "id": "-tmG3r1ZTxiw",
   "metadata": {
    "id": "-tmG3r1ZTxiw"
   },
   "outputs": [],
   "source": [
    "from sklearn.model_selection import train_test_split\n",
    "x_train,x_test,y_train,y_test = train_test_split(scaled_x,y,test_size=0.2,random_state = 1)"
   ]
  },
  {
   "cell_type": "code",
   "execution_count": 543,
   "id": "zwKhGSQHT3nQ",
   "metadata": {
    "colab": {
     "base_uri": "https://localhost:8080/"
    },
    "id": "zwKhGSQHT3nQ",
    "outputId": "b137403e-ea15-4cd1-98c4-418a60bf3358"
   },
   "outputs": [
    {
     "data": {
      "text/plain": [
       "(1760, 7)"
      ]
     },
     "execution_count": 543,
     "metadata": {},
     "output_type": "execute_result"
    }
   ],
   "source": [
    "x_train.shape"
   ]
  },
  {
   "cell_type": "code",
   "execution_count": 544,
   "id": "2iOdkeZYT6Dv",
   "metadata": {
    "colab": {
     "base_uri": "https://localhost:8080/"
    },
    "id": "2iOdkeZYT6Dv",
    "outputId": "6c2541d6-00a8-44f9-d0cd-864e821ececd"
   },
   "outputs": [
    {
     "data": {
      "text/plain": [
       "(440, 7)"
      ]
     },
     "execution_count": 544,
     "metadata": {},
     "output_type": "execute_result"
    }
   ],
   "source": [
    "x_test.shape"
   ]
  },
  {
   "cell_type": "markdown",
   "id": "QJ9OQGv5T9Kp",
   "metadata": {
    "id": "QJ9OQGv5T9Kp"
   },
   "source": [
    "## Model building\n"
   ]
  },
  {
   "cell_type": "code",
   "execution_count": 545,
   "id": "JGOk0xnUT_l1",
   "metadata": {
    "id": "JGOk0xnUT_l1"
   },
   "outputs": [],
   "source": [
    "from sklearn.linear_model import LogisticRegression\n",
    "from sklearn.tree import DecisionTreeClassifier\n",
    "from sklearn.ensemble import RandomForestClassifier\n",
    "from sklearn.neighbors import KNeighborsClassifier\n",
    "from sklearn.naive_bayes import GaussianNB\n",
    "from sklearn.svm import SVC\n",
    "from xgboost import XGBClassifier"
   ]
  },
  {
   "cell_type": "code",
   "execution_count": 546,
   "id": "lS6qI-fGUC5W",
   "metadata": {
    "id": "lS6qI-fGUC5W"
   },
   "outputs": [],
   "source": [
    "lr = LogisticRegression()\n",
    "dtc= DecisionTreeClassifier()\n",
    "rf = RandomForestClassifier()\n",
    "knn=KNeighborsClassifier()\n",
    "nb=GaussianNB()\n",
    "svm = SVC()\n",
    "xgb=XGBClassifier()\n"
   ]
  },
  {
   "cell_type": "code",
   "execution_count": 547,
   "id": "j3leNFXyUFt4",
   "metadata": {
    "colab": {
     "base_uri": "https://localhost:8080/"
    },
    "id": "j3leNFXyUFt4",
    "outputId": "6a5bc5dd-263e-489d-a6aa-700b46d028f3"
   },
   "outputs": [
    {
     "data": {
      "text/plain": [
       "LogisticRegression()"
      ]
     },
     "execution_count": 547,
     "metadata": {},
     "output_type": "execute_result"
    }
   ],
   "source": [
    "lr.fit(x_train,y_train)"
   ]
  },
  {
   "cell_type": "code",
   "execution_count": 548,
   "id": "6d89835b",
   "metadata": {},
   "outputs": [
    {
     "data": {
      "text/plain": [
       "DecisionTreeClassifier()"
      ]
     },
     "execution_count": 548,
     "metadata": {},
     "output_type": "execute_result"
    }
   ],
   "source": [
    "dtc.fit(x_train,y_train)\n"
   ]
  },
  {
   "cell_type": "code",
   "execution_count": 549,
   "id": "5673c73b",
   "metadata": {},
   "outputs": [
    {
     "data": {
      "text/plain": [
       "RandomForestClassifier()"
      ]
     },
     "execution_count": 549,
     "metadata": {},
     "output_type": "execute_result"
    }
   ],
   "source": [
    "rf.fit(x_train,y_train)\n"
   ]
  },
  {
   "cell_type": "code",
   "execution_count": 550,
   "id": "8cdbcbe5",
   "metadata": {},
   "outputs": [
    {
     "data": {
      "text/plain": [
       "KNeighborsClassifier()"
      ]
     },
     "execution_count": 550,
     "metadata": {},
     "output_type": "execute_result"
    }
   ],
   "source": [
    "knn.fit(x_train,y_train)\n"
   ]
  },
  {
   "cell_type": "code",
   "execution_count": 551,
   "id": "2347ae52",
   "metadata": {},
   "outputs": [
    {
     "data": {
      "text/plain": [
       "GaussianNB()"
      ]
     },
     "execution_count": 551,
     "metadata": {},
     "output_type": "execute_result"
    }
   ],
   "source": [
    "nb.fit(x_train,y_train)\n"
   ]
  },
  {
   "cell_type": "code",
   "execution_count": 552,
   "id": "8c765bdd",
   "metadata": {},
   "outputs": [],
   "source": [
    "# svm.fit(x_train,y_train)"
   ]
  },
  {
   "cell_type": "code",
   "execution_count": 553,
   "id": "5743ebe3",
   "metadata": {},
   "outputs": [],
   "source": [
    "# xgb.fit(x_train,y_train)"
   ]
  },
  {
   "cell_type": "code",
   "execution_count": 554,
   "id": "-BbctWwPUH5f",
   "metadata": {
    "colab": {
     "base_uri": "https://localhost:8080/"
    },
    "id": "-BbctWwPUH5f",
    "outputId": "9d9614d3-1441-4b11-b693-e0a10c164e43",
    "scrolled": true
   },
   "outputs": [
    {
     "data": {
      "text/plain": [
       "1276         grapes\n",
       "1446      muskmelon\n",
       "335     kidneybeans\n",
       "1458      muskmelon\n",
       "2038           jute\n",
       "           ...     \n",
       "1508          apple\n",
       "1595          apple\n",
       "1032         banana\n",
       "1330     watermelon\n",
       "1263         grapes\n",
       "Name: label, Length: 440, dtype: object"
      ]
     },
     "execution_count": 554,
     "metadata": {},
     "output_type": "execute_result"
    }
   ],
   "source": [
    "y_test"
   ]
  },
  {
   "cell_type": "code",
   "execution_count": null,
   "id": "8115d4e7",
   "metadata": {},
   "outputs": [],
   "source": []
  },
  {
   "cell_type": "markdown",
   "id": "8a2968d1",
   "metadata": {},
   "source": [
    "model_id"
   ]
  },
  {
   "cell_type": "code",
   "execution_count": 555,
   "id": "XxGfX2QeUST9",
   "metadata": {
    "colab": {
     "base_uri": "https://localhost:8080/"
    },
    "id": "XxGfX2QeUST9",
    "outputId": "5d83325b-b5c4-41c6-d6d8-52e7dc8a7307"
   },
   "outputs": [
    {
     "data": {
      "text/plain": [
       "array(['grapes', 'muskmelon', 'kidneybeans', 'muskmelon', 'jute',\n",
       "       'watermelon', 'kidneybeans', 'orange', 'rice', 'pigeonpeas',\n",
       "       'pomegranate', 'rice', 'coffee', 'mango', 'mothbeans', 'banana',\n",
       "       'banana', 'coconut', 'banana', 'orange', 'lentil', 'apple',\n",
       "       'pomegranate', 'papaya', 'muskmelon', 'banana', 'grapes',\n",
       "       'coconut', 'cotton', 'watermelon', 'cotton', 'maize', 'muskmelon',\n",
       "       'apple', 'blackgram', 'cotton', 'mothbeans', 'blackgram',\n",
       "       'mungbean', 'orange', 'pigeonpeas', 'grapes', 'orange', 'papaya',\n",
       "       'coconut', 'pomegranate', 'rice', 'coffee', 'chickpea', 'jute',\n",
       "       'chickpea', 'maize', 'lentil', 'pomegranate', 'coffee', 'mungbean',\n",
       "       'watermelon', 'watermelon', 'cotton', 'mango', 'blackgram',\n",
       "       'mungbean', 'pomegranate', 'banana', 'coffee', 'muskmelon',\n",
       "       'chickpea', 'grapes', 'apple', 'rice', 'grapes', 'mango', 'orange',\n",
       "       'maize', 'rice', 'watermelon', 'watermelon', 'maize', 'cotton',\n",
       "       'mango', 'chickpea', 'banana', 'apple', 'orange', 'cotton',\n",
       "       'lentil', 'cotton', 'mango', 'mango', 'pomegranate', 'rice',\n",
       "       'pigeonpeas', 'grapes', 'watermelon', 'mungbean', 'mungbean',\n",
       "       'pigeonpeas', 'cotton', 'grapes', 'mungbean', 'banana', 'jute',\n",
       "       'papaya', 'mango', 'coconut', 'papaya', 'pomegranate', 'banana',\n",
       "       'cotton', 'maize', 'mungbean', 'apple', 'pomegranate', 'chickpea',\n",
       "       'muskmelon', 'lentil', 'blackgram', 'mango', 'maize', 'coffee',\n",
       "       'blackgram', 'jute', 'muskmelon', 'cotton', 'kidneybeans',\n",
       "       'chickpea', 'kidneybeans', 'mango', 'watermelon', 'mungbean',\n",
       "       'rice', 'lentil', 'orange', 'apple', 'kidneybeans', 'chickpea',\n",
       "       'cotton', 'coconut', 'chickpea', 'mungbean', 'lentil', 'blackgram',\n",
       "       'coffee', 'pigeonpeas', 'muskmelon', 'pomegranate', 'papaya',\n",
       "       'lentil', 'blackgram', 'watermelon', 'mungbean', 'coconut',\n",
       "       'lentil', 'rice', 'mango', 'mungbean', 'maize', 'blackgram',\n",
       "       'cotton', 'rice', 'rice', 'jute', 'grapes', 'papaya', 'watermelon',\n",
       "       'pigeonpeas', 'mungbean', 'apple', 'mothbeans', 'chickpea',\n",
       "       'pigeonpeas', 'coconut', 'kidneybeans', 'lentil', 'grapes', 'rice',\n",
       "       'jute', 'rice', 'cotton', 'grapes', 'cotton', 'grapes', 'cotton',\n",
       "       'muskmelon', 'blackgram', 'pomegranate', 'coffee', 'papaya',\n",
       "       'grapes', 'banana', 'watermelon', 'orange', 'banana', 'apple',\n",
       "       'muskmelon', 'mungbean', 'lentil', 'grapes', 'jute', 'rice',\n",
       "       'coconut', 'blackgram', 'muskmelon', 'mungbean', 'pigeonpeas',\n",
       "       'rice', 'maize', 'lentil', 'banana', 'pomegranate', 'watermelon',\n",
       "       'rice', 'rice', 'kidneybeans', 'muskmelon', 'maize', 'jute',\n",
       "       'lentil', 'coffee', 'coffee', 'mothbeans', 'jute', 'kidneybeans',\n",
       "       'cotton', 'maize', 'muskmelon', 'apple', 'blackgram', 'muskmelon',\n",
       "       'grapes', 'lentil', 'muskmelon', 'apple', 'coffee', 'grapes',\n",
       "       'mango', 'apple', 'grapes', 'chickpea', 'coffee', 'muskmelon',\n",
       "       'muskmelon', 'kidneybeans', 'rice', 'muskmelon', 'watermelon',\n",
       "       'pomegranate', 'mothbeans', 'pigeonpeas', 'pomegranate', 'grapes',\n",
       "       'pomegranate', 'muskmelon', 'chickpea', 'mothbeans', 'pomegranate',\n",
       "       'orange', 'muskmelon', 'cotton', 'cotton', 'mothbeans', 'maize',\n",
       "       'kidneybeans', 'apple', 'apple', 'watermelon', 'blackgram',\n",
       "       'banana', 'cotton', 'coconut', 'grapes', 'apple', 'coconut',\n",
       "       'blackgram', 'mango', 'muskmelon', 'jute', 'banana', 'mungbean',\n",
       "       'pomegranate', 'mungbean', 'mango', 'mango', 'mungbean',\n",
       "       'kidneybeans', 'mothbeans', 'grapes', 'maize', 'banana',\n",
       "       'kidneybeans', 'rice', 'coconut', 'banana', 'grapes', 'muskmelon',\n",
       "       'kidneybeans', 'pigeonpeas', 'coffee', 'cotton', 'mungbean',\n",
       "       'cotton', 'chickpea', 'grapes', 'apple', 'muskmelon', 'grapes',\n",
       "       'rice', 'watermelon', 'muskmelon', 'rice', 'coffee', 'grapes',\n",
       "       'apple', 'maize', 'grapes', 'pomegranate', 'mothbeans',\n",
       "       'kidneybeans', 'mango', 'orange', 'blackgram', 'maize', 'coconut',\n",
       "       'kidneybeans', 'mothbeans', 'mungbean', 'orange', 'blackgram',\n",
       "       'orange', 'mothbeans', 'orange', 'pomegranate', 'grapes', 'grapes',\n",
       "       'chickpea', 'rice', 'cotton', 'jute', 'watermelon', 'mungbean',\n",
       "       'blackgram', 'watermelon', 'apple', 'pigeonpeas', 'grapes',\n",
       "       'apple', 'mothbeans', 'apple', 'mango', 'papaya', 'mango',\n",
       "       'pigeonpeas', 'mothbeans', 'blackgram', 'mungbean', 'pigeonpeas',\n",
       "       'blackgram', 'coconut', 'cotton', 'coconut', 'banana', 'papaya',\n",
       "       'muskmelon', 'lentil', 'rice', 'mothbeans', 'kidneybeans', 'jute',\n",
       "       'mungbean', 'blackgram', 'cotton', 'rice', 'orange', 'papaya',\n",
       "       'coconut', 'chickpea', 'rice', 'blackgram', 'maize', 'coconut',\n",
       "       'kidneybeans', 'jute', 'kidneybeans', 'mango', 'coffee',\n",
       "       'mothbeans', 'pigeonpeas', 'mothbeans', 'lentil', 'maize',\n",
       "       'muskmelon', 'mungbean', 'rice', 'coconut', 'lentil', 'apple',\n",
       "       'jute', 'blackgram', 'watermelon', 'lentil', 'pomegranate',\n",
       "       'mango', 'grapes', 'lentil', 'mango', 'lentil', 'rice', 'lentil',\n",
       "       'coffee', 'pomegranate', 'banana', 'pigeonpeas', 'kidneybeans',\n",
       "       'maize', 'kidneybeans', 'blackgram', 'pomegranate', 'coconut',\n",
       "       'mothbeans', 'coffee', 'pomegranate', 'rice', 'pigeonpeas',\n",
       "       'pomegranate', 'mothbeans', 'blackgram', 'maize', 'pigeonpeas',\n",
       "       'mungbean', 'blackgram', 'rice', 'chickpea', 'kidneybeans',\n",
       "       'coffee', 'orange', 'apple', 'apple', 'banana', 'watermelon',\n",
       "       'grapes'], dtype=object)"
      ]
     },
     "execution_count": 555,
     "metadata": {},
     "output_type": "execute_result"
    }
   ],
   "source": [
    "lrpred_test= lr.predict(x_test)\n",
    "lrpred_test"
   ]
  },
  {
   "cell_type": "code",
   "execution_count": null,
   "id": "0d90a546",
   "metadata": {},
   "outputs": [],
   "source": []
  },
  {
   "cell_type": "code",
   "execution_count": 556,
   "id": "aBhF-C4UXq4J",
   "metadata": {
    "id": "aBhF-C4UXq4J"
   },
   "outputs": [],
   "source": [
    "lrpred_test= lr.predict(x_test)\n",
    "dtcpred_test= dtc.predict(x_test)\n",
    "rfpred_test= rf.predict(x_test)\n",
    "knnpred_test= knn.predict(x_test)\n",
    "nbpred_test= nb.predict(x_test)\n",
    "# svmpred_test= svm.predict(x_test)\n",
    "# xgbpred_test= xgb.predict(x_test)"
   ]
  },
  {
   "cell_type": "code",
   "execution_count": 557,
   "id": "ujHGrAnVUXFW",
   "metadata": {
    "id": "ujHGrAnVUXFW"
   },
   "outputs": [],
   "source": [
    "lrpred_train = lr.predict(x_train)\n",
    "dtcpred_train = dtc.predict(x_train)\n",
    "rfpred_train = rf.predict(x_train)\n",
    "knnpred_train = knn.predict(x_train)\n",
    "nbpred_train = nb.predict(x_train)\n",
    "# svmpred_train = svm.predict(x_train)\n",
    "# xgbpred_train = xgb.predict(x_train)"
   ]
  },
  {
   "cell_type": "code",
   "execution_count": null,
   "id": "4mnI1P4UWnIw",
   "metadata": {
    "id": "4mnI1P4UWnIw"
   },
   "outputs": [],
   "source": []
  },
  {
   "cell_type": "markdown",
   "id": "-Ml-8gbpUdI-",
   "metadata": {
    "id": "-Ml-8gbpUdI-"
   },
   "source": [
    "#Accuracy Score"
   ]
  },
  {
   "cell_type": "code",
   "execution_count": 558,
   "id": "V8xT7tEhUgRP",
   "metadata": {
    "id": "V8xT7tEhUgRP"
   },
   "outputs": [],
   "source": [
    "from sklearn.metrics import accuracy_score,classification_report,confusion_matrix,roc_auc_score,roc_curve"
   ]
  },
  {
   "cell_type": "markdown",
   "id": "65hAwe3sYbK0",
   "metadata": {
    "id": "65hAwe3sYbK0"
   },
   "source": [
    "#Logistic regression is noly for 2 categories\n",
    "not only consider accuracy but also all performance metrics\n",
    "-> optimal one should be choosen from over and underfitting\n",
    "overfitting - test>train\n",
    "underfitting - test<<<<<train ex: 72 & 97\n",
    "optimal - test<train ex: 97 & 99"
   ]
  },
  {
   "cell_type": "code",
   "execution_count": 559,
   "id": "I2akqPdnUiEF",
   "metadata": {
    "colab": {
     "base_uri": "https://localhost:8080/"
    },
    "id": "I2akqPdnUiEF",
    "outputId": "0065484d-9ea3-43f0-8ff4-c4d153183079"
   },
   "outputs": [
    {
     "data": {
      "text/plain": [
       "0.925"
      ]
     },
     "execution_count": 559,
     "metadata": {},
     "output_type": "execute_result"
    }
   ],
   "source": [
    "accuracy_score(y_test,lrpred_test) # test accuracy"
   ]
  },
  {
   "cell_type": "code",
   "execution_count": 560,
   "id": "E83h_uHZUkIo",
   "metadata": {
    "colab": {
     "base_uri": "https://localhost:8080/"
    },
    "id": "E83h_uHZUkIo",
    "outputId": "87b5a3e7-2b35-411d-a387-6695cd87c9f7"
   },
   "outputs": [
    {
     "data": {
      "text/plain": [
       "0.9477272727272728"
      ]
     },
     "execution_count": 560,
     "metadata": {},
     "output_type": "execute_result"
    }
   ],
   "source": [
    "accuracy_score(y_train,lrpred_train) # train accuracy"
   ]
  },
  {
   "cell_type": "code",
   "execution_count": 561,
   "id": "CrBc-FCecpkk",
   "metadata": {
    "id": "CrBc-FCecpkk"
   },
   "outputs": [],
   "source": [
    "from sklearn.metrics import accuracy_score,classification_report,confusion_matrix,roc_auc_score,roc_curve\n",
    "from sklearn.model_selection import cross_val_score"
   ]
  },
  {
   "cell_type": "code",
   "execution_count": 562,
   "id": "tFHc1m3ActtG",
   "metadata": {
    "colab": {
     "base_uri": "https://localhost:8080/",
     "height": 864
    },
    "id": "tFHc1m3ActtG",
    "outputId": "d9d57695-5c4f-4825-ba50-f3745bae0867"
   },
   "outputs": [
    {
     "data": {
      "text/html": [
       "<div>\n",
       "<style scoped>\n",
       "    .dataframe tbody tr th:only-of-type {\n",
       "        vertical-align: middle;\n",
       "    }\n",
       "\n",
       "    .dataframe tbody tr th {\n",
       "        vertical-align: top;\n",
       "    }\n",
       "\n",
       "    .dataframe thead th {\n",
       "        text-align: right;\n",
       "    }\n",
       "</style>\n",
       "<table border=\"1\" class=\"dataframe\">\n",
       "  <thead>\n",
       "    <tr style=\"text-align: right;\">\n",
       "      <th>col_0</th>\n",
       "      <th>apple</th>\n",
       "      <th>banana</th>\n",
       "      <th>blackgram</th>\n",
       "      <th>chickpea</th>\n",
       "      <th>coconut</th>\n",
       "      <th>coffee</th>\n",
       "      <th>cotton</th>\n",
       "      <th>grapes</th>\n",
       "      <th>jute</th>\n",
       "      <th>kidneybeans</th>\n",
       "      <th>...</th>\n",
       "      <th>mango</th>\n",
       "      <th>mothbeans</th>\n",
       "      <th>mungbean</th>\n",
       "      <th>muskmelon</th>\n",
       "      <th>orange</th>\n",
       "      <th>papaya</th>\n",
       "      <th>pigeonpeas</th>\n",
       "      <th>pomegranate</th>\n",
       "      <th>rice</th>\n",
       "      <th>watermelon</th>\n",
       "    </tr>\n",
       "    <tr>\n",
       "      <th>label</th>\n",
       "      <th></th>\n",
       "      <th></th>\n",
       "      <th></th>\n",
       "      <th></th>\n",
       "      <th></th>\n",
       "      <th></th>\n",
       "      <th></th>\n",
       "      <th></th>\n",
       "      <th></th>\n",
       "      <th></th>\n",
       "      <th></th>\n",
       "      <th></th>\n",
       "      <th></th>\n",
       "      <th></th>\n",
       "      <th></th>\n",
       "      <th></th>\n",
       "      <th></th>\n",
       "      <th></th>\n",
       "      <th></th>\n",
       "      <th></th>\n",
       "      <th></th>\n",
       "    </tr>\n",
       "  </thead>\n",
       "  <tbody>\n",
       "    <tr>\n",
       "      <th>apple</th>\n",
       "      <td>22</td>\n",
       "      <td>0</td>\n",
       "      <td>0</td>\n",
       "      <td>0</td>\n",
       "      <td>0</td>\n",
       "      <td>0</td>\n",
       "      <td>0</td>\n",
       "      <td>0</td>\n",
       "      <td>0</td>\n",
       "      <td>0</td>\n",
       "      <td>...</td>\n",
       "      <td>0</td>\n",
       "      <td>0</td>\n",
       "      <td>0</td>\n",
       "      <td>0</td>\n",
       "      <td>0</td>\n",
       "      <td>0</td>\n",
       "      <td>0</td>\n",
       "      <td>0</td>\n",
       "      <td>0</td>\n",
       "      <td>0</td>\n",
       "    </tr>\n",
       "    <tr>\n",
       "      <th>banana</th>\n",
       "      <td>0</td>\n",
       "      <td>18</td>\n",
       "      <td>0</td>\n",
       "      <td>0</td>\n",
       "      <td>0</td>\n",
       "      <td>0</td>\n",
       "      <td>0</td>\n",
       "      <td>0</td>\n",
       "      <td>0</td>\n",
       "      <td>0</td>\n",
       "      <td>...</td>\n",
       "      <td>0</td>\n",
       "      <td>0</td>\n",
       "      <td>0</td>\n",
       "      <td>0</td>\n",
       "      <td>0</td>\n",
       "      <td>0</td>\n",
       "      <td>0</td>\n",
       "      <td>0</td>\n",
       "      <td>0</td>\n",
       "      <td>0</td>\n",
       "    </tr>\n",
       "    <tr>\n",
       "      <th>blackgram</th>\n",
       "      <td>0</td>\n",
       "      <td>0</td>\n",
       "      <td>20</td>\n",
       "      <td>0</td>\n",
       "      <td>0</td>\n",
       "      <td>0</td>\n",
       "      <td>0</td>\n",
       "      <td>0</td>\n",
       "      <td>0</td>\n",
       "      <td>0</td>\n",
       "      <td>...</td>\n",
       "      <td>0</td>\n",
       "      <td>0</td>\n",
       "      <td>0</td>\n",
       "      <td>0</td>\n",
       "      <td>0</td>\n",
       "      <td>0</td>\n",
       "      <td>0</td>\n",
       "      <td>0</td>\n",
       "      <td>0</td>\n",
       "      <td>0</td>\n",
       "    </tr>\n",
       "    <tr>\n",
       "      <th>chickpea</th>\n",
       "      <td>0</td>\n",
       "      <td>0</td>\n",
       "      <td>0</td>\n",
       "      <td>15</td>\n",
       "      <td>0</td>\n",
       "      <td>0</td>\n",
       "      <td>0</td>\n",
       "      <td>0</td>\n",
       "      <td>0</td>\n",
       "      <td>0</td>\n",
       "      <td>...</td>\n",
       "      <td>0</td>\n",
       "      <td>0</td>\n",
       "      <td>0</td>\n",
       "      <td>0</td>\n",
       "      <td>0</td>\n",
       "      <td>0</td>\n",
       "      <td>0</td>\n",
       "      <td>0</td>\n",
       "      <td>0</td>\n",
       "      <td>0</td>\n",
       "    </tr>\n",
       "    <tr>\n",
       "      <th>coconut</th>\n",
       "      <td>0</td>\n",
       "      <td>0</td>\n",
       "      <td>0</td>\n",
       "      <td>0</td>\n",
       "      <td>18</td>\n",
       "      <td>0</td>\n",
       "      <td>0</td>\n",
       "      <td>0</td>\n",
       "      <td>0</td>\n",
       "      <td>0</td>\n",
       "      <td>...</td>\n",
       "      <td>0</td>\n",
       "      <td>0</td>\n",
       "      <td>0</td>\n",
       "      <td>0</td>\n",
       "      <td>0</td>\n",
       "      <td>0</td>\n",
       "      <td>0</td>\n",
       "      <td>0</td>\n",
       "      <td>0</td>\n",
       "      <td>0</td>\n",
       "    </tr>\n",
       "    <tr>\n",
       "      <th>coffee</th>\n",
       "      <td>0</td>\n",
       "      <td>0</td>\n",
       "      <td>0</td>\n",
       "      <td>0</td>\n",
       "      <td>0</td>\n",
       "      <td>17</td>\n",
       "      <td>0</td>\n",
       "      <td>0</td>\n",
       "      <td>0</td>\n",
       "      <td>0</td>\n",
       "      <td>...</td>\n",
       "      <td>0</td>\n",
       "      <td>0</td>\n",
       "      <td>0</td>\n",
       "      <td>0</td>\n",
       "      <td>0</td>\n",
       "      <td>0</td>\n",
       "      <td>0</td>\n",
       "      <td>0</td>\n",
       "      <td>0</td>\n",
       "      <td>0</td>\n",
       "    </tr>\n",
       "    <tr>\n",
       "      <th>cotton</th>\n",
       "      <td>0</td>\n",
       "      <td>0</td>\n",
       "      <td>0</td>\n",
       "      <td>0</td>\n",
       "      <td>0</td>\n",
       "      <td>0</td>\n",
       "      <td>22</td>\n",
       "      <td>0</td>\n",
       "      <td>0</td>\n",
       "      <td>0</td>\n",
       "      <td>...</td>\n",
       "      <td>0</td>\n",
       "      <td>0</td>\n",
       "      <td>0</td>\n",
       "      <td>0</td>\n",
       "      <td>0</td>\n",
       "      <td>0</td>\n",
       "      <td>0</td>\n",
       "      <td>0</td>\n",
       "      <td>0</td>\n",
       "      <td>0</td>\n",
       "    </tr>\n",
       "    <tr>\n",
       "      <th>grapes</th>\n",
       "      <td>0</td>\n",
       "      <td>0</td>\n",
       "      <td>0</td>\n",
       "      <td>0</td>\n",
       "      <td>0</td>\n",
       "      <td>0</td>\n",
       "      <td>0</td>\n",
       "      <td>29</td>\n",
       "      <td>0</td>\n",
       "      <td>0</td>\n",
       "      <td>...</td>\n",
       "      <td>0</td>\n",
       "      <td>0</td>\n",
       "      <td>0</td>\n",
       "      <td>0</td>\n",
       "      <td>0</td>\n",
       "      <td>0</td>\n",
       "      <td>0</td>\n",
       "      <td>0</td>\n",
       "      <td>0</td>\n",
       "      <td>0</td>\n",
       "    </tr>\n",
       "    <tr>\n",
       "      <th>jute</th>\n",
       "      <td>0</td>\n",
       "      <td>0</td>\n",
       "      <td>0</td>\n",
       "      <td>0</td>\n",
       "      <td>0</td>\n",
       "      <td>0</td>\n",
       "      <td>0</td>\n",
       "      <td>0</td>\n",
       "      <td>13</td>\n",
       "      <td>0</td>\n",
       "      <td>...</td>\n",
       "      <td>0</td>\n",
       "      <td>0</td>\n",
       "      <td>0</td>\n",
       "      <td>0</td>\n",
       "      <td>0</td>\n",
       "      <td>0</td>\n",
       "      <td>0</td>\n",
       "      <td>0</td>\n",
       "      <td>12</td>\n",
       "      <td>0</td>\n",
       "    </tr>\n",
       "    <tr>\n",
       "      <th>kidneybeans</th>\n",
       "      <td>0</td>\n",
       "      <td>0</td>\n",
       "      <td>0</td>\n",
       "      <td>0</td>\n",
       "      <td>0</td>\n",
       "      <td>0</td>\n",
       "      <td>0</td>\n",
       "      <td>0</td>\n",
       "      <td>0</td>\n",
       "      <td>19</td>\n",
       "      <td>...</td>\n",
       "      <td>0</td>\n",
       "      <td>0</td>\n",
       "      <td>0</td>\n",
       "      <td>0</td>\n",
       "      <td>0</td>\n",
       "      <td>0</td>\n",
       "      <td>1</td>\n",
       "      <td>0</td>\n",
       "      <td>0</td>\n",
       "      <td>0</td>\n",
       "    </tr>\n",
       "    <tr>\n",
       "      <th>lentil</th>\n",
       "      <td>0</td>\n",
       "      <td>0</td>\n",
       "      <td>0</td>\n",
       "      <td>0</td>\n",
       "      <td>0</td>\n",
       "      <td>0</td>\n",
       "      <td>0</td>\n",
       "      <td>0</td>\n",
       "      <td>0</td>\n",
       "      <td>0</td>\n",
       "      <td>...</td>\n",
       "      <td>0</td>\n",
       "      <td>0</td>\n",
       "      <td>0</td>\n",
       "      <td>0</td>\n",
       "      <td>0</td>\n",
       "      <td>0</td>\n",
       "      <td>0</td>\n",
       "      <td>0</td>\n",
       "      <td>0</td>\n",
       "      <td>0</td>\n",
       "    </tr>\n",
       "    <tr>\n",
       "      <th>maize</th>\n",
       "      <td>0</td>\n",
       "      <td>0</td>\n",
       "      <td>0</td>\n",
       "      <td>0</td>\n",
       "      <td>0</td>\n",
       "      <td>0</td>\n",
       "      <td>2</td>\n",
       "      <td>0</td>\n",
       "      <td>0</td>\n",
       "      <td>0</td>\n",
       "      <td>...</td>\n",
       "      <td>0</td>\n",
       "      <td>0</td>\n",
       "      <td>0</td>\n",
       "      <td>0</td>\n",
       "      <td>0</td>\n",
       "      <td>0</td>\n",
       "      <td>0</td>\n",
       "      <td>0</td>\n",
       "      <td>0</td>\n",
       "      <td>0</td>\n",
       "    </tr>\n",
       "    <tr>\n",
       "      <th>mango</th>\n",
       "      <td>0</td>\n",
       "      <td>0</td>\n",
       "      <td>0</td>\n",
       "      <td>0</td>\n",
       "      <td>0</td>\n",
       "      <td>0</td>\n",
       "      <td>0</td>\n",
       "      <td>0</td>\n",
       "      <td>0</td>\n",
       "      <td>0</td>\n",
       "      <td>...</td>\n",
       "      <td>16</td>\n",
       "      <td>1</td>\n",
       "      <td>0</td>\n",
       "      <td>0</td>\n",
       "      <td>0</td>\n",
       "      <td>0</td>\n",
       "      <td>0</td>\n",
       "      <td>0</td>\n",
       "      <td>0</td>\n",
       "      <td>0</td>\n",
       "    </tr>\n",
       "    <tr>\n",
       "      <th>mothbeans</th>\n",
       "      <td>0</td>\n",
       "      <td>0</td>\n",
       "      <td>3</td>\n",
       "      <td>0</td>\n",
       "      <td>0</td>\n",
       "      <td>0</td>\n",
       "      <td>0</td>\n",
       "      <td>0</td>\n",
       "      <td>0</td>\n",
       "      <td>0</td>\n",
       "      <td>...</td>\n",
       "      <td>4</td>\n",
       "      <td>17</td>\n",
       "      <td>0</td>\n",
       "      <td>0</td>\n",
       "      <td>0</td>\n",
       "      <td>0</td>\n",
       "      <td>0</td>\n",
       "      <td>0</td>\n",
       "      <td>0</td>\n",
       "      <td>0</td>\n",
       "    </tr>\n",
       "    <tr>\n",
       "      <th>mungbean</th>\n",
       "      <td>0</td>\n",
       "      <td>0</td>\n",
       "      <td>0</td>\n",
       "      <td>0</td>\n",
       "      <td>0</td>\n",
       "      <td>0</td>\n",
       "      <td>0</td>\n",
       "      <td>0</td>\n",
       "      <td>0</td>\n",
       "      <td>0</td>\n",
       "      <td>...</td>\n",
       "      <td>0</td>\n",
       "      <td>0</td>\n",
       "      <td>24</td>\n",
       "      <td>0</td>\n",
       "      <td>0</td>\n",
       "      <td>0</td>\n",
       "      <td>0</td>\n",
       "      <td>0</td>\n",
       "      <td>0</td>\n",
       "      <td>0</td>\n",
       "    </tr>\n",
       "    <tr>\n",
       "      <th>muskmelon</th>\n",
       "      <td>0</td>\n",
       "      <td>0</td>\n",
       "      <td>0</td>\n",
       "      <td>0</td>\n",
       "      <td>0</td>\n",
       "      <td>0</td>\n",
       "      <td>0</td>\n",
       "      <td>0</td>\n",
       "      <td>0</td>\n",
       "      <td>0</td>\n",
       "      <td>...</td>\n",
       "      <td>0</td>\n",
       "      <td>0</td>\n",
       "      <td>0</td>\n",
       "      <td>26</td>\n",
       "      <td>0</td>\n",
       "      <td>0</td>\n",
       "      <td>0</td>\n",
       "      <td>0</td>\n",
       "      <td>0</td>\n",
       "      <td>0</td>\n",
       "    </tr>\n",
       "    <tr>\n",
       "      <th>orange</th>\n",
       "      <td>0</td>\n",
       "      <td>0</td>\n",
       "      <td>0</td>\n",
       "      <td>0</td>\n",
       "      <td>0</td>\n",
       "      <td>0</td>\n",
       "      <td>0</td>\n",
       "      <td>0</td>\n",
       "      <td>0</td>\n",
       "      <td>0</td>\n",
       "      <td>...</td>\n",
       "      <td>0</td>\n",
       "      <td>0</td>\n",
       "      <td>0</td>\n",
       "      <td>0</td>\n",
       "      <td>15</td>\n",
       "      <td>0</td>\n",
       "      <td>0</td>\n",
       "      <td>0</td>\n",
       "      <td>0</td>\n",
       "      <td>0</td>\n",
       "    </tr>\n",
       "    <tr>\n",
       "      <th>papaya</th>\n",
       "      <td>0</td>\n",
       "      <td>0</td>\n",
       "      <td>0</td>\n",
       "      <td>0</td>\n",
       "      <td>0</td>\n",
       "      <td>0</td>\n",
       "      <td>0</td>\n",
       "      <td>0</td>\n",
       "      <td>0</td>\n",
       "      <td>0</td>\n",
       "      <td>...</td>\n",
       "      <td>0</td>\n",
       "      <td>0</td>\n",
       "      <td>0</td>\n",
       "      <td>0</td>\n",
       "      <td>0</td>\n",
       "      <td>10</td>\n",
       "      <td>0</td>\n",
       "      <td>0</td>\n",
       "      <td>4</td>\n",
       "      <td>0</td>\n",
       "    </tr>\n",
       "    <tr>\n",
       "      <th>pigeonpeas</th>\n",
       "      <td>0</td>\n",
       "      <td>0</td>\n",
       "      <td>1</td>\n",
       "      <td>0</td>\n",
       "      <td>0</td>\n",
       "      <td>0</td>\n",
       "      <td>0</td>\n",
       "      <td>0</td>\n",
       "      <td>0</td>\n",
       "      <td>2</td>\n",
       "      <td>...</td>\n",
       "      <td>0</td>\n",
       "      <td>0</td>\n",
       "      <td>0</td>\n",
       "      <td>0</td>\n",
       "      <td>0</td>\n",
       "      <td>0</td>\n",
       "      <td>16</td>\n",
       "      <td>0</td>\n",
       "      <td>0</td>\n",
       "      <td>0</td>\n",
       "    </tr>\n",
       "    <tr>\n",
       "      <th>pomegranate</th>\n",
       "      <td>0</td>\n",
       "      <td>0</td>\n",
       "      <td>0</td>\n",
       "      <td>0</td>\n",
       "      <td>0</td>\n",
       "      <td>0</td>\n",
       "      <td>0</td>\n",
       "      <td>0</td>\n",
       "      <td>0</td>\n",
       "      <td>0</td>\n",
       "      <td>...</td>\n",
       "      <td>0</td>\n",
       "      <td>0</td>\n",
       "      <td>0</td>\n",
       "      <td>0</td>\n",
       "      <td>0</td>\n",
       "      <td>0</td>\n",
       "      <td>0</td>\n",
       "      <td>23</td>\n",
       "      <td>0</td>\n",
       "      <td>0</td>\n",
       "    </tr>\n",
       "    <tr>\n",
       "      <th>rice</th>\n",
       "      <td>0</td>\n",
       "      <td>0</td>\n",
       "      <td>0</td>\n",
       "      <td>0</td>\n",
       "      <td>0</td>\n",
       "      <td>0</td>\n",
       "      <td>0</td>\n",
       "      <td>0</td>\n",
       "      <td>1</td>\n",
       "      <td>0</td>\n",
       "      <td>...</td>\n",
       "      <td>0</td>\n",
       "      <td>0</td>\n",
       "      <td>0</td>\n",
       "      <td>0</td>\n",
       "      <td>0</td>\n",
       "      <td>0</td>\n",
       "      <td>0</td>\n",
       "      <td>0</td>\n",
       "      <td>12</td>\n",
       "      <td>0</td>\n",
       "    </tr>\n",
       "    <tr>\n",
       "      <th>watermelon</th>\n",
       "      <td>0</td>\n",
       "      <td>0</td>\n",
       "      <td>0</td>\n",
       "      <td>0</td>\n",
       "      <td>0</td>\n",
       "      <td>0</td>\n",
       "      <td>0</td>\n",
       "      <td>0</td>\n",
       "      <td>0</td>\n",
       "      <td>0</td>\n",
       "      <td>...</td>\n",
       "      <td>0</td>\n",
       "      <td>0</td>\n",
       "      <td>0</td>\n",
       "      <td>0</td>\n",
       "      <td>0</td>\n",
       "      <td>0</td>\n",
       "      <td>0</td>\n",
       "      <td>0</td>\n",
       "      <td>0</td>\n",
       "      <td>19</td>\n",
       "    </tr>\n",
       "  </tbody>\n",
       "</table>\n",
       "<p>22 rows × 22 columns</p>\n",
       "</div>"
      ],
      "text/plain": [
       "col_0        apple  banana  blackgram  chickpea  coconut  coffee  cotton  \\\n",
       "label                                                                      \n",
       "apple           22       0          0         0        0       0       0   \n",
       "banana           0      18          0         0        0       0       0   \n",
       "blackgram        0       0         20         0        0       0       0   \n",
       "chickpea         0       0          0        15        0       0       0   \n",
       "coconut          0       0          0         0       18       0       0   \n",
       "coffee           0       0          0         0        0      17       0   \n",
       "cotton           0       0          0         0        0       0      22   \n",
       "grapes           0       0          0         0        0       0       0   \n",
       "jute             0       0          0         0        0       0       0   \n",
       "kidneybeans      0       0          0         0        0       0       0   \n",
       "lentil           0       0          0         0        0       0       0   \n",
       "maize            0       0          0         0        0       0       2   \n",
       "mango            0       0          0         0        0       0       0   \n",
       "mothbeans        0       0          3         0        0       0       0   \n",
       "mungbean         0       0          0         0        0       0       0   \n",
       "muskmelon        0       0          0         0        0       0       0   \n",
       "orange           0       0          0         0        0       0       0   \n",
       "papaya           0       0          0         0        0       0       0   \n",
       "pigeonpeas       0       0          1         0        0       0       0   \n",
       "pomegranate      0       0          0         0        0       0       0   \n",
       "rice             0       0          0         0        0       0       0   \n",
       "watermelon       0       0          0         0        0       0       0   \n",
       "\n",
       "col_0        grapes  jute  kidneybeans  ...  mango  mothbeans  mungbean  \\\n",
       "label                                   ...                               \n",
       "apple             0     0            0  ...      0          0         0   \n",
       "banana            0     0            0  ...      0          0         0   \n",
       "blackgram         0     0            0  ...      0          0         0   \n",
       "chickpea          0     0            0  ...      0          0         0   \n",
       "coconut           0     0            0  ...      0          0         0   \n",
       "coffee            0     0            0  ...      0          0         0   \n",
       "cotton            0     0            0  ...      0          0         0   \n",
       "grapes           29     0            0  ...      0          0         0   \n",
       "jute              0    13            0  ...      0          0         0   \n",
       "kidneybeans       0     0           19  ...      0          0         0   \n",
       "lentil            0     0            0  ...      0          0         0   \n",
       "maize             0     0            0  ...      0          0         0   \n",
       "mango             0     0            0  ...     16          1         0   \n",
       "mothbeans         0     0            0  ...      4         17         0   \n",
       "mungbean          0     0            0  ...      0          0        24   \n",
       "muskmelon         0     0            0  ...      0          0         0   \n",
       "orange            0     0            0  ...      0          0         0   \n",
       "papaya            0     0            0  ...      0          0         0   \n",
       "pigeonpeas        0     0            2  ...      0          0         0   \n",
       "pomegranate       0     0            0  ...      0          0         0   \n",
       "rice              0     1            0  ...      0          0         0   \n",
       "watermelon        0     0            0  ...      0          0         0   \n",
       "\n",
       "col_0        muskmelon  orange  papaya  pigeonpeas  pomegranate  rice  \\\n",
       "label                                                                   \n",
       "apple                0       0       0           0            0     0   \n",
       "banana               0       0       0           0            0     0   \n",
       "blackgram            0       0       0           0            0     0   \n",
       "chickpea             0       0       0           0            0     0   \n",
       "coconut              0       0       0           0            0     0   \n",
       "coffee               0       0       0           0            0     0   \n",
       "cotton               0       0       0           0            0     0   \n",
       "grapes               0       0       0           0            0     0   \n",
       "jute                 0       0       0           0            0    12   \n",
       "kidneybeans          0       0       0           1            0     0   \n",
       "lentil               0       0       0           0            0     0   \n",
       "maize                0       0       0           0            0     0   \n",
       "mango                0       0       0           0            0     0   \n",
       "mothbeans            0       0       0           0            0     0   \n",
       "mungbean             0       0       0           0            0     0   \n",
       "muskmelon           26       0       0           0            0     0   \n",
       "orange               0      15       0           0            0     0   \n",
       "papaya               0       0      10           0            0     4   \n",
       "pigeonpeas           0       0       0          16            0     0   \n",
       "pomegranate          0       0       0           0           23     0   \n",
       "rice                 0       0       0           0            0    12   \n",
       "watermelon           0       0       0           0            0     0   \n",
       "\n",
       "col_0        watermelon  \n",
       "label                    \n",
       "apple                 0  \n",
       "banana                0  \n",
       "blackgram             0  \n",
       "chickpea              0  \n",
       "coconut               0  \n",
       "coffee                0  \n",
       "cotton                0  \n",
       "grapes                0  \n",
       "jute                  0  \n",
       "kidneybeans           0  \n",
       "lentil                0  \n",
       "maize                 0  \n",
       "mango                 0  \n",
       "mothbeans             0  \n",
       "mungbean              0  \n",
       "muskmelon             0  \n",
       "orange                0  \n",
       "papaya                0  \n",
       "pigeonpeas            0  \n",
       "pomegranate           0  \n",
       "rice                  0  \n",
       "watermelon           19  \n",
       "\n",
       "[22 rows x 22 columns]"
      ]
     },
     "execution_count": 562,
     "metadata": {},
     "output_type": "execute_result"
    }
   ],
   "source": [
    "pd.crosstab(y_test,lrpred_test)"
   ]
  },
  {
   "cell_type": "code",
   "execution_count": 563,
   "id": "2IBSj8-7cx3O",
   "metadata": {
    "colab": {
     "base_uri": "https://localhost:8080/"
    },
    "id": "2IBSj8-7cx3O",
    "outputId": "367ece0a-ea56-463f-d67a-941e1b7e18c9"
   },
   "outputs": [
    {
     "name": "stdout",
     "output_type": "stream",
     "text": [
      "              precision    recall  f1-score   support\n",
      "\n",
      "       apple       1.00      1.00      1.00        22\n",
      "      banana       1.00      1.00      1.00        18\n",
      "   blackgram       0.83      0.91      0.87        22\n",
      "    chickpea       1.00      1.00      1.00        15\n",
      "     coconut       1.00      1.00      1.00        18\n",
      "      coffee       1.00      1.00      1.00        17\n",
      "      cotton       0.92      1.00      0.96        22\n",
      "      grapes       1.00      1.00      1.00        29\n",
      "        jute       0.93      0.52      0.67        25\n",
      " kidneybeans       0.90      0.95      0.93        20\n",
      "      lentil       0.90      1.00      0.95        18\n",
      "       maize       1.00      0.90      0.95        20\n",
      "       mango       0.80      0.94      0.86        17\n",
      "   mothbeans       0.94      0.71      0.81        24\n",
      "    mungbean       1.00      1.00      1.00        24\n",
      "   muskmelon       1.00      1.00      1.00        26\n",
      "      orange       1.00      1.00      1.00        15\n",
      "      papaya       1.00      0.71      0.83        14\n",
      "  pigeonpeas       0.94      0.84      0.89        19\n",
      " pomegranate       1.00      1.00      1.00        23\n",
      "        rice       0.43      0.92      0.59        13\n",
      "  watermelon       1.00      1.00      1.00        19\n",
      "\n",
      "    accuracy                           0.93       440\n",
      "   macro avg       0.94      0.93      0.92       440\n",
      "weighted avg       0.94      0.93      0.93       440\n",
      "\n"
     ]
    }
   ],
   "source": [
    "print(classification_report(y_test,lrpred_test))"
   ]
  },
  {
   "cell_type": "code",
   "execution_count": 564,
   "id": "xIkAfKaffEBv",
   "metadata": {
    "id": "xIkAfKaffEBv"
   },
   "outputs": [],
   "source": [
    "probability = lr.predict_proba(x_test)[:,1]"
   ]
  },
  {
   "cell_type": "code",
   "execution_count": 565,
   "id": "djs5wUoOhh6D",
   "metadata": {
    "colab": {
     "base_uri": "https://localhost:8080/",
     "height": 311
    },
    "id": "djs5wUoOhh6D",
    "outputId": "d21c2c93-f2f6-42a4-f6df-5d492174486d"
   },
   "outputs": [
    {
     "ename": "ValueError",
     "evalue": "multiclass format is not supported",
     "output_type": "error",
     "traceback": [
      "\u001b[0;31m---------------------------------------------------------------------------\u001b[0m",
      "\u001b[0;31mValueError\u001b[0m                                Traceback (most recent call last)",
      "\u001b[0;32m/tmp/wsuser/ipykernel_326/1976653817.py\u001b[0m in \u001b[0;36m<module>\u001b[0;34m\u001b[0m\n\u001b[0;32m----> 1\u001b[0;31m \u001b[0mfpr\u001b[0m\u001b[0;34m,\u001b[0m\u001b[0mtpr\u001b[0m\u001b[0;34m,\u001b[0m\u001b[0mthresholds\u001b[0m \u001b[0;34m=\u001b[0m \u001b[0mroc_curve\u001b[0m\u001b[0;34m(\u001b[0m\u001b[0my_test\u001b[0m\u001b[0;34m,\u001b[0m\u001b[0mprobability\u001b[0m\u001b[0;34m)\u001b[0m\u001b[0;34m\u001b[0m\u001b[0;34m\u001b[0m\u001b[0m\n\u001b[0m",
      "\u001b[0;32m/opt/conda/envs/Python-3.9/lib/python3.9/site-packages/sklearn/metrics/_ranking.py\u001b[0m in \u001b[0;36mroc_curve\u001b[0;34m(y_true, y_score, pos_label, sample_weight, drop_intermediate)\u001b[0m\n\u001b[1;32m    960\u001b[0m \u001b[0;34m\u001b[0m\u001b[0m\n\u001b[1;32m    961\u001b[0m     \"\"\"\n\u001b[0;32m--> 962\u001b[0;31m     fps, tps, thresholds = _binary_clf_curve(\n\u001b[0m\u001b[1;32m    963\u001b[0m         \u001b[0my_true\u001b[0m\u001b[0;34m,\u001b[0m \u001b[0my_score\u001b[0m\u001b[0;34m,\u001b[0m \u001b[0mpos_label\u001b[0m\u001b[0;34m=\u001b[0m\u001b[0mpos_label\u001b[0m\u001b[0;34m,\u001b[0m \u001b[0msample_weight\u001b[0m\u001b[0;34m=\u001b[0m\u001b[0msample_weight\u001b[0m\u001b[0;34m\u001b[0m\u001b[0;34m\u001b[0m\u001b[0m\n\u001b[1;32m    964\u001b[0m     )\n",
      "\u001b[0;32m/opt/conda/envs/Python-3.9/lib/python3.9/site-packages/sklearn/metrics/_ranking.py\u001b[0m in \u001b[0;36m_binary_clf_curve\u001b[0;34m(y_true, y_score, pos_label, sample_weight)\u001b[0m\n\u001b[1;32m    729\u001b[0m     \u001b[0my_type\u001b[0m \u001b[0;34m=\u001b[0m \u001b[0mtype_of_target\u001b[0m\u001b[0;34m(\u001b[0m\u001b[0my_true\u001b[0m\u001b[0;34m)\u001b[0m\u001b[0;34m\u001b[0m\u001b[0;34m\u001b[0m\u001b[0m\n\u001b[1;32m    730\u001b[0m     \u001b[0;32mif\u001b[0m \u001b[0;32mnot\u001b[0m \u001b[0;34m(\u001b[0m\u001b[0my_type\u001b[0m \u001b[0;34m==\u001b[0m \u001b[0;34m\"binary\"\u001b[0m \u001b[0;32mor\u001b[0m \u001b[0;34m(\u001b[0m\u001b[0my_type\u001b[0m \u001b[0;34m==\u001b[0m \u001b[0;34m\"multiclass\"\u001b[0m \u001b[0;32mand\u001b[0m \u001b[0mpos_label\u001b[0m \u001b[0;32mis\u001b[0m \u001b[0;32mnot\u001b[0m \u001b[0;32mNone\u001b[0m\u001b[0;34m)\u001b[0m\u001b[0;34m)\u001b[0m\u001b[0;34m:\u001b[0m\u001b[0;34m\u001b[0m\u001b[0;34m\u001b[0m\u001b[0m\n\u001b[0;32m--> 731\u001b[0;31m         \u001b[0;32mraise\u001b[0m \u001b[0mValueError\u001b[0m\u001b[0;34m(\u001b[0m\u001b[0;34m\"{0} format is not supported\"\u001b[0m\u001b[0;34m.\u001b[0m\u001b[0mformat\u001b[0m\u001b[0;34m(\u001b[0m\u001b[0my_type\u001b[0m\u001b[0;34m)\u001b[0m\u001b[0;34m)\u001b[0m\u001b[0;34m\u001b[0m\u001b[0;34m\u001b[0m\u001b[0m\n\u001b[0m\u001b[1;32m    732\u001b[0m \u001b[0;34m\u001b[0m\u001b[0m\n\u001b[1;32m    733\u001b[0m     \u001b[0mcheck_consistent_length\u001b[0m\u001b[0;34m(\u001b[0m\u001b[0my_true\u001b[0m\u001b[0;34m,\u001b[0m \u001b[0my_score\u001b[0m\u001b[0;34m,\u001b[0m \u001b[0msample_weight\u001b[0m\u001b[0;34m)\u001b[0m\u001b[0;34m\u001b[0m\u001b[0;34m\u001b[0m\u001b[0m\n",
      "\u001b[0;31mValueError\u001b[0m: multiclass format is not supported"
     ]
    }
   ],
   "source": [
    "fpr,tpr,thresholds = roc_curve(y_test,probability)"
   ]
  },
  {
   "cell_type": "markdown",
   "id": "vgOm9tPaYexb",
   "metadata": {
    "id": "vgOm9tPaYexb"
   },
   "source": [
    "#Decision tree"
   ]
  },
  {
   "cell_type": "code",
   "execution_count": 566,
   "id": "IjsjHCYLYhgs",
   "metadata": {
    "colab": {
     "base_uri": "https://localhost:8080/"
    },
    "id": "IjsjHCYLYhgs",
    "outputId": "41ea742b-b148-4438-b697-dffb6b806100"
   },
   "outputs": [
    {
     "data": {
      "text/plain": [
       "0.9954545454545455"
      ]
     },
     "execution_count": 566,
     "metadata": {},
     "output_type": "execute_result"
    }
   ],
   "source": [
    "accuracy_score(y_test,dtcpred_test) "
   ]
  },
  {
   "cell_type": "code",
   "execution_count": 567,
   "id": "R9vEKKJ-YkKa",
   "metadata": {
    "colab": {
     "base_uri": "https://localhost:8080/"
    },
    "id": "R9vEKKJ-YkKa",
    "outputId": "0d7d4d19-83d3-4353-cdb2-1e2c7db06762"
   },
   "outputs": [
    {
     "data": {
      "text/plain": [
       "1.0"
      ]
     },
     "execution_count": 567,
     "metadata": {},
     "output_type": "execute_result"
    }
   ],
   "source": [
    "accuracy_score(y_train,dtcpred_train) "
   ]
  },
  {
   "cell_type": "code",
   "execution_count": 568,
   "id": "bJ21yNJTezcF",
   "metadata": {
    "colab": {
     "base_uri": "https://localhost:8080/"
    },
    "id": "bJ21yNJTezcF",
    "outputId": "d500cb85-6bfe-4841-b6ec-ce91fbbf77df"
   },
   "outputs": [
    {
     "data": {
      "text/plain": [
       "array([0., 0., 0., 0., 0., 0., 0., 0., 0., 0., 0., 0., 0., 0., 0., 1., 1.,\n",
       "       0., 1., 0., 0., 0., 0., 0., 0., 1., 0., 0., 0., 0., 0., 0., 0., 0.,\n",
       "       0., 0., 0., 0., 0., 0., 0., 0., 0., 0., 0., 0., 0., 0., 0., 0., 0.,\n",
       "       0., 0., 0., 0., 0., 0., 0., 0., 0., 0., 0., 0., 1., 0., 0., 0., 0.,\n",
       "       0., 0., 0., 0., 0., 0., 0., 0., 0., 0., 0., 0., 0., 1., 0., 0., 0.,\n",
       "       0., 0., 0., 0., 0., 0., 0., 0., 0., 0., 0., 0., 0., 0., 0., 1., 0.,\n",
       "       0., 0., 0., 0., 0., 1., 0., 0., 0., 0., 0., 0., 0., 0., 0., 0., 0.,\n",
       "       0., 0., 0., 0., 0., 0., 0., 0., 0., 0., 0., 0., 0., 0., 0., 0., 0.,\n",
       "       0., 0., 0., 0., 0., 0., 0., 0., 0., 0., 0., 0., 0., 0., 0., 0., 0.,\n",
       "       0., 0., 0., 0., 0., 0., 0., 0., 0., 0., 0., 0., 0., 0., 0., 0., 0.,\n",
       "       0., 0., 0., 0., 0., 0., 0., 0., 0., 0., 0., 0., 0., 0., 0., 0., 0.,\n",
       "       0., 0., 1., 0., 0., 1., 0., 0., 0., 0., 0., 0., 0., 0., 0., 0., 0.,\n",
       "       0., 0., 0., 0., 1., 0., 0., 0., 0., 0., 0., 0., 0., 0., 0., 0., 0.,\n",
       "       0., 0., 0., 0., 0., 0., 0., 0., 0., 0., 0., 0., 0., 0., 0., 0., 0.,\n",
       "       0., 0., 0., 0., 0., 0., 0., 0., 0., 0., 0., 0., 0., 0., 0., 0., 0.,\n",
       "       0., 0., 0., 0., 0., 0., 0., 0., 0., 0., 0., 0., 1., 0., 0., 0., 0.,\n",
       "       0., 0., 0., 0., 0., 1., 0., 0., 0., 0., 0., 0., 0., 0., 0., 0., 1.,\n",
       "       0., 0., 0., 1., 0., 0., 0., 0., 0., 0., 0., 0., 0., 0., 0., 0., 0.,\n",
       "       0., 0., 0., 0., 0., 0., 0., 0., 0., 0., 0., 0., 0., 0., 0., 0., 0.,\n",
       "       0., 0., 0., 0., 0., 0., 0., 0., 0., 0., 0., 0., 0., 0., 0., 0., 0.,\n",
       "       0., 0., 0., 0., 0., 0., 0., 0., 0., 0., 0., 0., 0., 0., 0., 0., 0.,\n",
       "       0., 0., 0., 1., 0., 0., 0., 0., 0., 0., 0., 0., 0., 0., 0., 0., 0.,\n",
       "       0., 0., 0., 0., 0., 0., 0., 0., 0., 0., 0., 0., 0., 0., 0., 0., 0.,\n",
       "       0., 0., 0., 0., 0., 0., 0., 0., 0., 0., 0., 0., 0., 0., 0., 0., 0.,\n",
       "       0., 0., 1., 0., 0., 0., 0., 0., 0., 0., 0., 0., 0., 0., 0., 0., 0.,\n",
       "       0., 0., 0., 0., 0., 0., 0., 0., 0., 0., 0., 0., 1., 0., 0.])"
      ]
     },
     "execution_count": 568,
     "metadata": {},
     "output_type": "execute_result"
    }
   ],
   "source": [
    "probability = dtc.predict_proba(x_test)[:,1]\n",
    "probability"
   ]
  },
  {
   "cell_type": "code",
   "execution_count": 569,
   "id": "J63pYLeixV_b",
   "metadata": {
    "colab": {
     "base_uri": "https://localhost:8080/",
     "height": 287
    },
    "id": "J63pYLeixV_b",
    "outputId": "5fbec7e9-d107-45c4-c69b-45345f26ca77"
   },
   "outputs": [
    {
     "ename": "ValueError",
     "evalue": "multi_class must be in ('ovo', 'ovr')",
     "output_type": "error",
     "traceback": [
      "\u001b[0;31m---------------------------------------------------------------------------\u001b[0m",
      "\u001b[0;31mValueError\u001b[0m                                Traceback (most recent call last)",
      "\u001b[0;32m/tmp/wsuser/ipykernel_326/3554369489.py\u001b[0m in \u001b[0;36m<module>\u001b[0;34m\u001b[0m\n\u001b[0;32m----> 1\u001b[0;31m \u001b[0mroc_auc_score\u001b[0m\u001b[0;34m(\u001b[0m\u001b[0my_test\u001b[0m\u001b[0;34m,\u001b[0m\u001b[0mprobability\u001b[0m\u001b[0;34m)\u001b[0m\u001b[0;34m\u001b[0m\u001b[0;34m\u001b[0m\u001b[0m\n\u001b[0m",
      "\u001b[0;32m/opt/conda/envs/Python-3.9/lib/python3.9/site-packages/sklearn/metrics/_ranking.py\u001b[0m in \u001b[0;36mroc_auc_score\u001b[0;34m(y_true, y_score, average, sample_weight, max_fpr, multi_class, labels)\u001b[0m\n\u001b[1;32m    558\u001b[0m             )\n\u001b[1;32m    559\u001b[0m         \u001b[0;32mif\u001b[0m \u001b[0mmulti_class\u001b[0m \u001b[0;34m==\u001b[0m \u001b[0;34m\"raise\"\u001b[0m\u001b[0;34m:\u001b[0m\u001b[0;34m\u001b[0m\u001b[0;34m\u001b[0m\u001b[0m\n\u001b[0;32m--> 560\u001b[0;31m             \u001b[0;32mraise\u001b[0m \u001b[0mValueError\u001b[0m\u001b[0;34m(\u001b[0m\u001b[0;34m\"multi_class must be in ('ovo', 'ovr')\"\u001b[0m\u001b[0;34m)\u001b[0m\u001b[0;34m\u001b[0m\u001b[0;34m\u001b[0m\u001b[0m\n\u001b[0m\u001b[1;32m    561\u001b[0m         return _multiclass_roc_auc_score(\n\u001b[1;32m    562\u001b[0m             \u001b[0my_true\u001b[0m\u001b[0;34m,\u001b[0m \u001b[0my_score\u001b[0m\u001b[0;34m,\u001b[0m \u001b[0mlabels\u001b[0m\u001b[0;34m,\u001b[0m \u001b[0mmulti_class\u001b[0m\u001b[0;34m,\u001b[0m \u001b[0maverage\u001b[0m\u001b[0;34m,\u001b[0m \u001b[0msample_weight\u001b[0m\u001b[0;34m\u001b[0m\u001b[0;34m\u001b[0m\u001b[0m\n",
      "\u001b[0;31mValueError\u001b[0m: multi_class must be in ('ovo', 'ovr')"
     ]
    }
   ],
   "source": [
    "roc_auc_score(y_test,probability)"
   ]
  },
  {
   "cell_type": "code",
   "execution_count": 570,
   "id": "spjb51aQ1L-e",
   "metadata": {
    "colab": {
     "base_uri": "https://localhost:8080/"
    },
    "id": "spjb51aQ1L-e",
    "outputId": "5c95918a-e290-424e-b402-429b11c2c651"
   },
   "outputs": [
    {
     "data": {
      "text/plain": [
       "array([0.99090909, 0.98409091, 0.98636364, 0.99318182, 0.98181818])"
      ]
     },
     "execution_count": 570,
     "metadata": {},
     "output_type": "execute_result"
    }
   ],
   "source": [
    "score = cross_val_score(dtc, X, y,cv=5)\n",
    "score"
   ]
  },
  {
   "cell_type": "code",
   "execution_count": 571,
   "id": "aFdGwoUE5Eh0",
   "metadata": {
    "colab": {
     "base_uri": "https://localhost:8080/"
    },
    "id": "aFdGwoUE5Eh0",
    "outputId": "591e3ea8-373f-49da-f986-536c9887062d"
   },
   "outputs": [
    {
     "name": "stdout",
     "output_type": "stream",
     "text": [
      "              precision    recall  f1-score   support\n",
      "\n",
      "       apple       1.00      1.00      1.00        22\n",
      "      banana       1.00      1.00      1.00        18\n",
      "   blackgram       0.96      1.00      0.98        22\n",
      "    chickpea       1.00      1.00      1.00        15\n",
      "     coconut       1.00      1.00      1.00        18\n",
      "      coffee       1.00      1.00      1.00        17\n",
      "      cotton       1.00      1.00      1.00        22\n",
      "      grapes       1.00      1.00      1.00        29\n",
      "        jute       0.96      1.00      0.98        25\n",
      " kidneybeans       1.00      1.00      1.00        20\n",
      "      lentil       1.00      1.00      1.00        18\n",
      "       maize       1.00      1.00      1.00        20\n",
      "       mango       1.00      1.00      1.00        17\n",
      "   mothbeans       1.00      0.96      0.98        24\n",
      "    mungbean       1.00      1.00      1.00        24\n",
      "   muskmelon       1.00      1.00      1.00        26\n",
      "      orange       1.00      1.00      1.00        15\n",
      "      papaya       1.00      1.00      1.00        14\n",
      "  pigeonpeas       1.00      1.00      1.00        19\n",
      " pomegranate       1.00      1.00      1.00        23\n",
      "        rice       1.00      0.92      0.96        13\n",
      "  watermelon       1.00      1.00      1.00        19\n",
      "\n",
      "    accuracy                           1.00       440\n",
      "   macro avg       1.00      0.99      1.00       440\n",
      "weighted avg       1.00      1.00      1.00       440\n",
      "\n"
     ]
    }
   ],
   "source": [
    "print(classification_report(y_test,dtcpred_test))"
   ]
  },
  {
   "cell_type": "markdown",
   "id": "A_h-fiixYqIF",
   "metadata": {
    "id": "A_h-fiixYqIF"
   },
   "source": [
    "#Random forest"
   ]
  },
  {
   "cell_type": "code",
   "execution_count": 572,
   "id": "glKnTfWmYuH2",
   "metadata": {
    "colab": {
     "base_uri": "https://localhost:8080/"
    },
    "id": "glKnTfWmYuH2",
    "outputId": "be99183e-43a8-498a-df40-49ffc709cfbd"
   },
   "outputs": [
    {
     "data": {
      "text/plain": [
       "0.9977272727272727"
      ]
     },
     "execution_count": 572,
     "metadata": {},
     "output_type": "execute_result"
    }
   ],
   "source": [
    "accuracy_score(y_test,rfpred_test) "
   ]
  },
  {
   "cell_type": "code",
   "execution_count": 573,
   "id": "QIWvUcjMYxyU",
   "metadata": {
    "colab": {
     "base_uri": "https://localhost:8080/"
    },
    "id": "QIWvUcjMYxyU",
    "outputId": "3b055bc3-dc97-4e0f-c522-34acb173ee0c"
   },
   "outputs": [
    {
     "data": {
      "text/plain": [
       "1.0"
      ]
     },
     "execution_count": 573,
     "metadata": {},
     "output_type": "execute_result"
    }
   ],
   "source": [
    "accuracy_score(y_train,rfpred_train) "
   ]
  },
  {
   "cell_type": "code",
   "execution_count": 574,
   "id": "YSgzicPGmdfg",
   "metadata": {
    "id": "YSgzicPGmdfg"
   },
   "outputs": [],
   "source": [
    "probability = rf.predict_proba(x_test)"
   ]
  },
  {
   "cell_type": "code",
   "execution_count": 575,
   "id": "_MJvBTCh1nWj",
   "metadata": {
    "colab": {
     "base_uri": "https://localhost:8080/"
    },
    "id": "_MJvBTCh1nWj",
    "outputId": "bb03c6cd-5cdd-4e87-d734-e2b0553925c9"
   },
   "outputs": [
    {
     "data": {
      "text/plain": [
       "array([0.99772727, 0.99318182, 0.99772727, 0.99545455, 0.98636364])"
      ]
     },
     "execution_count": 575,
     "metadata": {},
     "output_type": "execute_result"
    }
   ],
   "source": [
    "score = cross_val_score(rf, X, y,cv=5)\n",
    "score"
   ]
  },
  {
   "cell_type": "markdown",
   "id": "IkImVlRnZeAv",
   "metadata": {
    "id": "IkImVlRnZeAv"
   },
   "source": [
    "#KNN"
   ]
  },
  {
   "cell_type": "code",
   "execution_count": 576,
   "id": "j-WH31YAbgLy",
   "metadata": {
    "colab": {
     "base_uri": "https://localhost:8080/"
    },
    "id": "j-WH31YAbgLy",
    "outputId": "936bfdb4-3b0e-40db-9c68-396c85088932"
   },
   "outputs": [
    {
     "data": {
      "text/plain": [
       "0.9772727272727273"
      ]
     },
     "execution_count": 576,
     "metadata": {},
     "output_type": "execute_result"
    }
   ],
   "source": [
    "accuracy_score(y_test,knnpred_test) "
   ]
  },
  {
   "cell_type": "code",
   "execution_count": 577,
   "id": "jYwwCyIIbjiw",
   "metadata": {
    "colab": {
     "base_uri": "https://localhost:8080/"
    },
    "id": "jYwwCyIIbjiw",
    "outputId": "e0a5bb3d-e686-4fd5-f830-b10b20ad392b"
   },
   "outputs": [
    {
     "data": {
      "text/plain": [
       "0.9903409090909091"
      ]
     },
     "execution_count": 577,
     "metadata": {},
     "output_type": "execute_result"
    }
   ],
   "source": [
    "accuracy_score(y_train,knnpred_train) "
   ]
  },
  {
   "cell_type": "code",
   "execution_count": 578,
   "id": "LH1YnOYlmvQH",
   "metadata": {
    "colab": {
     "base_uri": "https://localhost:8080/"
    },
    "id": "LH1YnOYlmvQH",
    "outputId": "5dfa9cfb-10e0-472f-fa2a-b0e8879a354d"
   },
   "outputs": [
    {
     "data": {
      "text/plain": [
       "array([0., 0., 0., 0., 0., 0., 0., 0., 0., 0., 0., 0., 0., 0., 0., 1., 1.,\n",
       "       0., 1., 0., 0., 0., 0., 0., 0., 1., 0., 0., 0., 0., 0., 0., 0., 0.,\n",
       "       0., 0., 0., 0., 0., 0., 0., 0., 0., 0., 0., 0., 0., 0., 0., 0., 0.,\n",
       "       0., 0., 0., 0., 0., 0., 0., 0., 0., 0., 0., 0., 1., 0., 0., 0., 0.,\n",
       "       0., 0., 0., 0., 0., 0., 0., 0., 0., 0., 0., 0., 0., 1., 0., 0., 0.,\n",
       "       0., 0., 0., 0., 0., 0., 0., 0., 0., 0., 0., 0., 0., 0., 0., 1., 0.,\n",
       "       0., 0., 0., 0., 0., 1., 0., 0., 0., 0., 0., 0., 0., 0., 0., 0., 0.,\n",
       "       0., 0., 0., 0., 0., 0., 0., 0., 0., 0., 0., 0., 0., 0., 0., 0., 0.,\n",
       "       0., 0., 0., 0., 0., 0., 0., 0., 0., 0., 0., 0., 0., 0., 0., 0., 0.,\n",
       "       0., 0., 0., 0., 0., 0., 0., 0., 0., 0., 0., 0., 0., 0., 0., 0., 0.,\n",
       "       0., 0., 0., 0., 0., 0., 0., 0., 0., 0., 0., 0., 0., 0., 0., 0., 0.,\n",
       "       0., 0., 1., 0., 0., 1., 0., 0., 0., 0., 0., 0., 0., 0., 0., 0., 0.,\n",
       "       0., 0., 0., 0., 1., 0., 0., 0., 0., 0., 0., 0., 0., 0., 0., 0., 0.,\n",
       "       0., 0., 0., 0., 0., 0., 0., 0., 0., 0., 0., 0., 0., 0., 0., 0., 0.,\n",
       "       0., 0., 0., 0., 0., 0., 0., 0., 0., 0., 0., 0., 0., 0., 0., 0., 0.,\n",
       "       0., 0., 0., 0., 0., 0., 0., 0., 0., 0., 0., 0., 1., 0., 0., 0., 0.,\n",
       "       0., 0., 0., 0., 0., 1., 0., 0., 0., 0., 0., 0., 0., 0., 0., 0., 1.,\n",
       "       0., 0., 0., 1., 0., 0., 0., 0., 0., 0., 0., 0., 0., 0., 0., 0., 0.,\n",
       "       0., 0., 0., 0., 0., 0., 0., 0., 0., 0., 0., 0., 0., 0., 0., 0., 0.,\n",
       "       0., 0., 0., 0., 0., 0., 0., 0., 0., 0., 0., 0., 0., 0., 0., 0., 0.,\n",
       "       0., 0., 0., 0., 0., 0., 0., 0., 0., 0., 0., 0., 0., 0., 0., 0., 0.,\n",
       "       0., 0., 0., 1., 0., 0., 0., 0., 0., 0., 0., 0., 0., 0., 0., 0., 0.,\n",
       "       0., 0., 0., 0., 0., 0., 0., 0., 0., 0., 0., 0., 0., 0., 0., 0., 0.,\n",
       "       0., 0., 0., 0., 0., 0., 0., 0., 0., 0., 0., 0., 0., 0., 0., 0., 0.,\n",
       "       0., 0., 1., 0., 0., 0., 0., 0., 0., 0., 0., 0., 0., 0., 0., 0., 0.,\n",
       "       0., 0., 0., 0., 0., 0., 0., 0., 0., 0., 0., 0., 1., 0., 0.])"
      ]
     },
     "execution_count": 578,
     "metadata": {},
     "output_type": "execute_result"
    }
   ],
   "source": [
    "probability = knn.predict_proba(x_test)[:,1]\n",
    "probability"
   ]
  },
  {
   "cell_type": "code",
   "execution_count": 579,
   "id": "8fKnceaZzDf9",
   "metadata": {
    "colab": {
     "base_uri": "https://localhost:8080/"
    },
    "id": "8fKnceaZzDf9",
    "outputId": "2e9b37c2-f847-4721-c904-9cf53ea97b3f"
   },
   "outputs": [
    {
     "data": {
      "text/plain": [
       "array([0.97727273, 0.98181818, 0.97954545, 0.98181818, 0.97954545])"
      ]
     },
     "execution_count": 579,
     "metadata": {},
     "output_type": "execute_result"
    }
   ],
   "source": [
    "score = cross_val_score(knn, X, y,cv=5)\n",
    "score"
   ]
  },
  {
   "cell_type": "code",
   "execution_count": 580,
   "id": "gmQziZvC4yHk",
   "metadata": {
    "colab": {
     "base_uri": "https://localhost:8080/"
    },
    "id": "gmQziZvC4yHk",
    "outputId": "650fd6ab-16a0-4bd2-aa7e-b613f6bada2a"
   },
   "outputs": [
    {
     "name": "stdout",
     "output_type": "stream",
     "text": [
      "              precision    recall  f1-score   support\n",
      "\n",
      "       apple       1.00      1.00      1.00        22\n",
      "      banana       1.00      1.00      1.00        18\n",
      "   blackgram       0.96      1.00      0.98        22\n",
      "    chickpea       1.00      1.00      1.00        15\n",
      "     coconut       1.00      1.00      1.00        18\n",
      "      coffee       1.00      1.00      1.00        17\n",
      "      cotton       0.96      1.00      0.98        22\n",
      "      grapes       1.00      1.00      1.00        29\n",
      "        jute       0.89      0.96      0.92        25\n",
      " kidneybeans       1.00      1.00      1.00        20\n",
      "      lentil       0.86      1.00      0.92        18\n",
      "       maize       1.00      0.95      0.97        20\n",
      "       mango       0.94      1.00      0.97        17\n",
      "   mothbeans       1.00      0.83      0.91        24\n",
      "    mungbean       1.00      1.00      1.00        24\n",
      "   muskmelon       1.00      1.00      1.00        26\n",
      "      orange       1.00      1.00      1.00        15\n",
      "      papaya       1.00      1.00      1.00        14\n",
      "  pigeonpeas       1.00      0.95      0.97        19\n",
      " pomegranate       1.00      1.00      1.00        23\n",
      "        rice       0.91      0.77      0.83        13\n",
      "  watermelon       1.00      1.00      1.00        19\n",
      "\n",
      "    accuracy                           0.98       440\n",
      "   macro avg       0.98      0.98      0.98       440\n",
      "weighted avg       0.98      0.98      0.98       440\n",
      "\n"
     ]
    }
   ],
   "source": [
    "print(classification_report(y_test,knnpred_test))"
   ]
  },
  {
   "cell_type": "markdown",
   "id": "CTRwEpL2bm4K",
   "metadata": {
    "id": "CTRwEpL2bm4K"
   },
   "source": [
    "#Naive Bayes"
   ]
  },
  {
   "cell_type": "code",
   "execution_count": 581,
   "id": "H1lVJj4Gdo2F",
   "metadata": {
    "colab": {
     "base_uri": "https://localhost:8080/"
    },
    "id": "H1lVJj4Gdo2F",
    "outputId": "c7cdc559-ec90-48f4-b905-897df3e387c7"
   },
   "outputs": [
    {
     "data": {
      "text/plain": [
       "0.9954545454545455"
      ]
     },
     "execution_count": 581,
     "metadata": {},
     "output_type": "execute_result"
    }
   ],
   "source": [
    "accuracy_score(y_test,nbpred_test) "
   ]
  },
  {
   "cell_type": "code",
   "execution_count": 582,
   "id": "DiifwP-RdrQd",
   "metadata": {
    "colab": {
     "base_uri": "https://localhost:8080/"
    },
    "id": "DiifwP-RdrQd",
    "outputId": "fca7c424-5505-431f-8840-db37c3d5a43c"
   },
   "outputs": [
    {
     "data": {
      "text/plain": [
       "0.9948863636363636"
      ]
     },
     "execution_count": 582,
     "metadata": {},
     "output_type": "execute_result"
    }
   ],
   "source": [
    "accuracy_score(y_train,nbpred_train) "
   ]
  },
  {
   "cell_type": "code",
   "execution_count": 583,
   "id": "E7_-FZ4VzgwU",
   "metadata": {
    "colab": {
     "base_uri": "https://localhost:8080/"
    },
    "id": "E7_-FZ4VzgwU",
    "outputId": "f171d39e-0c43-434e-8499-ee6f92435cbe"
   },
   "outputs": [
    {
     "data": {
      "text/plain": [
       "array([4.02056610e-070, 1.22766868e-037, 1.69336124e-126, 3.99041211e-040,\n",
       "       1.08471556e-025, 3.88254997e-026, 1.61902727e-132, 8.39318133e-096,\n",
       "       7.30830770e-029, 4.27141652e-065, 5.08808401e-037, 2.64068232e-027,\n",
       "       1.44726471e-053, 2.64843782e-063, 5.61253221e-081, 1.00000000e+000,\n",
       "       1.00000000e+000, 6.84760709e-040, 1.00000000e+000, 4.27800968e-078,\n",
       "       2.06597370e-052, 5.86539227e-062, 1.92106621e-046, 8.05734571e-015,\n",
       "       1.63222332e-039, 1.00000000e+000, 1.30425818e-071, 1.42392801e-060,\n",
       "       6.94611574e-037, 1.69849908e-031, 1.66590007e-030, 1.55953785e-022,\n",
       "       1.99548954e-038, 1.40800535e-062, 1.88812593e-059, 1.60823776e-024,\n",
       "       8.11574854e-049, 2.64818798e-048, 1.15643358e-033, 5.38236621e-069,\n",
       "       2.14676707e-037, 1.34111040e-064, 3.24493030e-066, 1.23663127e-020,\n",
       "       1.05932217e-049, 2.20163734e-042, 4.06708319e-035, 4.74243497e-031,\n",
       "       1.43271211e-158, 1.65128402e-025, 1.49721268e-160, 1.25234362e-041,\n",
       "       2.05572187e-058, 3.69921201e-035, 1.23788136e-024, 2.77124987e-051,\n",
       "       8.99692625e-021, 1.63614213e-019, 1.95804583e-022, 6.46027331e-058,\n",
       "       4.71661702e-042, 1.67597137e-045, 7.52148170e-041, 1.00000000e+000,\n",
       "       2.23106882e-049, 5.07617168e-035, 2.31564661e-157, 3.95770210e-066,\n",
       "       6.72799878e-072, 1.53312837e-021, 2.85045846e-070, 2.27086010e-077,\n",
       "       8.76671660e-084, 1.29238729e-027, 4.26972203e-041, 4.08088080e-033,\n",
       "       3.60638506e-033, 2.24525914e-042, 1.18929418e-029, 1.32686374e-051,\n",
       "       3.65577515e-151, 9.99999989e-001, 5.45533445e-064, 1.13490704e-051,\n",
       "       3.61145451e-028, 1.71645654e-039, 1.58370676e-037, 3.34938569e-060,\n",
       "       7.38910846e-052, 2.33608961e-036, 8.23664682e-030, 9.33448368e-073,\n",
       "       1.27300050e-078, 3.24190455e-022, 6.94023794e-048, 1.85489345e-040,\n",
       "       4.30422591e-136, 1.09839785e-020, 1.53801758e-065, 4.52167408e-039,\n",
       "       1.00000000e+000, 4.49570915e-014, 1.40004135e-051, 4.34634844e-062,\n",
       "       9.60469341e-074, 1.01574408e-034, 1.29390880e-043, 1.00000000e+000,\n",
       "       3.37776853e-039, 1.08971353e-030, 2.71323428e-038, 1.16289409e-065,\n",
       "       4.22668687e-030, 2.80047537e-164, 1.73120658e-038, 3.73122778e-056,\n",
       "       3.17865476e-040, 1.22799617e-066, 1.73497689e-030, 1.82509882e-029,\n",
       "       3.90077776e-038, 1.09990240e-024, 2.95391612e-042, 9.83907186e-031,\n",
       "       5.97348740e-126, 2.15548841e-159, 1.46872670e-143, 4.87899978e-088,\n",
       "       3.38406899e-029, 1.35456823e-043, 1.16123923e-040, 1.65467537e-046,\n",
       "       2.61818672e-100, 5.42679209e-070, 8.04713505e-117, 1.49452997e-154,\n",
       "       4.58337331e-036, 3.80150792e-070, 5.73892155e-153, 1.17737689e-038,\n",
       "       1.02174123e-050, 2.90802411e-038, 1.32341086e-037, 2.32148321e-098,\n",
       "       4.86391847e-040, 6.05604763e-034, 2.39927638e-015, 5.11288721e-048,\n",
       "       3.64110307e-068, 2.66937181e-031, 1.09753587e-044, 4.51191152e-059,\n",
       "       7.81147451e-049, 4.07864494e-042, 1.91768019e-062, 2.23579512e-045,\n",
       "       4.90321538e-027, 5.65045238e-041, 1.58523775e-029, 3.46242363e-025,\n",
       "       3.42885892e-043, 1.00744498e-021, 3.18876190e-066, 2.68140817e-031,\n",
       "       3.37167430e-024, 5.09142892e-038, 2.58679317e-035, 7.33745535e-068,\n",
       "       2.45802655e-081, 2.41579451e-162, 5.24720564e-061, 1.11157340e-064,\n",
       "       2.86672629e-070, 6.59579717e-060, 1.26828436e-083, 4.85840482e-020,\n",
       "       6.44118634e-046, 2.92298682e-045, 6.82754028e-020, 2.67668606e-057,\n",
       "       4.40277928e-028, 6.30736589e-064, 9.49246248e-039, 6.30467490e-039,\n",
       "       7.87017491e-037, 2.22664951e-029, 1.80636002e-034, 1.03968941e-009,\n",
       "       2.76351856e-063, 1.00000000e+000, 4.89745745e-024, 4.58507816e-071,\n",
       "       1.00000000e+000, 1.52930521e-065, 1.33344128e-038, 1.67728126e-048,\n",
       "       7.53956426e-046, 1.16228425e-073, 8.36714079e-030, 1.41194790e-051,\n",
       "       2.59939391e-073, 1.89258957e-043, 9.61591717e-036, 5.81839364e-040,\n",
       "       4.25873151e-079, 2.79839015e-040, 3.16830911e-045, 4.88866192e-052,\n",
       "       1.00000000e+000, 7.67543890e-029, 7.62420939e-030, 3.52700255e-034,\n",
       "       4.36805908e-023, 9.16694187e-131, 3.90658031e-041, 1.28511165e-032,\n",
       "       2.68692022e-029, 1.12977599e-066, 8.92684521e-052, 3.72005137e-030,\n",
       "       2.63826349e-073, 1.13230116e-027, 6.80140183e-135, 6.64418819e-026,\n",
       "       2.73519697e-036, 7.03797204e-044, 1.17173312e-065, 1.73840647e-038,\n",
       "       3.10770362e-038, 1.98717234e-067, 1.05198675e-045, 4.75596389e-043,\n",
       "       4.97718534e-064, 9.26021772e-051, 4.04417750e-075, 6.80318509e-057,\n",
       "       4.65574664e-066, 3.95142146e-072, 2.54864439e-158, 6.42001319e-033,\n",
       "       5.39704559e-032, 6.67563692e-035, 8.32567496e-134, 6.41477523e-017,\n",
       "       5.13328765e-033, 1.08935078e-023, 1.58343261e-040, 9.60461370e-070,\n",
       "       2.31004085e-075, 2.73112349e-037, 8.37822324e-074, 3.21158399e-041,\n",
       "       3.26680327e-037, 1.90416712e-156, 4.98236599e-061, 1.20790078e-050,\n",
       "       3.65134709e-066, 2.64204884e-037, 1.43314002e-036, 9.01601866e-028,\n",
       "       6.41497479e-067, 1.57148625e-026, 8.36751874e-089, 1.29855333e-060,\n",
       "       9.44727661e-062, 6.35178925e-033, 8.75514544e-041, 1.00000000e+000,\n",
       "       1.27077478e-031, 4.10252388e-058, 4.20079461e-065, 3.42549223e-073,\n",
       "       4.32037799e-040, 1.81757924e-043, 3.46000608e-054, 1.55390316e-033,\n",
       "       1.04748627e-019, 1.00000000e+000, 3.25755378e-052, 2.46232121e-039,\n",
       "       6.84709731e-045, 9.77859766e-054, 4.50521162e-063, 3.12916892e-048,\n",
       "       1.43993891e-144, 3.44083919e-084, 6.74668669e-065, 4.36797993e-042,\n",
       "       1.00000000e+000, 2.47871819e-130, 1.54426653e-043, 2.39250368e-043,\n",
       "       1.00000000e+000, 1.40529739e-069, 2.56582582e-045, 2.21904394e-130,\n",
       "       5.74313201e-061, 2.45788773e-042, 6.30491510e-028, 4.96600328e-035,\n",
       "       3.49290036e-033, 5.11721129e-156, 8.38404598e-072, 8.72671692e-064,\n",
       "       6.88406814e-037, 5.17250862e-084, 8.28758533e-039, 5.77655319e-024,\n",
       "       2.10350110e-033, 2.48545277e-044, 1.19036527e-058, 5.49463659e-065,\n",
       "       2.67166092e-068, 5.07833438e-020, 5.19267901e-077, 9.28979670e-038,\n",
       "       1.37223342e-072, 1.01669570e-147, 3.52944508e-063, 4.58906153e-077,\n",
       "       6.80650110e-037, 1.56847761e-041, 9.31702331e-048, 5.23405087e-144,\n",
       "       1.63130139e-055, 3.92828786e-049, 1.60358587e-093, 4.84738116e-036,\n",
       "       1.40076767e-058, 1.46139187e-049, 9.57248919e-072, 1.29887036e-044,\n",
       "       3.84774633e-063, 3.73394255e-054, 7.15505244e-144, 1.97937131e-020,\n",
       "       1.93446549e-022, 5.59489175e-017, 1.41071634e-020, 7.68417039e-044,\n",
       "       1.35437654e-046, 5.84645644e-032, 7.06631546e-062, 1.54832822e-046,\n",
       "       9.03383853e-062, 4.85858086e-066, 5.05647101e-108, 4.54800127e-065,\n",
       "       2.62442420e-061, 1.83437947e-029, 1.45253827e-062, 1.18338490e-064,\n",
       "       1.13371686e-070, 1.85074183e-029, 3.06888655e-047, 5.42108885e-045,\n",
       "       1.51360534e-034, 8.69808511e-039, 1.56979653e-032, 3.25574358e-042,\n",
       "       1.00000000e+000, 7.80287399e-022, 2.07715895e-037, 1.04996809e-049,\n",
       "       3.35992215e-025, 3.72665400e-063, 2.27909057e-131, 1.31742282e-019,\n",
       "       1.29843488e-046, 2.79446079e-046, 1.93340683e-022, 3.32386379e-034,\n",
       "       3.73704984e-057, 3.43551267e-047, 8.45259021e-059, 3.52327662e-161,\n",
       "       6.43573764e-018, 2.72422167e-056, 9.79256238e-036, 2.29246209e-047,\n",
       "       6.01202711e-131, 1.03310005e-021, 2.19055168e-146, 1.16987000e-063,\n",
       "       2.62573530e-030, 3.36740159e-051, 8.35258136e-065, 1.98874042e-071,\n",
       "       6.09627849e-051, 2.39022665e-027, 7.47432314e-038, 2.76403346e-040,\n",
       "       2.75691670e-025, 5.73274866e-069, 7.61168712e-052, 3.85889961e-064,\n",
       "       1.25341526e-024, 6.14450650e-046, 5.68931237e-029, 8.86082702e-041,\n",
       "       1.33230814e-030, 1.81858704e-061, 4.88627826e-070, 2.53288689e-047,\n",
       "       9.59824069e-053, 1.35009044e-050, 5.96824713e-039, 9.30924914e-033,\n",
       "       3.69536958e-036, 1.32333224e-032, 1.00000000e+000, 1.13813565e-050,\n",
       "       3.86014599e-124, 6.04584849e-037, 5.44965195e-125, 4.65975878e-036,\n",
       "       1.61705008e-030, 9.33261578e-030, 2.77243717e-049, 1.79274626e-056,\n",
       "       7.87065672e-034, 5.20594289e-040, 3.32655455e-107, 2.40155702e-038,\n",
       "       7.36264959e-078, 2.80082334e-040, 2.61187863e-031, 7.02101112e-051,\n",
       "       1.24980551e-033, 2.06218493e-061, 6.65021428e-043, 7.62981208e-169,\n",
       "       7.12088021e-148, 2.69454984e-029, 1.57509134e-076, 3.35409665e-066,\n",
       "       9.04497661e-056, 9.99999851e-001, 2.61647214e-028, 6.26303799e-076])"
      ]
     },
     "execution_count": 583,
     "metadata": {},
     "output_type": "execute_result"
    }
   ],
   "source": [
    "probability = nb.predict_proba(x_test)[:,1]\n",
    "probability"
   ]
  },
  {
   "cell_type": "code",
   "execution_count": null,
   "id": "hYMx-8sozn_o",
   "metadata": {
    "id": "hYMx-8sozn_o"
   },
   "outputs": [],
   "source": []
  },
  {
   "cell_type": "code",
   "execution_count": 584,
   "id": "uh-rrarG0fsQ",
   "metadata": {
    "colab": {
     "base_uri": "https://localhost:8080/"
    },
    "id": "uh-rrarG0fsQ",
    "outputId": "25fa4314-f79a-40d6-c692-51b54655dd4c"
   },
   "outputs": [
    {
     "data": {
      "text/plain": [
       "array([0.99545455, 0.99545455, 0.99545455, 0.99545455, 0.99090909])"
      ]
     },
     "execution_count": 584,
     "metadata": {},
     "output_type": "execute_result"
    }
   ],
   "source": [
    "score = cross_val_score(nb, X, y,cv=5)\n",
    "score"
   ]
  },
  {
   "cell_type": "markdown",
   "id": "kfB-tmqgeAOd",
   "metadata": {
    "id": "kfB-tmqgeAOd"
   },
   "source": [
    "#SVM"
   ]
  },
  {
   "cell_type": "code",
   "execution_count": 585,
   "id": "MOXEqkwteGAt",
   "metadata": {
    "colab": {
     "base_uri": "https://localhost:8080/"
    },
    "id": "MOXEqkwteGAt",
    "outputId": "054a70fb-e771-4f8a-beee-bc8f8969367b"
   },
   "outputs": [],
   "source": [
    "# accuracy_score(y_test,svmpred_test) "
   ]
  },
  {
   "cell_type": "code",
   "execution_count": 586,
   "id": "H36HJS74eJJ2",
   "metadata": {
    "colab": {
     "base_uri": "https://localhost:8080/"
    },
    "id": "H36HJS74eJJ2",
    "outputId": "3e3c0d46-a81f-4d9d-c926-2c87c5cdc626"
   },
   "outputs": [],
   "source": [
    "# accuracy_score(y_train,svmpred_train) "
   ]
  },
  {
   "cell_type": "code",
   "execution_count": 587,
   "id": "3ktX0rve1zaa",
   "metadata": {
    "colab": {
     "base_uri": "https://localhost:8080/"
    },
    "id": "3ktX0rve1zaa",
    "outputId": "dc8a694b-d639-49eb-b34d-5d7de368d268"
   },
   "outputs": [
    {
     "data": {
      "text/plain": [
       "array([0.99545455, 0.99545455, 0.99545455, 0.99545455, 0.99090909])"
      ]
     },
     "execution_count": 587,
     "metadata": {},
     "output_type": "execute_result"
    }
   ],
   "source": [
    "# score = cross_val_score(svm, X, y,cv=5)\n",
    "score"
   ]
  },
  {
   "cell_type": "markdown",
   "id": "jA404GhBeLHI",
   "metadata": {
    "id": "jA404GhBeLHI"
   },
   "source": [
    "#XGB"
   ]
  },
  {
   "cell_type": "code",
   "execution_count": 588,
   "id": "BJTHn1HFeNro",
   "metadata": {
    "colab": {
     "base_uri": "https://localhost:8080/"
    },
    "id": "BJTHn1HFeNro",
    "outputId": "9ecbf14c-566f-45f1-b6f2-d34448f46dcf"
   },
   "outputs": [],
   "source": [
    "# accuracy_score(y_test,xgbpred_test) "
   ]
  },
  {
   "cell_type": "code",
   "execution_count": 589,
   "id": "Dup5SAoNeUbN",
   "metadata": {
    "colab": {
     "base_uri": "https://localhost:8080/"
    },
    "id": "Dup5SAoNeUbN",
    "outputId": "9581e320-ece3-4b95-b90d-e7faa2c541af"
   },
   "outputs": [],
   "source": [
    "# accuracy_score(y_train,xgbpred_train) "
   ]
  },
  {
   "cell_type": "code",
   "execution_count": 590,
   "id": "LMZY5LWC12Qj",
   "metadata": {
    "colab": {
     "base_uri": "https://localhost:8080/"
    },
    "id": "LMZY5LWC12Qj",
    "outputId": "486a3de7-39fc-4c81-ffe3-dc5f4f8cbae3"
   },
   "outputs": [],
   "source": [
    "# score = cross_val_score(xgb, X, y,cv=5)\n",
    "# score"
   ]
  },
  {
   "cell_type": "markdown",
   "id": "qaIWoVRb7hqR",
   "metadata": {
    "id": "qaIWoVRb7hqR"
   },
   "source": [
    "cross validation score is nothing but if we take 5 as cv=5 then 4 different samples are trained and 1 sample is tested"
   ]
  },
  {
   "cell_type": "markdown",
   "id": "kETui5mW5L8_",
   "metadata": {
    "id": "kETui5mW5L8_"
   },
   "source": [
    "#Hyper parameter tunning"
   ]
  },
  {
   "cell_type": "code",
   "execution_count": 591,
   "id": "4g1UK8EY7aif",
   "metadata": {
    "id": "4g1UK8EY7aif"
   },
   "outputs": [],
   "source": [
    "from sklearn.model_selection import RandomizedSearchCV"
   ]
  },
  {
   "cell_type": "code",
   "execution_count": 592,
   "id": "F-3L0BO09VpU",
   "metadata": {
    "id": "F-3L0BO09VpU"
   },
   "outputs": [],
   "source": [
    "param_dist = {\"max_depth\": range(1,20) ,\n",
    "              \"min_samples_leaf\": range(1,10),\n",
    "              \"criterion\": [\"gini\"]}"
   ]
  },
  {
   "cell_type": "code",
   "execution_count": 593,
   "id": "0Tzl5Hi9-379",
   "metadata": {
    "id": "0Tzl5Hi9-379"
   },
   "outputs": [],
   "source": [
    "tree_cv = RandomizedSearchCV(dtc, param_dist, cv=5)"
   ]
  },
  {
   "cell_type": "code",
   "execution_count": 594,
   "id": "Hgq5XMLQ-8EF",
   "metadata": {
    "colab": {
     "base_uri": "https://localhost:8080/"
    },
    "id": "Hgq5XMLQ-8EF",
    "outputId": "913a4629-cf0d-4591-e21b-10629430536c"
   },
   "outputs": [
    {
     "data": {
      "text/plain": [
       "RandomizedSearchCV(cv=5, estimator=DecisionTreeClassifier(),\n",
       "                   param_distributions={'criterion': ['gini'],\n",
       "                                        'max_depth': range(1, 20),\n",
       "                                        'min_samples_leaf': range(1, 10)})"
      ]
     },
     "execution_count": 594,
     "metadata": {},
     "output_type": "execute_result"
    }
   ],
   "source": [
    "tree_cv.fit(x_train,y_train)"
   ]
  },
  {
   "cell_type": "code",
   "execution_count": 595,
   "id": "6Gie5F-3_LWw",
   "metadata": {
    "colab": {
     "base_uri": "https://localhost:8080/"
    },
    "id": "6Gie5F-3_LWw",
    "outputId": "5a7b94fe-fbdf-43aa-a1c4-87080d039df5"
   },
   "outputs": [
    {
     "name": "stdout",
     "output_type": "stream",
     "text": [
      "Tuned Decision Tree Parameters: {'min_samples_leaf': 3, 'max_depth': 15, 'criterion': 'gini'}\n",
      "Best score is 0.9818181818181818\n"
     ]
    }
   ],
   "source": [
    "print(\"Tuned Decision Tree Parameters: {}\".format(tree_cv.best_params_))\n",
    "print(\"Best score is {}\".format(tree_cv.best_score_))"
   ]
  },
  {
   "cell_type": "code",
   "execution_count": 596,
   "id": "VYWVEJHkACkF",
   "metadata": {
    "colab": {
     "base_uri": "https://localhost:8080/"
    },
    "id": "VYWVEJHkACkF",
    "outputId": "06acd15f-5650-4754-a753-bacc023d8fc0"
   },
   "outputs": [
    {
     "data": {
      "text/plain": [
       "DecisionTreeClassifier(max_depth=15, min_samples_leaf=3)"
      ]
     },
     "execution_count": 596,
     "metadata": {},
     "output_type": "execute_result"
    }
   ],
   "source": [
    "tree_cv.best_estimator_.fit(x_train,y_train)"
   ]
  },
  {
   "cell_type": "code",
   "execution_count": 597,
   "id": "nzlSHb84DB9O",
   "metadata": {
    "id": "nzlSHb84DB9O"
   },
   "outputs": [],
   "source": [
    "mod_rs=tree_cv.best_estimator_"
   ]
  },
  {
   "cell_type": "code",
   "execution_count": 598,
   "id": "7b90d55c",
   "metadata": {},
   "outputs": [
    {
     "data": {
      "text/plain": [
       "DecisionTreeClassifier(max_depth=15, min_samples_leaf=3)"
      ]
     },
     "execution_count": 598,
     "metadata": {},
     "output_type": "execute_result"
    }
   ],
   "source": [
    "mod_rs.fit(x_train,y_train)"
   ]
  },
  {
   "cell_type": "code",
   "execution_count": 599,
   "id": "25d8062b",
   "metadata": {},
   "outputs": [],
   "source": [
    "pred_rs=mod_rs.predict(x_test)"
   ]
  },
  {
   "cell_type": "code",
   "execution_count": 600,
   "id": "7d42be9d",
   "metadata": {},
   "outputs": [
    {
     "name": "stdout",
     "output_type": "stream",
     "text": [
      "              precision    recall  f1-score   support\n",
      "\n",
      "       apple       1.00      1.00      1.00        22\n",
      "      banana       1.00      1.00      1.00        18\n",
      "   blackgram       0.96      1.00      0.98        22\n",
      "    chickpea       1.00      1.00      1.00        15\n",
      "     coconut       1.00      1.00      1.00        18\n",
      "      coffee       1.00      1.00      1.00        17\n",
      "      cotton       1.00      1.00      1.00        22\n",
      "      grapes       1.00      1.00      1.00        29\n",
      "        jute       0.96      0.92      0.94        25\n",
      " kidneybeans       1.00      1.00      1.00        20\n",
      "      lentil       1.00      1.00      1.00        18\n",
      "       maize       1.00      1.00      1.00        20\n",
      "       mango       1.00      1.00      1.00        17\n",
      "   mothbeans       1.00      0.96      0.98        24\n",
      "    mungbean       1.00      1.00      1.00        24\n",
      "   muskmelon       1.00      1.00      1.00        26\n",
      "      orange       1.00      1.00      1.00        15\n",
      "      papaya       1.00      1.00      1.00        14\n",
      "  pigeonpeas       1.00      1.00      1.00        19\n",
      " pomegranate       1.00      1.00      1.00        23\n",
      "        rice       0.86      0.92      0.89        13\n",
      "  watermelon       1.00      1.00      1.00        19\n",
      "\n",
      "    accuracy                           0.99       440\n",
      "   macro avg       0.99      0.99      0.99       440\n",
      "weighted avg       0.99      0.99      0.99       440\n",
      "\n"
     ]
    }
   ],
   "source": [
    "print(classification_report(y_test,pred_rs))"
   ]
  },
  {
   "cell_type": "code",
   "execution_count": 614,
   "id": "208d8d43",
   "metadata": {
    "scrolled": false
   },
   "outputs": [
    {
     "name": "stdout",
     "output_type": "stream",
     "text": [
      "Requirement already satisfied: ibm_watson_machine_learning in /opt/conda/envs/Python-3.9/lib/python3.9/site-packages (1.0.257)\n",
      "Requirement already satisfied: lomond in /opt/conda/envs/Python-3.9/lib/python3.9/site-packages (from ibm_watson_machine_learning) (0.3.3)\n",
      "Requirement already satisfied: certifi in /opt/conda/envs/Python-3.9/lib/python3.9/site-packages (from ibm_watson_machine_learning) (2022.9.24)\n",
      "Requirement already satisfied: urllib3 in /opt/conda/envs/Python-3.9/lib/python3.9/site-packages (from ibm_watson_machine_learning) (1.26.7)\n",
      "Requirement already satisfied: importlib-metadata in /opt/conda/envs/Python-3.9/lib/python3.9/site-packages (from ibm_watson_machine_learning) (4.8.2)\n",
      "Requirement already satisfied: requests in /opt/conda/envs/Python-3.9/lib/python3.9/site-packages (from ibm_watson_machine_learning) (2.26.0)\n",
      "Requirement already satisfied: pandas<1.5.0,>=0.24.2 in /opt/conda/envs/Python-3.9/lib/python3.9/site-packages (from ibm_watson_machine_learning) (1.3.4)\n",
      "Requirement already satisfied: ibm-cos-sdk==2.11.* in /opt/conda/envs/Python-3.9/lib/python3.9/site-packages (from ibm_watson_machine_learning) (2.11.0)\n",
      "Requirement already satisfied: packaging in /opt/conda/envs/Python-3.9/lib/python3.9/site-packages (from ibm_watson_machine_learning) (21.3)\n",
      "Requirement already satisfied: tabulate in /opt/conda/envs/Python-3.9/lib/python3.9/site-packages (from ibm_watson_machine_learning) (0.8.9)\n",
      "Requirement already satisfied: ibm-cos-sdk-core==2.11.0 in /opt/conda/envs/Python-3.9/lib/python3.9/site-packages (from ibm-cos-sdk==2.11.*->ibm_watson_machine_learning) (2.11.0)\n",
      "Requirement already satisfied: ibm-cos-sdk-s3transfer==2.11.0 in /opt/conda/envs/Python-3.9/lib/python3.9/site-packages (from ibm-cos-sdk==2.11.*->ibm_watson_machine_learning) (2.11.0)\n",
      "Requirement already satisfied: jmespath<1.0.0,>=0.7.1 in /opt/conda/envs/Python-3.9/lib/python3.9/site-packages (from ibm-cos-sdk==2.11.*->ibm_watson_machine_learning) (0.10.0)\n",
      "Requirement already satisfied: python-dateutil<3.0.0,>=2.1 in /opt/conda/envs/Python-3.9/lib/python3.9/site-packages (from ibm-cos-sdk-core==2.11.0->ibm-cos-sdk==2.11.*->ibm_watson_machine_learning) (2.8.2)\n",
      "Requirement already satisfied: pytz>=2017.3 in /opt/conda/envs/Python-3.9/lib/python3.9/site-packages (from pandas<1.5.0,>=0.24.2->ibm_watson_machine_learning) (2021.3)\n",
      "Requirement already satisfied: numpy>=1.17.3 in /opt/conda/envs/Python-3.9/lib/python3.9/site-packages (from pandas<1.5.0,>=0.24.2->ibm_watson_machine_learning) (1.20.3)\n",
      "Requirement already satisfied: six>=1.5 in /opt/conda/envs/Python-3.9/lib/python3.9/site-packages (from python-dateutil<3.0.0,>=2.1->ibm-cos-sdk-core==2.11.0->ibm-cos-sdk==2.11.*->ibm_watson_machine_learning) (1.15.0)\n",
      "Requirement already satisfied: idna<4,>=2.5 in /opt/conda/envs/Python-3.9/lib/python3.9/site-packages (from requests->ibm_watson_machine_learning) (3.3)\n",
      "Requirement already satisfied: charset-normalizer~=2.0.0 in /opt/conda/envs/Python-3.9/lib/python3.9/site-packages (from requests->ibm_watson_machine_learning) (2.0.4)\n",
      "Requirement already satisfied: zipp>=0.5 in /opt/conda/envs/Python-3.9/lib/python3.9/site-packages (from importlib-metadata->ibm_watson_machine_learning) (3.6.0)\n",
      "Requirement already satisfied: pyparsing!=3.0.5,>=2.0.2 in /opt/conda/envs/Python-3.9/lib/python3.9/site-packages (from packaging->ibm_watson_machine_learning) (3.0.4)\n"
     ]
    }
   ],
   "source": [
    "!pip install ibm_watson_machine_learning"
   ]
  },
  {
   "cell_type": "code",
   "execution_count": 615,
   "id": "bf771d95",
   "metadata": {},
   "outputs": [],
   "source": [
    "from ibm_watson_machine_learning import APIClient\n",
    "wml_credentials={\n",
    "    \"url\" :\"https://us-south.ml.cloud.ibm.com\",\n",
    "    \"apikey\":\"WezMsA_u5_AkYOA-tEcRDl16kJHorqyB3n8KB7sytask\"\n",
    "}\n",
    "client = APIClient(wml_credentials)"
   ]
  },
  {
   "cell_type": "code",
   "execution_count": 616,
   "id": "4e5ea9df",
   "metadata": {
    "scrolled": false
   },
   "outputs": [
    {
     "name": "stdout",
     "output_type": "stream",
     "text": [
      "Note: 'limit' is not provided. Only first 50 records will be displayed if the number of records exceed 50\n",
      "------------------------------------  ----------  ------------------------\n",
      "ID                                    NAME        CREATED\n",
      "79da55aa-9549-4413-b7ca-ba7e681316e6  deployment  2022-11-12T18:13:33.863Z\n",
      "------------------------------------  ----------  ------------------------\n"
     ]
    }
   ],
   "source": [
    "client.spaces.list()"
   ]
  },
  {
   "cell_type": "code",
   "execution_count": 617,
   "id": "ac1a39e7",
   "metadata": {},
   "outputs": [],
   "source": [
    "space_uid=\"79da55aa-9549-4413-b7ca-ba7e681316e6\""
   ]
  },
  {
   "cell_type": "code",
   "execution_count": 618,
   "id": "fdba2b16",
   "metadata": {},
   "outputs": [
    {
     "data": {
      "text/plain": [
       "'SUCCESS'"
      ]
     },
     "execution_count": 618,
     "metadata": {},
     "output_type": "execute_result"
    }
   ],
   "source": [
    "client.set.default_space(space_uid)"
   ]
  },
  {
   "cell_type": "code",
   "execution_count": 619,
   "id": "7b993eeb",
   "metadata": {},
   "outputs": [
    {
     "name": "stdout",
     "output_type": "stream",
     "text": [
      "-----------------------------  ------------------------------------  ----\n",
      "NAME                           ASSET_ID                              TYPE\n",
      "default_py3.6                  0062b8c9-8b7d-44a0-a9b9-46c416adcbd9  base\n",
      "kernel-spark3.2-scala2.12      020d69ce-7ac1-5e68-ac1a-31189867356a  base\n",
      "pytorch-onnx_1.3-py3.7-edt     069ea134-3346-5748-b513-49120e15d288  base\n",
      "scikit-learn_0.20-py3.6        09c5a1d0-9c1e-4473-a344-eb7b665ff687  base\n",
      "spark-mllib_3.0-scala_2.12     09f4cff0-90a7-5899-b9ed-1ef348aebdee  base\n",
      "pytorch-onnx_rt22.1-py3.9      0b848dd4-e681-5599-be41-b5f6fccc6471  base\n",
      "ai-function_0.1-py3.6          0cdb0f1e-5376-4f4d-92dd-da3b69aa9bda  base\n",
      "shiny-r3.6                     0e6e79df-875e-4f24-8ae9-62dcc2148306  base\n",
      "tensorflow_2.4-py3.7-horovod   1092590a-307d-563d-9b62-4eb7d64b3f22  base\n",
      "pytorch_1.1-py3.6              10ac12d6-6b30-4ccd-8392-3e922c096a92  base\n",
      "tensorflow_1.15-py3.6-ddl      111e41b3-de2d-5422-a4d6-bf776828c4b7  base\n",
      "autoai-kb_rt22.2-py3.10        125b6d9a-5b1f-5e8d-972a-b251688ccf40  base\n",
      "runtime-22.1-py3.9             12b83a17-24d8-5082-900f-0ab31fbfd3cb  base\n",
      "scikit-learn_0.22-py3.6        154010fa-5b3b-4ac1-82af-4d5ee5abbc85  base\n",
      "default_r3.6                   1b70aec3-ab34-4b87-8aa0-a4a3c8296a36  base\n",
      "pytorch-onnx_1.3-py3.6         1bc6029a-cc97-56da-b8e0-39c3880dbbe7  base\n",
      "kernel-spark3.3-r3.6           1c9e5454-f216-59dd-a20e-474a5cdf5988  base\n",
      "pytorch-onnx_rt22.1-py3.9-edt  1d362186-7ad5-5b59-8b6c-9d0880bde37f  base\n",
      "tensorflow_2.1-py3.6           1eb25b84-d6ed-5dde-b6a5-3fbdf1665666  base\n",
      "spark-mllib_3.2                20047f72-0a98-58c7-9ff5-a77b012eb8f5  base\n",
      "tensorflow_2.4-py3.8-horovod   217c16f6-178f-56bf-824a-b19f20564c49  base\n",
      "runtime-22.1-py3.9-cuda        26215f05-08c3-5a41-a1b0-da66306ce658  base\n",
      "do_py3.8                       295addb5-9ef9-547e-9bf4-92ae3563e720  base\n",
      "autoai-ts_3.8-py3.8            2aa0c932-798f-5ae9-abd6-15e0c2402fb5  base\n",
      "tensorflow_1.15-py3.6          2b73a275-7cbf-420b-a912-eae7f436e0bc  base\n",
      "kernel-spark3.3-py3.9          2b7961e2-e3b1-5a8c-a491-482c8368839a  base\n",
      "pytorch_1.2-py3.6              2c8ef57d-2687-4b7d-acce-01f94976dac1  base\n",
      "spark-mllib_2.3                2e51f700-bca0-4b0d-88dc-5c6791338875  base\n",
      "pytorch-onnx_1.1-py3.6-edt     32983cea-3f32-4400-8965-dde874a8d67e  base\n",
      "spark-mllib_3.0-py37           36507ebe-8770-55ba-ab2a-eafe787600e9  base\n",
      "spark-mllib_2.4                390d21f8-e58b-4fac-9c55-d7ceda621326  base\n",
      "autoai-ts_rt22.2-py3.10        396b2e83-0953-5b86-9a55-7ce1628a406f  base\n",
      "xgboost_0.82-py3.6             39e31acd-5f30-41dc-ae44-60233c80306e  base\n",
      "pytorch-onnx_1.2-py3.6-edt     40589d0e-7019-4e28-8daa-fb03b6f4fe12  base\n",
      "pytorch-onnx_rt22.2-py3.10     40e73f55-783a-5535-b3fa-0c8b94291431  base\n",
      "default_r36py38                41c247d3-45f8-5a71-b065-8580229facf0  base\n",
      "autoai-ts_rt22.1-py3.9         4269d26e-07ba-5d40-8f66-2d495b0c71f7  base\n",
      "autoai-obm_3.0                 42b92e18-d9ab-567f-988a-4240ba1ed5f7  base\n",
      "pmml-3.0_4.3                   493bcb95-16f1-5bc5-bee8-81b8af80e9c7  base\n",
      "spark-mllib_2.4-r_3.6          49403dff-92e9-4c87-a3d7-a42d0021c095  base\n",
      "xgboost_0.90-py3.6             4ff8d6c2-1343-4c18-85e1-689c965304d3  base\n",
      "pytorch-onnx_1.1-py3.6         50f95b2a-bc16-43bb-bc94-b0bed208c60b  base\n",
      "autoai-ts_3.9-py3.8            52c57136-80fa-572e-8728-a5e7cbb42cde  base\n",
      "spark-mllib_2.4-scala_2.11     55a70f99-7320-4be5-9fb9-9edb5a443af5  base\n",
      "spark-mllib_3.0                5c1b0ca2-4977-5c2e-9439-ffd44ea8ffe9  base\n",
      "autoai-obm_2.0                 5c2e37fa-80b8-5e77-840f-d912469614ee  base\n",
      "spss-modeler_18.1              5c3cad7e-507f-4b2a-a9a3-ab53a21dee8b  base\n",
      "cuda-py3.8                     5d3232bf-c86b-5df4-a2cd-7bb870a1cd4e  base\n",
      "autoai-kb_3.1-py3.7            632d4b22-10aa-5180-88f0-f52dfb6444d7  base\n",
      "pytorch-onnx_1.7-py3.8         634d3cdc-b562-5bf9-a2d4-ea90a478456b  base\n",
      "-----------------------------  ------------------------------------  ----\n",
      "Note: Only first 50 records were displayed. To display more use 'limit' parameter.\n"
     ]
    }
   ],
   "source": [
    "client.software_specifications.list()"
   ]
  },
  {
   "cell_type": "code",
   "execution_count": 620,
   "id": "c8c0ad98",
   "metadata": {},
   "outputs": [
    {
     "data": {
      "text/plain": [
       "'12b83a17-24d8-5082-900f-0ab31fbfd3cb'"
      ]
     },
     "execution_count": 620,
     "metadata": {},
     "output_type": "execute_result"
    }
   ],
   "source": [
    "software_spec_uid=client.software_specifications.get_uid_by_name(\"runtime-22.1-py3.9\")\n",
    "software_spec_uid"
   ]
  },
  {
   "cell_type": "code",
   "execution_count": 621,
   "id": "de2e8455",
   "metadata": {},
   "outputs": [
    {
     "name": "stdout",
     "output_type": "stream",
     "text": [
      "This method is deprecated, please use get_model_id()\n"
     ]
    }
   ],
   "source": [
    "model_details = client.repository.store_model(model=mod_rs,meta_props={\n",
    "    client.repository.ModelMetaNames.NAME:\"Crop_recommending\",\n",
    "    client.repository.ModelMetaNames.TYPE:\"scikit-learn_1.0\",\n",
    "    client.repository.ModelMetaNames.SOFTWARE_SPEC_UID:software_spec_uid}\n",
    "                                             )\n",
    "model_id=client.repository.get_model_uid(model_details)"
   ]
  },
  {
   "cell_type": "code",
   "execution_count": 622,
   "id": "26374999",
   "metadata": {},
   "outputs": [
    {
     "data": {
      "text/plain": [
       "'b99eedae-48a6-436e-a97c-cdf8870c1890'"
      ]
     },
     "execution_count": 622,
     "metadata": {},
     "output_type": "execute_result"
    }
   ],
   "source": [
    "model_id"
   ]
  },
  {
   "cell_type": "code",
   "execution_count": 623,
   "id": "54e6c8b9",
   "metadata": {},
   "outputs": [
    {
     "data": {
      "text/plain": [
       "sklearn.tree._classes.DecisionTreeClassifier"
      ]
     },
     "execution_count": 623,
     "metadata": {},
     "output_type": "execute_result"
    }
   ],
   "source": [
    "type(mod_rs)"
   ]
  },
  {
   "cell_type": "code",
   "execution_count": 640,
   "id": "6f7ee682",
   "metadata": {},
   "outputs": [
    {
     "data": {
      "text/plain": [
       "'b99eedae-48a6-436e-a97c-cdf8870c1890'"
      ]
     },
     "execution_count": 640,
     "metadata": {},
     "output_type": "execute_result"
    }
   ],
   "source": [
    "client.repository.get_model_id(model_details)"
   ]
  },
  {
   "cell_type": "code",
   "execution_count": 638,
   "id": "b3115f31",
   "metadata": {},
   "outputs": [],
   "source": [
    "deployment_props={\n",
    "    client.deployments.ConfigurationMetaNames.NAME:'deployment',\n",
    "    client.deployments.ConfigurationMetaNames.ONLINE:{}\n",
    "}"
   ]
  },
  {
   "cell_type": "code",
   "execution_count": 641,
   "id": "d7f10601",
   "metadata": {},
   "outputs": [
    {
     "name": "stdout",
     "output_type": "stream",
     "text": [
      "\n",
      "\n",
      "#######################################################################################\n",
      "\n",
      "Synchronous deployment creation for uid: 'b99eedae-48a6-436e-a97c-cdf8870c1890' started\n",
      "\n",
      "#######################################################################################\n",
      "\n",
      "\n",
      "initializing\n",
      "Note: online_url is deprecated and will be removed in a future release. Use serving_urls instead.\n",
      "\n",
      "ready\n",
      "\n",
      "\n",
      "------------------------------------------------------------------------------------------------\n",
      "Successfully finished deployment creation, deployment_uid='e49b35f5-4066-4181-9c8a-91476859e653'\n",
      "------------------------------------------------------------------------------------------------\n",
      "\n",
      "\n"
     ]
    }
   ],
   "source": [
    "deployment=client.deployments.create('b99eedae-48a6-436e-a97c-cdf8870c1890',meta_props=deployment_props)"
   ]
  },
  {
   "cell_type": "code",
   "execution_count": 631,
   "id": "3ebccf9e",
   "metadata": {},
   "outputs": [],
   "source": [
    "import pickle\n",
    "with open('mod.pkl','wb') as files:\n",
    "    pickle.dump(mod_rs,files)"
   ]
  },
  {
   "cell_type": "code",
   "execution_count": 632,
   "id": "35429fe5",
   "metadata": {},
   "outputs": [],
   "source": [
    "with open('mod.pkl','rb') as f:\n",
    "    lr = pickle.load(f)"
   ]
  },
  {
   "cell_type": "code",
   "execution_count": null,
   "id": "ae49b8f2",
   "metadata": {},
   "outputs": [],
   "source": []
  }
 ],
 "metadata": {
  "colab": {
   "provenance": []
  },
  "kernelspec": {
   "display_name": "Python 3",
   "language": "python",
   "name": "python3"
  },
  "language_info": {
   "codemirror_mode": {
    "name": "ipython",
    "version": 3
   },
   "file_extension": ".py",
   "mimetype": "text/x-python",
   "name": "python",
   "nbconvert_exporter": "python",
   "pygments_lexer": "ipython3",
   "version": "3.10.10"
  },
  "vscode": {
   "interpreter": {
    "hash": "3ae97267e6c152303c811fca638ce30552b380dd39794005e46908c8c88be7d4"
   }
  }
 },
 "nbformat": 4,
 "nbformat_minor": 5
}
